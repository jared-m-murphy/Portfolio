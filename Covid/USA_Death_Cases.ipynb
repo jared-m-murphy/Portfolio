{
 "cells": [
  {
   "cell_type": "code",
   "execution_count": 1,
   "metadata": {},
   "outputs": [],
   "source": [
    "#This is using johns hopkins data to verify googles death counts for covid\n",
    "import pandas as pd\n",
    "import numpy as np\n",
    "import matplotlib.pyplot as plt\n",
    "plt.rcParams['figure.figsize'] = [12, 8]"
   ]
  },
  {
   "cell_type": "code",
   "execution_count": 2,
   "metadata": {},
   "outputs": [
    {
     "data": {
      "text/html": [
       "<div>\n",
       "<style scoped>\n",
       "    .dataframe tbody tr th:only-of-type {\n",
       "        vertical-align: middle;\n",
       "    }\n",
       "\n",
       "    .dataframe tbody tr th {\n",
       "        vertical-align: top;\n",
       "    }\n",
       "\n",
       "    .dataframe thead th {\n",
       "        text-align: right;\n",
       "    }\n",
       "</style>\n",
       "<table border=\"1\" class=\"dataframe\">\n",
       "  <thead>\n",
       "    <tr style=\"text-align: right;\">\n",
       "      <th></th>\n",
       "      <th>DeathTotal</th>\n",
       "      <th>NewDeath</th>\n",
       "    </tr>\n",
       "  </thead>\n",
       "  <tbody>\n",
       "    <tr>\n",
       "      <th>12/13/20</th>\n",
       "      <td>299536</td>\n",
       "      <td>1379.0</td>\n",
       "    </tr>\n",
       "    <tr>\n",
       "      <th>12/14/20</th>\n",
       "      <td>301021</td>\n",
       "      <td>1485.0</td>\n",
       "    </tr>\n",
       "    <tr>\n",
       "      <th>12/15/20</th>\n",
       "      <td>304083</td>\n",
       "      <td>3062.0</td>\n",
       "    </tr>\n",
       "    <tr>\n",
       "      <th>12/16/20</th>\n",
       "      <td>307755</td>\n",
       "      <td>3672.0</td>\n",
       "    </tr>\n",
       "    <tr>\n",
       "      <th>12/17/20</th>\n",
       "      <td>311101</td>\n",
       "      <td>3346.0</td>\n",
       "    </tr>\n",
       "    <tr>\n",
       "      <th>12/18/20</th>\n",
       "      <td>313898</td>\n",
       "      <td>2797.0</td>\n",
       "    </tr>\n",
       "    <tr>\n",
       "      <th>12/19/20</th>\n",
       "      <td>316382</td>\n",
       "      <td>2484.0</td>\n",
       "    </tr>\n",
       "    <tr>\n",
       "      <th>12/20/20</th>\n",
       "      <td>317877</td>\n",
       "      <td>1495.0</td>\n",
       "    </tr>\n",
       "    <tr>\n",
       "      <th>12/21/20</th>\n",
       "      <td>319664</td>\n",
       "      <td>1787.0</td>\n",
       "    </tr>\n",
       "    <tr>\n",
       "      <th>12/22/20</th>\n",
       "      <td>323037</td>\n",
       "      <td>3373.0</td>\n",
       "    </tr>\n",
       "    <tr>\n",
       "      <th>12/23/20</th>\n",
       "      <td>326391</td>\n",
       "      <td>3354.0</td>\n",
       "    </tr>\n",
       "    <tr>\n",
       "      <th>12/24/20</th>\n",
       "      <td>329258</td>\n",
       "      <td>2867.0</td>\n",
       "    </tr>\n",
       "    <tr>\n",
       "      <th>12/25/20</th>\n",
       "      <td>330434</td>\n",
       "      <td>1176.0</td>\n",
       "    </tr>\n",
       "    <tr>\n",
       "      <th>12/26/20</th>\n",
       "      <td>332075</td>\n",
       "      <td>1641.0</td>\n",
       "    </tr>\n",
       "    <tr>\n",
       "      <th>12/27/20</th>\n",
       "      <td>333289</td>\n",
       "      <td>1214.0</td>\n",
       "    </tr>\n",
       "    <tr>\n",
       "      <th>12/28/20</th>\n",
       "      <td>335130</td>\n",
       "      <td>1841.0</td>\n",
       "    </tr>\n",
       "    <tr>\n",
       "      <th>12/29/20</th>\n",
       "      <td>338793</td>\n",
       "      <td>3663.0</td>\n",
       "    </tr>\n",
       "    <tr>\n",
       "      <th>12/30/20</th>\n",
       "      <td>342542</td>\n",
       "      <td>3749.0</td>\n",
       "    </tr>\n",
       "    <tr>\n",
       "      <th>12/31/20</th>\n",
       "      <td>345955</td>\n",
       "      <td>3413.0</td>\n",
       "    </tr>\n",
       "    <tr>\n",
       "      <th>1/1/21</th>\n",
       "      <td>347982</td>\n",
       "      <td>2027.0</td>\n",
       "    </tr>\n",
       "    <tr>\n",
       "      <th>1/2/21</th>\n",
       "      <td>350310</td>\n",
       "      <td>2328.0</td>\n",
       "    </tr>\n",
       "    <tr>\n",
       "      <th>1/3/21</th>\n",
       "      <td>351657</td>\n",
       "      <td>1347.0</td>\n",
       "    </tr>\n",
       "    <tr>\n",
       "      <th>1/4/21</th>\n",
       "      <td>353652</td>\n",
       "      <td>1995.0</td>\n",
       "    </tr>\n",
       "    <tr>\n",
       "      <th>1/5/21</th>\n",
       "      <td>357402</td>\n",
       "      <td>3750.0</td>\n",
       "    </tr>\n",
       "    <tr>\n",
       "      <th>1/6/21</th>\n",
       "      <td>361292</td>\n",
       "      <td>3890.0</td>\n",
       "    </tr>\n",
       "    <tr>\n",
       "      <th>1/7/21</th>\n",
       "      <td>365242</td>\n",
       "      <td>3950.0</td>\n",
       "    </tr>\n",
       "    <tr>\n",
       "      <th>1/8/21</th>\n",
       "      <td>369279</td>\n",
       "      <td>4037.0</td>\n",
       "    </tr>\n",
       "    <tr>\n",
       "      <th>1/9/21</th>\n",
       "      <td>372530</td>\n",
       "      <td>3251.0</td>\n",
       "    </tr>\n",
       "    <tr>\n",
       "      <th>1/10/21</th>\n",
       "      <td>374354</td>\n",
       "      <td>1824.0</td>\n",
       "    </tr>\n",
       "    <tr>\n",
       "      <th>1/11/21</th>\n",
       "      <td>376360</td>\n",
       "      <td>2006.0</td>\n",
       "    </tr>\n",
       "    <tr>\n",
       "      <th>1/12/21</th>\n",
       "      <td>380826</td>\n",
       "      <td>4466.0</td>\n",
       "    </tr>\n",
       "    <tr>\n",
       "      <th>1/13/21</th>\n",
       "      <td>384790</td>\n",
       "      <td>3964.0</td>\n",
       "    </tr>\n",
       "    <tr>\n",
       "      <th>1/14/21</th>\n",
       "      <td>388720</td>\n",
       "      <td>3930.0</td>\n",
       "    </tr>\n",
       "    <tr>\n",
       "      <th>1/15/21</th>\n",
       "      <td>392525</td>\n",
       "      <td>3805.0</td>\n",
       "    </tr>\n",
       "    <tr>\n",
       "      <th>1/16/21</th>\n",
       "      <td>395877</td>\n",
       "      <td>3352.0</td>\n",
       "    </tr>\n",
       "    <tr>\n",
       "      <th>1/17/21</th>\n",
       "      <td>397628</td>\n",
       "      <td>1751.0</td>\n",
       "    </tr>\n",
       "    <tr>\n",
       "      <th>1/18/21</th>\n",
       "      <td>399033</td>\n",
       "      <td>1405.0</td>\n",
       "    </tr>\n",
       "    <tr>\n",
       "      <th>1/19/21</th>\n",
       "      <td>401807</td>\n",
       "      <td>2774.0</td>\n",
       "    </tr>\n",
       "    <tr>\n",
       "      <th>1/20/21</th>\n",
       "      <td>406184</td>\n",
       "      <td>4377.0</td>\n",
       "    </tr>\n",
       "    <tr>\n",
       "      <th>1/21/21</th>\n",
       "      <td>410387</td>\n",
       "      <td>4203.0</td>\n",
       "    </tr>\n",
       "    <tr>\n",
       "      <th>1/22/21</th>\n",
       "      <td>414147</td>\n",
       "      <td>3760.0</td>\n",
       "    </tr>\n",
       "    <tr>\n",
       "      <th>1/23/21</th>\n",
       "      <td>417476</td>\n",
       "      <td>3329.0</td>\n",
       "    </tr>\n",
       "    <tr>\n",
       "      <th>1/24/21</th>\n",
       "      <td>419251</td>\n",
       "      <td>1775.0</td>\n",
       "    </tr>\n",
       "    <tr>\n",
       "      <th>1/25/21</th>\n",
       "      <td>421168</td>\n",
       "      <td>1917.0</td>\n",
       "    </tr>\n",
       "    <tr>\n",
       "      <th>1/26/21</th>\n",
       "      <td>425252</td>\n",
       "      <td>4084.0</td>\n",
       "    </tr>\n",
       "    <tr>\n",
       "      <th>1/27/21</th>\n",
       "      <td>429195</td>\n",
       "      <td>3943.0</td>\n",
       "    </tr>\n",
       "    <tr>\n",
       "      <th>1/28/21</th>\n",
       "      <td>433195</td>\n",
       "      <td>4000.0</td>\n",
       "    </tr>\n",
       "    <tr>\n",
       "      <th>1/29/21</th>\n",
       "      <td>436799</td>\n",
       "      <td>3604.0</td>\n",
       "    </tr>\n",
       "    <tr>\n",
       "      <th>1/30/21</th>\n",
       "      <td>439530</td>\n",
       "      <td>2731.0</td>\n",
       "    </tr>\n",
       "    <tr>\n",
       "      <th>1/31/21</th>\n",
       "      <td>441324</td>\n",
       "      <td>1794.0</td>\n",
       "    </tr>\n",
       "  </tbody>\n",
       "</table>\n",
       "</div>"
      ],
      "text/plain": [
       "          DeathTotal  NewDeath\n",
       "12/13/20      299536    1379.0\n",
       "12/14/20      301021    1485.0\n",
       "12/15/20      304083    3062.0\n",
       "12/16/20      307755    3672.0\n",
       "12/17/20      311101    3346.0\n",
       "12/18/20      313898    2797.0\n",
       "12/19/20      316382    2484.0\n",
       "12/20/20      317877    1495.0\n",
       "12/21/20      319664    1787.0\n",
       "12/22/20      323037    3373.0\n",
       "12/23/20      326391    3354.0\n",
       "12/24/20      329258    2867.0\n",
       "12/25/20      330434    1176.0\n",
       "12/26/20      332075    1641.0\n",
       "12/27/20      333289    1214.0\n",
       "12/28/20      335130    1841.0\n",
       "12/29/20      338793    3663.0\n",
       "12/30/20      342542    3749.0\n",
       "12/31/20      345955    3413.0\n",
       "1/1/21        347982    2027.0\n",
       "1/2/21        350310    2328.0\n",
       "1/3/21        351657    1347.0\n",
       "1/4/21        353652    1995.0\n",
       "1/5/21        357402    3750.0\n",
       "1/6/21        361292    3890.0\n",
       "1/7/21        365242    3950.0\n",
       "1/8/21        369279    4037.0\n",
       "1/9/21        372530    3251.0\n",
       "1/10/21       374354    1824.0\n",
       "1/11/21       376360    2006.0\n",
       "1/12/21       380826    4466.0\n",
       "1/13/21       384790    3964.0\n",
       "1/14/21       388720    3930.0\n",
       "1/15/21       392525    3805.0\n",
       "1/16/21       395877    3352.0\n",
       "1/17/21       397628    1751.0\n",
       "1/18/21       399033    1405.0\n",
       "1/19/21       401807    2774.0\n",
       "1/20/21       406184    4377.0\n",
       "1/21/21       410387    4203.0\n",
       "1/22/21       414147    3760.0\n",
       "1/23/21       417476    3329.0\n",
       "1/24/21       419251    1775.0\n",
       "1/25/21       421168    1917.0\n",
       "1/26/21       425252    4084.0\n",
       "1/27/21       429195    3943.0\n",
       "1/28/21       433195    4000.0\n",
       "1/29/21       436799    3604.0\n",
       "1/30/21       439530    2731.0\n",
       "1/31/21       441324    1794.0"
      ]
     },
     "execution_count": 2,
     "metadata": {},
     "output_type": "execute_result"
    }
   ],
   "source": [
    "death=pd.read_csv('https://data.humdata.org/hxlproxy/api/data-preview.csv?url=https%3A%2F%2Fraw.githubusercontent.com%2FCSSEGISandData%2FCOVID-19%2Fmaster%2Fcsse_covid_19_data%2Fcsse_covid_19_time_series%2Ftime_series_covid19_deaths_global.csv&filename=time_series_covid19_deaths_global.csv')\n",
    "usadeath=pd.DataFrame(death.loc[death['Country/Region'].str.contains('US')])\n",
    "usadeath=usadeath.drop(columns=['Province/State','Country/Region','Lat','Long']).T\n",
    "usadeath.columns=['DeathTotal']\n",
    "usadeath['NewDeath']=usadeath['DeathTotal'].diff(1)\n",
    "usadeath.tail(50)"
   ]
  },
  {
   "cell_type": "code",
   "execution_count": 3,
   "metadata": {},
   "outputs": [
    {
     "data": {
      "text/plain": [
       "<AxesSubplot:>"
      ]
     },
     "execution_count": 3,
     "metadata": {},
     "output_type": "execute_result"
    },
    {
     "data": {
      "image/png": "[encoded data removed]",
      "text/plain": [
       "<Figure size 864x576 with 1 Axes>"
      ]
     },
     "metadata": {
      "needs_background": "light"
     },
     "output_type": "display_data"
    }
   ],
   "source": [
    "usadeath.DeathTotal.plot()"
   ]
  },
  {
   "cell_type": "code",
   "execution_count": 4,
   "metadata": {},
   "outputs": [
    {
     "data": {
      "text/plain": [
       "<AxesSubplot:>"
      ]
     },
     "execution_count": 4,
     "metadata": {},
     "output_type": "execute_result"
    },
    {
     "data": {
      "image/png": "[encoded data removed]",
      "text/plain": [
       "<Figure size 864x576 with 1 Axes>"
      ]
     },
     "metadata": {
      "needs_background": "light"
     },
     "output_type": "display_data"
    }
   ],
   "source": [
    "usadeath.NewDeath.plot()"
   ]
  },
  {
   "cell_type": "code",
   "execution_count": 5,
   "metadata": {},
   "outputs": [
    {
     "data": {
      "text/html": [
       "<div>\n",
       "<style scoped>\n",
       "    .dataframe tbody tr th:only-of-type {\n",
       "        vertical-align: middle;\n",
       "    }\n",
       "\n",
       "    .dataframe tbody tr th {\n",
       "        vertical-align: top;\n",
       "    }\n",
       "\n",
       "    .dataframe thead th {\n",
       "        text-align: right;\n",
       "    }\n",
       "</style>\n",
       "<table border=\"1\" class=\"dataframe\">\n",
       "  <thead>\n",
       "    <tr style=\"text-align: right;\">\n",
       "      <th></th>\n",
       "      <th>NewDeath</th>\n",
       "    </tr>\n",
       "  </thead>\n",
       "  <tbody>\n",
       "    <tr>\n",
       "      <th>1/12/21</th>\n",
       "      <td>4466.0</td>\n",
       "    </tr>\n",
       "  </tbody>\n",
       "</table>\n",
       "</div>"
      ],
      "text/plain": [
       "         NewDeath\n",
       "1/12/21    4466.0"
      ]
     },
     "execution_count": 5,
     "metadata": {},
     "output_type": "execute_result"
    }
   ],
   "source": [
    "usadeath[['NewDeath']].loc[usadeath.NewDeath==usadeath.NewDeath.max()]"
   ]
  },
  {
   "cell_type": "code",
   "execution_count": 6,
   "metadata": {},
   "outputs": [
    {
     "data": {
      "text/plain": [
       "1/2/21     33928.0\n",
       "1/3/21     33780.0\n",
       "1/4/21     33988.0\n",
       "1/5/21     34365.0\n",
       "1/6/21     34901.0\n",
       "1/7/21     35984.0\n",
       "1/8/21     38845.0\n",
       "1/9/21     40455.0\n",
       "1/10/21    41065.0\n",
       "1/11/21    41230.0\n",
       "1/12/21    42033.0\n",
       "1/13/21    42248.0\n",
       "1/14/21    42765.0\n",
       "1/15/21    44543.0\n",
       "1/16/21    45567.0\n",
       "1/17/21    45971.0\n",
       "1/18/21    45381.0\n",
       "1/19/21    44405.0\n",
       "1/20/21    44892.0\n",
       "1/21/21    45145.0\n",
       "1/22/21    44868.0\n",
       "1/23/21    44946.0\n",
       "1/24/21    44897.0\n",
       "1/25/21    44808.0\n",
       "1/26/21    44426.0\n",
       "1/27/21    44405.0\n",
       "1/28/21    44475.0\n",
       "1/29/21    44274.0\n",
       "1/30/21    43653.0\n",
       "1/31/21    43696.0\n",
       "Name: NewDeath, dtype: float64"
      ]
     },
     "execution_count": 6,
     "metadata": {},
     "output_type": "execute_result"
    }
   ],
   "source": [
    "usadeath.NewDeath.rolling(14).sum().tail(30)"
   ]
  },
  {
   "cell_type": "code",
   "execution_count": 7,
   "metadata": {},
   "outputs": [
    {
     "data": {
      "text/plain": [
       "12/3/20     499.071429\n",
       "12/4/20     501.357143\n",
       "12/5/20     519.214286\n",
       "12/6/20     508.785714\n",
       "12/7/20     526.428571\n",
       "12/8/20     505.214286\n",
       "12/9/20     498.714286\n",
       "12/10/20    612.642857\n",
       "12/11/20    729.214286\n",
       "12/12/20    807.357143\n",
       "12/13/20    832.000000\n",
       "12/14/20    820.285714\n",
       "12/15/20    793.214286\n",
       "12/16/20    791.928571\n",
       "12/17/20    765.000000\n",
       "12/18/20    726.142857\n",
       "12/19/20    694.785714\n",
       "12/20/20    703.928571\n",
       "12/21/20    692.000000\n",
       "12/22/20    719.357143\n",
       "12/23/20    685.642857\n",
       "12/24/20    566.285714\n",
       "12/25/20    279.142857\n",
       "12/26/20    156.357143\n",
       "12/27/20    106.214286\n",
       "12/28/20    111.214286\n",
       "12/29/20    118.357143\n",
       "12/30/20     60.428571\n",
       "12/31/20     29.714286\n",
       "1/1/21      -38.428571\n",
       "1/2/21      -69.714286\n",
       "1/3/21     -106.714286\n",
       "1/4/21     -115.571429\n",
       "1/5/21     -147.428571\n",
       "1/6/21     -130.500000\n",
       "1/7/21      -51.785714\n",
       "1/8/21      305.142857\n",
       "1/9/21      466.928571\n",
       "1/10/21     522.285714\n",
       "1/11/21     508.642857\n",
       "1/12/21     523.071429\n",
       "1/13/21     532.928571\n",
       "1/14/21     565.071429\n",
       "1/15/21     747.071429\n",
       "1/16/21     831.357143\n",
       "1/17/21     870.785714\n",
       "1/18/21     813.785714\n",
       "1/19/21     717.142857\n",
       "1/20/21     713.642857\n",
       "1/21/21     654.357143\n",
       "1/22/21     430.214286\n",
       "1/23/21     320.785714\n",
       "1/24/21     273.714286\n",
       "1/25/21     255.571429\n",
       "1/26/21     170.928571\n",
       "1/27/21     154.071429\n",
       "1/28/21     122.142857\n",
       "1/29/21     -19.214286\n",
       "1/30/21    -136.714286\n",
       "1/31/21    -162.500000\n",
       "Name: NewDeath, dtype: float64"
      ]
     },
     "execution_count": 7,
     "metadata": {},
     "output_type": "execute_result"
    }
   ],
   "source": [
    "#Shows 14 Day summed rate of change for the 14 day sum of deaths.\n",
    "usadeath.NewDeath.rolling(14).sum().diff().rolling(14).mean().tail(60)"
   ]
  },
  {
   "cell_type": "code",
   "execution_count": 45,
   "metadata": {},
   "outputs": [
    {
     "data": {
      "text/plain": [
       "<AxesSubplot:>"
      ]
     },
     "execution_count": 45,
     "metadata": {},
     "output_type": "execute_result"
    },
    {
     "data": {
      "image/png": "[encoded data removed]",
      "text/plain": [
       "<Figure size 864x864 with 1 Axes>"
      ]
     },
     "metadata": {
      "needs_background": "light"
     },
     "output_type": "display_data"
    }
   ],
   "source": [
    "usadeath.NewDeath.rolling(14).sum().plot()"
   ]
  },
  {
   "cell_type": "code",
   "execution_count": 9,
   "metadata": {},
   "outputs": [
    {
     "data": {
      "text/html": [
       "<div>\n",
       "<style scoped>\n",
       "    .dataframe tbody tr th:only-of-type {\n",
       "        vertical-align: middle;\n",
       "    }\n",
       "\n",
       "    .dataframe tbody tr th {\n",
       "        vertical-align: top;\n",
       "    }\n",
       "\n",
       "    .dataframe thead th {\n",
       "        text-align: right;\n",
       "    }\n",
       "</style>\n",
       "<table border=\"1\" class=\"dataframe\">\n",
       "  <thead>\n",
       "    <tr style=\"text-align: right;\">\n",
       "      <th></th>\n",
       "      <th>CaseTotal</th>\n",
       "      <th>NewCases</th>\n",
       "    </tr>\n",
       "  </thead>\n",
       "  <tbody>\n",
       "    <tr>\n",
       "      <th>12/23/20</th>\n",
       "      <td>18549642</td>\n",
       "      <td>228761.0</td>\n",
       "    </tr>\n",
       "    <tr>\n",
       "      <th>12/24/20</th>\n",
       "      <td>18742803</td>\n",
       "      <td>193161.0</td>\n",
       "    </tr>\n",
       "    <tr>\n",
       "      <th>12/25/20</th>\n",
       "      <td>18839532</td>\n",
       "      <td>96729.0</td>\n",
       "    </tr>\n",
       "    <tr>\n",
       "      <th>12/26/20</th>\n",
       "      <td>19066376</td>\n",
       "      <td>226844.0</td>\n",
       "    </tr>\n",
       "    <tr>\n",
       "      <th>12/27/20</th>\n",
       "      <td>19222064</td>\n",
       "      <td>155688.0</td>\n",
       "    </tr>\n",
       "    <tr>\n",
       "      <th>12/28/20</th>\n",
       "      <td>19396237</td>\n",
       "      <td>174173.0</td>\n",
       "    </tr>\n",
       "    <tr>\n",
       "      <th>12/29/20</th>\n",
       "      <td>19595117</td>\n",
       "      <td>198880.0</td>\n",
       "    </tr>\n",
       "    <tr>\n",
       "      <th>12/30/20</th>\n",
       "      <td>19827133</td>\n",
       "      <td>232016.0</td>\n",
       "    </tr>\n",
       "    <tr>\n",
       "      <th>12/31/20</th>\n",
       "      <td>20061049</td>\n",
       "      <td>233916.0</td>\n",
       "    </tr>\n",
       "    <tr>\n",
       "      <th>1/1/21</th>\n",
       "      <td>20213393</td>\n",
       "      <td>152344.0</td>\n",
       "    </tr>\n",
       "    <tr>\n",
       "      <th>1/2/21</th>\n",
       "      <td>20513675</td>\n",
       "      <td>300282.0</td>\n",
       "    </tr>\n",
       "    <tr>\n",
       "      <th>1/3/21</th>\n",
       "      <td>20722231</td>\n",
       "      <td>208556.0</td>\n",
       "    </tr>\n",
       "    <tr>\n",
       "      <th>1/4/21</th>\n",
       "      <td>20906021</td>\n",
       "      <td>183790.0</td>\n",
       "    </tr>\n",
       "    <tr>\n",
       "      <th>1/5/21</th>\n",
       "      <td>21139547</td>\n",
       "      <td>233526.0</td>\n",
       "    </tr>\n",
       "    <tr>\n",
       "      <th>1/6/21</th>\n",
       "      <td>21393464</td>\n",
       "      <td>253917.0</td>\n",
       "    </tr>\n",
       "    <tr>\n",
       "      <th>1/7/21</th>\n",
       "      <td>21670202</td>\n",
       "      <td>276738.0</td>\n",
       "    </tr>\n",
       "    <tr>\n",
       "      <th>1/8/21</th>\n",
       "      <td>21962246</td>\n",
       "      <td>292044.0</td>\n",
       "    </tr>\n",
       "    <tr>\n",
       "      <th>1/9/21</th>\n",
       "      <td>22224220</td>\n",
       "      <td>261974.0</td>\n",
       "    </tr>\n",
       "    <tr>\n",
       "      <th>1/10/21</th>\n",
       "      <td>22437501</td>\n",
       "      <td>213281.0</td>\n",
       "    </tr>\n",
       "    <tr>\n",
       "      <th>1/11/21</th>\n",
       "      <td>22651464</td>\n",
       "      <td>213963.0</td>\n",
       "    </tr>\n",
       "    <tr>\n",
       "      <th>1/12/21</th>\n",
       "      <td>22877702</td>\n",
       "      <td>226238.0</td>\n",
       "    </tr>\n",
       "    <tr>\n",
       "      <th>1/13/21</th>\n",
       "      <td>23107573</td>\n",
       "      <td>229871.0</td>\n",
       "    </tr>\n",
       "    <tr>\n",
       "      <th>1/14/21</th>\n",
       "      <td>23342548</td>\n",
       "      <td>234975.0</td>\n",
       "    </tr>\n",
       "    <tr>\n",
       "      <th>1/15/21</th>\n",
       "      <td>23583255</td>\n",
       "      <td>240707.0</td>\n",
       "    </tr>\n",
       "    <tr>\n",
       "      <th>1/16/21</th>\n",
       "      <td>23784019</td>\n",
       "      <td>200764.0</td>\n",
       "    </tr>\n",
       "    <tr>\n",
       "      <th>1/17/21</th>\n",
       "      <td>23961423</td>\n",
       "      <td>177404.0</td>\n",
       "    </tr>\n",
       "    <tr>\n",
       "      <th>1/18/21</th>\n",
       "      <td>24104028</td>\n",
       "      <td>142605.0</td>\n",
       "    </tr>\n",
       "    <tr>\n",
       "      <th>1/19/21</th>\n",
       "      <td>24281012</td>\n",
       "      <td>176984.0</td>\n",
       "    </tr>\n",
       "    <tr>\n",
       "      <th>1/20/21</th>\n",
       "      <td>24463591</td>\n",
       "      <td>182579.0</td>\n",
       "    </tr>\n",
       "    <tr>\n",
       "      <th>1/21/21</th>\n",
       "      <td>24656646</td>\n",
       "      <td>193055.0</td>\n",
       "    </tr>\n",
       "    <tr>\n",
       "      <th>1/22/21</th>\n",
       "      <td>24846678</td>\n",
       "      <td>190032.0</td>\n",
       "    </tr>\n",
       "    <tr>\n",
       "      <th>1/23/21</th>\n",
       "      <td>25016816</td>\n",
       "      <td>170138.0</td>\n",
       "    </tr>\n",
       "    <tr>\n",
       "      <th>1/24/21</th>\n",
       "      <td>25147891</td>\n",
       "      <td>131075.0</td>\n",
       "    </tr>\n",
       "    <tr>\n",
       "      <th>1/25/21</th>\n",
       "      <td>25298986</td>\n",
       "      <td>151095.0</td>\n",
       "    </tr>\n",
       "    <tr>\n",
       "      <th>1/26/21</th>\n",
       "      <td>25445583</td>\n",
       "      <td>146597.0</td>\n",
       "    </tr>\n",
       "    <tr>\n",
       "      <th>1/27/21</th>\n",
       "      <td>25598061</td>\n",
       "      <td>152478.0</td>\n",
       "    </tr>\n",
       "    <tr>\n",
       "      <th>1/28/21</th>\n",
       "      <td>25766681</td>\n",
       "      <td>168620.0</td>\n",
       "    </tr>\n",
       "    <tr>\n",
       "      <th>1/29/21</th>\n",
       "      <td>25932794</td>\n",
       "      <td>166113.0</td>\n",
       "    </tr>\n",
       "    <tr>\n",
       "      <th>1/30/21</th>\n",
       "      <td>26074885</td>\n",
       "      <td>142091.0</td>\n",
       "    </tr>\n",
       "    <tr>\n",
       "      <th>1/31/21</th>\n",
       "      <td>26186781</td>\n",
       "      <td>111896.0</td>\n",
       "    </tr>\n",
       "  </tbody>\n",
       "</table>\n",
       "</div>"
      ],
      "text/plain": [
       "          CaseTotal  NewCases\n",
       "12/23/20   18549642  228761.0\n",
       "12/24/20   18742803  193161.0\n",
       "12/25/20   18839532   96729.0\n",
       "12/26/20   19066376  226844.0\n",
       "12/27/20   19222064  155688.0\n",
       "12/28/20   19396237  174173.0\n",
       "12/29/20   19595117  198880.0\n",
       "12/30/20   19827133  232016.0\n",
       "12/31/20   20061049  233916.0\n",
       "1/1/21     20213393  152344.0\n",
       "1/2/21     20513675  300282.0\n",
       "1/3/21     20722231  208556.0\n",
       "1/4/21     20906021  183790.0\n",
       "1/5/21     21139547  233526.0\n",
       "1/6/21     21393464  253917.0\n",
       "1/7/21     21670202  276738.0\n",
       "1/8/21     21962246  292044.0\n",
       "1/9/21     22224220  261974.0\n",
       "1/10/21    22437501  213281.0\n",
       "1/11/21    22651464  213963.0\n",
       "1/12/21    22877702  226238.0\n",
       "1/13/21    23107573  229871.0\n",
       "1/14/21    23342548  234975.0\n",
       "1/15/21    23583255  240707.0\n",
       "1/16/21    23784019  200764.0\n",
       "1/17/21    23961423  177404.0\n",
       "1/18/21    24104028  142605.0\n",
       "1/19/21    24281012  176984.0\n",
       "1/20/21    24463591  182579.0\n",
       "1/21/21    24656646  193055.0\n",
       "1/22/21    24846678  190032.0\n",
       "1/23/21    25016816  170138.0\n",
       "1/24/21    25147891  131075.0\n",
       "1/25/21    25298986  151095.0\n",
       "1/26/21    25445583  146597.0\n",
       "1/27/21    25598061  152478.0\n",
       "1/28/21    25766681  168620.0\n",
       "1/29/21    25932794  166113.0\n",
       "1/30/21    26074885  142091.0\n",
       "1/31/21    26186781  111896.0"
      ]
     },
     "execution_count": 9,
     "metadata": {},
     "output_type": "execute_result"
    }
   ],
   "source": [
    "cases=pd.read_csv('https://data.humdata.org/hxlproxy/api/data-preview.csv?url=https%3A%2F%2Fraw.githubusercontent.com%2FCSSEGISandData%2FCOVID-19%2Fmaster%2Fcsse_covid_19_data%2Fcsse_covid_19_time_series%2Ftime_series_covid19_confirmed_global.csv&filename=time_series_covid19_confirmed_global.csv')\n",
    "usacases=pd.DataFrame(cases.loc[cases['Country/Region'].str.contains('US')])\n",
    "usacases=usacases.drop(columns=['Province/State','Country/Region','Lat','Long']).T\n",
    "usacases.columns=['CaseTotal']\n",
    "usacases['NewCases']=usacases['CaseTotal'].diff(1)\n",
    "usacases.tail(40)"
   ]
  },
  {
   "cell_type": "code",
   "execution_count": 10,
   "metadata": {},
   "outputs": [
    {
     "data": {
      "text/plain": [
       "<AxesSubplot:>"
      ]
     },
     "execution_count": 10,
     "metadata": {},
     "output_type": "execute_result"
    },
    {
     "data": {
      "image/png": "[encoded data removed]",
      "text/plain": [
       "<Figure size 864x576 with 1 Axes>"
      ]
     },
     "metadata": {
      "needs_background": "light"
     },
     "output_type": "display_data"
    }
   ],
   "source": [
    "usacases.CaseTotal.plot()"
   ]
  },
  {
   "cell_type": "code",
   "execution_count": 11,
   "metadata": {},
   "outputs": [
    {
     "data": {
      "text/plain": [
       "<AxesSubplot:>"
      ]
     },
     "execution_count": 11,
     "metadata": {},
     "output_type": "execute_result"
    },
    {
     "data": {
      "image/png": "[encoded data removed]",
      "text/plain": [
       "<Figure size 864x576 with 1 Axes>"
      ]
     },
     "metadata": {
      "needs_background": "light"
     },
     "output_type": "display_data"
    }
   ],
   "source": [
    "usacases.NewCases.plot()"
   ]
  },
  {
   "cell_type": "code",
   "execution_count": 12,
   "metadata": {},
   "outputs": [
    {
     "data": {
      "text/plain": [
       "<AxesSubplot:>"
      ]
     },
     "execution_count": 12,
     "metadata": {},
     "output_type": "execute_result"
    },
    {
     "data": {
      "image/png": "[encoded data removed]",
      "text/plain": [
       "<Figure size 864x576 with 1 Axes>"
      ]
     },
     "metadata": {
      "needs_background": "light"
     },
     "output_type": "display_data"
    }
   ],
   "source": [
    "usacases.NewCases.rolling(7).sum().plot()"
   ]
  },
  {
   "cell_type": "code",
   "execution_count": 13,
   "metadata": {},
   "outputs": [
    {
     "data": {
      "text/plain": [
       "1/2/21     2776191.0\n",
       "1/3/21     2797198.0\n",
       "1/4/21     2782380.0\n",
       "1/5/21     2818666.0\n",
       "1/6/21     2843822.0\n",
       "1/7/21     2927399.0\n",
       "1/8/21     3122714.0\n",
       "1/9/21     3157844.0\n",
       "1/10/21    3215437.0\n",
       "1/11/21    3255227.0\n",
       "1/12/21    3282585.0\n",
       "1/13/21    3280440.0\n",
       "1/14/21    3281499.0\n",
       "1/15/21    3369862.0\n",
       "1/16/21    3270344.0\n",
       "1/17/21    3239192.0\n",
       "1/18/21    3198007.0\n",
       "1/19/21    3141465.0\n",
       "1/20/21    3070127.0\n",
       "1/21/21    2986444.0\n",
       "1/22/21    2884432.0\n",
       "1/23/21    2792596.0\n",
       "1/24/21    2710390.0\n",
       "1/25/21    2647522.0\n",
       "1/26/21    2567881.0\n",
       "1/27/21    2490488.0\n",
       "1/28/21    2424133.0\n",
       "1/29/21    2349539.0\n",
       "1/30/21    2290866.0\n",
       "1/31/21    2225358.0\n",
       "Name: NewCases, dtype: float64"
      ]
     },
     "execution_count": 13,
     "metadata": {},
     "output_type": "execute_result"
    }
   ],
   "source": [
    "usacases.NewCases.rolling(14).sum().tail(30)"
   ]
  },
  {
   "cell_type": "code",
   "execution_count": 14,
   "metadata": {},
   "outputs": [
    {
     "data": {
      "text/plain": [
       "12/3/20     23364.785714\n",
       "12/4/20     20784.357143\n",
       "12/5/20     19620.285714\n",
       "12/6/20     19804.214286\n",
       "12/7/20     17453.285714\n",
       "12/8/20     18454.142857\n",
       "12/9/20     18644.714286\n",
       "12/10/20    30915.500000\n",
       "12/11/20    31118.642857\n",
       "12/12/20    36339.000000\n",
       "12/13/20    39445.071429\n",
       "12/14/20    41958.500000\n",
       "12/15/20    41787.214286\n",
       "12/16/20    42848.857143\n",
       "12/17/20    41825.000000\n",
       "12/18/20    40747.642857\n",
       "12/19/20    36551.642857\n",
       "12/20/20    34595.285714\n",
       "12/21/20    33410.142857\n",
       "12/22/20    28020.785714\n",
       "12/23/20    25744.071429\n",
       "12/24/20    14566.571429\n",
       "12/25/20     2237.428571\n",
       "12/26/20    -1373.071429\n",
       "12/27/20    -7024.714286\n",
       "12/28/20   -10731.571429\n",
       "12/29/20   -13016.285714\n",
       "12/30/20   -17130.000000\n",
       "12/31/20   -18698.285714\n",
       "1/1/21     -27104.428571\n",
       "1/2/21     -17690.642857\n",
       "1/3/21     -16672.642857\n",
       "1/4/21     -18018.000000\n",
       "1/5/21     -13524.214286\n",
       "1/6/21     -12234.571429\n",
       "1/7/21      -3588.500000\n",
       "1/8/21      20501.357143\n",
       "1/9/21      22265.571429\n",
       "1/10/21     28646.571429\n",
       "1/11/21     32844.285714\n",
       "1/12/21     35534.785714\n",
       "1/13/21     36361.857143\n",
       "1/14/21     36806.142857\n",
       "1/15/21     50167.000000\n",
       "1/16/21     35296.642857\n",
       "1/17/21     31571.000000\n",
       "1/18/21     29687.642857\n",
       "1/19/21     23057.071429\n",
       "1/20/21     16164.642857\n",
       "1/21/21      4217.500000\n",
       "1/22/21    -17020.142857\n",
       "1/23/21    -26089.142857\n",
       "1/24/21    -36074.785714\n",
       "1/25/21    -43407.500000\n",
       "1/26/21    -51050.285714\n",
       "1/27/21    -56425.142857\n",
       "1/28/21    -61240.428571\n",
       "1/29/21    -72880.214286\n",
       "1/30/21    -69962.714286\n",
       "1/31/21    -72416.714286\n",
       "Name: NewCases, dtype: float64"
      ]
     },
     "execution_count": 14,
     "metadata": {},
     "output_type": "execute_result"
    }
   ],
   "source": [
    "#Rate of change for Cases\n",
    "usacases.NewCases.rolling(14).sum().diff().rolling(14).mean().tail(60)"
   ]
  },
  {
   "cell_type": "markdown",
   "metadata": {},
   "source": [
    "### Hospitalizations"
   ]
  },
  {
   "cell_type": "code",
   "execution_count": 15,
   "metadata": {},
   "outputs": [],
   "source": [
    "usahospital=pd.read_csv('https://api.covidtracking.com/v1/us/daily.csv')"
   ]
  },
  {
   "cell_type": "code",
   "execution_count": 16,
   "metadata": {},
   "outputs": [],
   "source": [
    "usahospital=usahospital.hospitalizedCurrently.values.reshape(-1)[::-1]"
   ]
  },
  {
   "cell_type": "code",
   "execution_count": 17,
   "metadata": {},
   "outputs": [],
   "source": [
    "usahospital=pd.DataFrame(usahospital)\n",
    "usahospital.columns=['hospitalizedCurrently']"
   ]
  },
  {
   "cell_type": "code",
   "execution_count": 18,
   "metadata": {},
   "outputs": [
    {
     "data": {
      "text/html": [
       "<div>\n",
       "<style scoped>\n",
       "    .dataframe tbody tr th:only-of-type {\n",
       "        vertical-align: middle;\n",
       "    }\n",
       "\n",
       "    .dataframe tbody tr th {\n",
       "        vertical-align: top;\n",
       "    }\n",
       "\n",
       "    .dataframe thead th {\n",
       "        text-align: right;\n",
       "    }\n",
       "</style>\n",
       "<table border=\"1\" class=\"dataframe\">\n",
       "  <thead>\n",
       "    <tr style=\"text-align: right;\">\n",
       "      <th></th>\n",
       "      <th>hospitalizedCurrently</th>\n",
       "    </tr>\n",
       "  </thead>\n",
       "  <tbody>\n",
       "    <tr>\n",
       "      <th>355</th>\n",
       "      <td>123614.0</td>\n",
       "    </tr>\n",
       "    <tr>\n",
       "      <th>356</th>\n",
       "      <td>125562.0</td>\n",
       "    </tr>\n",
       "    <tr>\n",
       "      <th>357</th>\n",
       "      <td>128210.0</td>\n",
       "    </tr>\n",
       "    <tr>\n",
       "      <th>358</th>\n",
       "      <td>131195.0</td>\n",
       "    </tr>\n",
       "    <tr>\n",
       "      <th>359</th>\n",
       "      <td>132474.0</td>\n",
       "    </tr>\n",
       "    <tr>\n",
       "      <th>360</th>\n",
       "      <td>132370.0</td>\n",
       "    </tr>\n",
       "    <tr>\n",
       "      <th>361</th>\n",
       "      <td>131921.0</td>\n",
       "    </tr>\n",
       "    <tr>\n",
       "      <th>362</th>\n",
       "      <td>130781.0</td>\n",
       "    </tr>\n",
       "    <tr>\n",
       "      <th>363</th>\n",
       "      <td>129223.0</td>\n",
       "    </tr>\n",
       "    <tr>\n",
       "      <th>364</th>\n",
       "      <td>129793.0</td>\n",
       "    </tr>\n",
       "    <tr>\n",
       "      <th>365</th>\n",
       "      <td>131326.0</td>\n",
       "    </tr>\n",
       "    <tr>\n",
       "      <th>366</th>\n",
       "      <td>130391.0</td>\n",
       "    </tr>\n",
       "    <tr>\n",
       "      <th>367</th>\n",
       "      <td>128947.0</td>\n",
       "    </tr>\n",
       "    <tr>\n",
       "      <th>368</th>\n",
       "      <td>127235.0</td>\n",
       "    </tr>\n",
       "    <tr>\n",
       "      <th>369</th>\n",
       "      <td>126139.0</td>\n",
       "    </tr>\n",
       "    <tr>\n",
       "      <th>370</th>\n",
       "      <td>124387.0</td>\n",
       "    </tr>\n",
       "    <tr>\n",
       "      <th>371</th>\n",
       "      <td>123848.0</td>\n",
       "    </tr>\n",
       "    <tr>\n",
       "      <th>372</th>\n",
       "      <td>123820.0</td>\n",
       "    </tr>\n",
       "    <tr>\n",
       "      <th>373</th>\n",
       "      <td>122700.0</td>\n",
       "    </tr>\n",
       "    <tr>\n",
       "      <th>374</th>\n",
       "      <td>119949.0</td>\n",
       "    </tr>\n",
       "    <tr>\n",
       "      <th>375</th>\n",
       "      <td>116264.0</td>\n",
       "    </tr>\n",
       "    <tr>\n",
       "      <th>376</th>\n",
       "      <td>113609.0</td>\n",
       "    </tr>\n",
       "    <tr>\n",
       "      <th>377</th>\n",
       "      <td>110628.0</td>\n",
       "    </tr>\n",
       "    <tr>\n",
       "      <th>378</th>\n",
       "      <td>109936.0</td>\n",
       "    </tr>\n",
       "    <tr>\n",
       "      <th>379</th>\n",
       "      <td>108960.0</td>\n",
       "    </tr>\n",
       "    <tr>\n",
       "      <th>380</th>\n",
       "      <td>107444.0</td>\n",
       "    </tr>\n",
       "    <tr>\n",
       "      <th>381</th>\n",
       "      <td>104303.0</td>\n",
       "    </tr>\n",
       "    <tr>\n",
       "      <th>382</th>\n",
       "      <td>101003.0</td>\n",
       "    </tr>\n",
       "    <tr>\n",
       "      <th>383</th>\n",
       "      <td>97561.0</td>\n",
       "    </tr>\n",
       "    <tr>\n",
       "      <th>384</th>\n",
       "      <td>95013.0</td>\n",
       "    </tr>\n",
       "  </tbody>\n",
       "</table>\n",
       "</div>"
      ],
      "text/plain": [
       "     hospitalizedCurrently\n",
       "355               123614.0\n",
       "356               125562.0\n",
       "357               128210.0\n",
       "358               131195.0\n",
       "359               132474.0\n",
       "360               132370.0\n",
       "361               131921.0\n",
       "362               130781.0\n",
       "363               129223.0\n",
       "364               129793.0\n",
       "365               131326.0\n",
       "366               130391.0\n",
       "367               128947.0\n",
       "368               127235.0\n",
       "369               126139.0\n",
       "370               124387.0\n",
       "371               123848.0\n",
       "372               123820.0\n",
       "373               122700.0\n",
       "374               119949.0\n",
       "375               116264.0\n",
       "376               113609.0\n",
       "377               110628.0\n",
       "378               109936.0\n",
       "379               108960.0\n",
       "380               107444.0\n",
       "381               104303.0\n",
       "382               101003.0\n",
       "383                97561.0\n",
       "384                95013.0"
      ]
     },
     "execution_count": 18,
     "metadata": {},
     "output_type": "execute_result"
    }
   ],
   "source": [
    "usahospital.tail(30)"
   ]
  },
  {
   "cell_type": "code",
   "execution_count": 19,
   "metadata": {},
   "outputs": [
    {
     "data": {
      "text/plain": [
       "[<matplotlib.lines.Line2D at 0x154c28a8a48>]"
      ]
     },
     "execution_count": 19,
     "metadata": {},
     "output_type": "execute_result"
    },
    {
     "data": {
      "image/png": "[encoded data removed]",
      "text/plain": [
       "<Figure size 864x576 with 1 Axes>"
      ]
     },
     "metadata": {
      "needs_background": "light"
     },
     "output_type": "display_data"
    }
   ],
   "source": [
    "plt.plot(usahospital.hospitalizedCurrently)"
   ]
  },
  {
   "cell_type": "code",
   "execution_count": 20,
   "metadata": {},
   "outputs": [
    {
     "data": {
      "text/plain": [
       "355     692.857143\n",
       "356     854.357143\n",
       "357     918.000000\n",
       "358     958.428571\n",
       "359     929.357143\n",
       "360     869.285714\n",
       "361     926.642857\n",
       "362     959.785714\n",
       "363     750.214286\n",
       "364     613.642857\n",
       "365     474.285714\n",
       "366     369.357143\n",
       "367     251.714286\n",
       "368     156.285714\n",
       "369     180.357143\n",
       "370     -83.928571\n",
       "371    -311.571429\n",
       "372    -526.785714\n",
       "373    -698.142857\n",
       "374    -887.214286\n",
       "375   -1118.357143\n",
       "376   -1226.571429\n",
       "377   -1328.214286\n",
       "378   -1418.357143\n",
       "379   -1597.571429\n",
       "380   -1639.071429\n",
       "381   -1760.285714\n",
       "382   -1873.714286\n",
       "383   -2041.285714\n",
       "384   -2098.142857\n",
       "Name: hospitalizedCurrently, dtype: float64"
      ]
     },
     "execution_count": 20,
     "metadata": {},
     "output_type": "execute_result"
    }
   ],
   "source": [
    "usahospital.hospitalizedCurrently.diff().rolling(14).mean().tail(30)"
   ]
  },
  {
   "cell_type": "code",
   "execution_count": 21,
   "metadata": {},
   "outputs": [
    {
     "data": {
      "text/plain": [
       "<AxesSubplot:>"
      ]
     },
     "execution_count": 21,
     "metadata": {},
     "output_type": "execute_result"
    },
    {
     "data": {
      "image/png": "[encoded data removed]",
      "text/plain": [
       "<Figure size 864x576 with 1 Axes>"
      ]
     },
     "metadata": {
      "needs_background": "light"
     },
     "output_type": "display_data"
    }
   ],
   "source": [
    "usahospital.hospitalizedCurrently.diff().rolling(14).mean().plot()"
   ]
  },
  {
   "cell_type": "code",
   "execution_count": 22,
   "metadata": {},
   "outputs": [],
   "source": [
    "newcases=usacases[['NewCases']]\n",
    "newcases['Rolling14']=newcases['NewCases'].rolling(14).sum()"
   ]
  },
  {
   "cell_type": "code",
   "execution_count": 23,
   "metadata": {},
   "outputs": [
    {
     "data": {
      "text/html": [
       "<div>\n",
       "<style scoped>\n",
       "    .dataframe tbody tr th:only-of-type {\n",
       "        vertical-align: middle;\n",
       "    }\n",
       "\n",
       "    .dataframe tbody tr th {\n",
       "        vertical-align: top;\n",
       "    }\n",
       "\n",
       "    .dataframe thead th {\n",
       "        text-align: right;\n",
       "    }\n",
       "</style>\n",
       "<table border=\"1\" class=\"dataframe\">\n",
       "  <thead>\n",
       "    <tr style=\"text-align: right;\">\n",
       "      <th></th>\n",
       "      <th>NewCases</th>\n",
       "      <th>Rolling14</th>\n",
       "    </tr>\n",
       "  </thead>\n",
       "  <tbody>\n",
       "    <tr>\n",
       "      <th>4/14/20</th>\n",
       "      <td>28781.0</td>\n",
       "      <td>434850.0</td>\n",
       "    </tr>\n",
       "  </tbody>\n",
       "</table>\n",
       "</div>"
      ],
      "text/plain": [
       "         NewCases  Rolling14\n",
       "4/14/20   28781.0   434850.0"
      ]
     },
     "execution_count": 23,
     "metadata": {},
     "output_type": "execute_result"
    }
   ],
   "source": [
    "#1st Max\n",
    "newcases[newcases['Rolling14']==newcases['Rolling14'].loc['3/12/20':'5/1/20'].max()]"
   ]
  },
  {
   "cell_type": "code",
   "execution_count": 24,
   "metadata": {},
   "outputs": [
    {
     "data": {
      "text/html": [
       "<div>\n",
       "<style scoped>\n",
       "    .dataframe tbody tr th:only-of-type {\n",
       "        vertical-align: middle;\n",
       "    }\n",
       "\n",
       "    .dataframe tbody tr th {\n",
       "        vertical-align: top;\n",
       "    }\n",
       "\n",
       "    .dataframe thead th {\n",
       "        text-align: right;\n",
       "    }\n",
       "</style>\n",
       "<table border=\"1\" class=\"dataframe\">\n",
       "  <thead>\n",
       "    <tr style=\"text-align: right;\">\n",
       "      <th></th>\n",
       "      <th>NewCases</th>\n",
       "      <th>Rolling14</th>\n",
       "    </tr>\n",
       "  </thead>\n",
       "  <tbody>\n",
       "    <tr>\n",
       "      <th>6/9/20</th>\n",
       "      <td>18382.0</td>\n",
       "      <td>288889.0</td>\n",
       "    </tr>\n",
       "  </tbody>\n",
       "</table>\n",
       "</div>"
      ],
      "text/plain": [
       "        NewCases  Rolling14\n",
       "6/9/20   18382.0   288889.0"
      ]
     },
     "execution_count": 24,
     "metadata": {},
     "output_type": "execute_result"
    }
   ],
   "source": [
    "#1st min\n",
    "newcases[newcases['Rolling14']==newcases['Rolling14'].loc['5/1/20':'7/1/20'].min()]"
   ]
  },
  {
   "cell_type": "code",
   "execution_count": 25,
   "metadata": {},
   "outputs": [
    {
     "data": {
      "text/html": [
       "<div>\n",
       "<style scoped>\n",
       "    .dataframe tbody tr th:only-of-type {\n",
       "        vertical-align: middle;\n",
       "    }\n",
       "\n",
       "    .dataframe tbody tr th {\n",
       "        vertical-align: top;\n",
       "    }\n",
       "\n",
       "    .dataframe thead th {\n",
       "        text-align: right;\n",
       "    }\n",
       "</style>\n",
       "<table border=\"1\" class=\"dataframe\">\n",
       "  <thead>\n",
       "    <tr style=\"text-align: right;\">\n",
       "      <th></th>\n",
       "      <th>NewCases</th>\n",
       "      <th>Rolling14</th>\n",
       "    </tr>\n",
       "  </thead>\n",
       "  <tbody>\n",
       "    <tr>\n",
       "      <th>7/25/20</th>\n",
       "      <td>64899.0</td>\n",
       "      <td>928282.0</td>\n",
       "    </tr>\n",
       "  </tbody>\n",
       "</table>\n",
       "</div>"
      ],
      "text/plain": [
       "         NewCases  Rolling14\n",
       "7/25/20   64899.0   928282.0"
      ]
     },
     "execution_count": 25,
     "metadata": {},
     "output_type": "execute_result"
    }
   ],
   "source": [
    "#2nd max\n",
    "newcases[newcases['Rolling14']==newcases['Rolling14'].loc['6/20/20':'8/9/20'].max()]"
   ]
  },
  {
   "cell_type": "code",
   "execution_count": 26,
   "metadata": {},
   "outputs": [
    {
     "data": {
      "text/html": [
       "<div>\n",
       "<style scoped>\n",
       "    .dataframe tbody tr th:only-of-type {\n",
       "        vertical-align: middle;\n",
       "    }\n",
       "\n",
       "    .dataframe tbody tr th {\n",
       "        vertical-align: top;\n",
       "    }\n",
       "\n",
       "    .dataframe thead th {\n",
       "        text-align: right;\n",
       "    }\n",
       "</style>\n",
       "<table border=\"1\" class=\"dataframe\">\n",
       "  <thead>\n",
       "    <tr style=\"text-align: right;\">\n",
       "      <th></th>\n",
       "      <th>NewCases</th>\n",
       "      <th>Rolling14</th>\n",
       "    </tr>\n",
       "  </thead>\n",
       "  <tbody>\n",
       "    <tr>\n",
       "      <th>9/19/20</th>\n",
       "      <td>42122.0</td>\n",
       "      <td>524165.0</td>\n",
       "    </tr>\n",
       "  </tbody>\n",
       "</table>\n",
       "</div>"
      ],
      "text/plain": [
       "         NewCases  Rolling14\n",
       "9/19/20   42122.0   524165.0"
      ]
     },
     "execution_count": 26,
     "metadata": {},
     "output_type": "execute_result"
    }
   ],
   "source": [
    "#2nd min\n",
    "newcases[newcases['Rolling14']==newcases['Rolling14'].loc['8/9/20':].min()]"
   ]
  },
  {
   "cell_type": "code",
   "execution_count": 27,
   "metadata": {},
   "outputs": [
    {
     "data": {
      "text/plain": [
       "45971.0"
      ]
     },
     "execution_count": 27,
     "metadata": {},
     "output_type": "execute_result"
    }
   ],
   "source": [
    "usadeath.NewDeath.rolling(14).sum().max()"
   ]
  },
  {
   "cell_type": "code",
   "execution_count": 28,
   "metadata": {},
   "outputs": [],
   "source": [
    "newdeaths=usadeath[['NewDeath']]\n",
    "newdeaths['Rolling14']=newdeaths['NewDeath'].rolling(14).sum()"
   ]
  },
  {
   "cell_type": "code",
   "execution_count": 29,
   "metadata": {},
   "outputs": [
    {
     "data": {
      "text/html": [
       "<div>\n",
       "<style scoped>\n",
       "    .dataframe tbody tr th:only-of-type {\n",
       "        vertical-align: middle;\n",
       "    }\n",
       "\n",
       "    .dataframe tbody tr th {\n",
       "        vertical-align: top;\n",
       "    }\n",
       "\n",
       "    .dataframe thead th {\n",
       "        text-align: right;\n",
       "    }\n",
       "</style>\n",
       "<table border=\"1\" class=\"dataframe\">\n",
       "  <thead>\n",
       "    <tr style=\"text-align: right;\">\n",
       "      <th></th>\n",
       "      <th>NewDeath</th>\n",
       "      <th>Rolling14</th>\n",
       "    </tr>\n",
       "  </thead>\n",
       "  <tbody>\n",
       "    <tr>\n",
       "      <th>4/23/20</th>\n",
       "      <td>2456.0</td>\n",
       "      <td>30953.0</td>\n",
       "    </tr>\n",
       "  </tbody>\n",
       "</table>\n",
       "</div>"
      ],
      "text/plain": [
       "         NewDeath  Rolling14\n",
       "4/23/20    2456.0    30953.0"
      ]
     },
     "execution_count": 29,
     "metadata": {},
     "output_type": "execute_result"
    }
   ],
   "source": [
    "#1st Max\n",
    "newdeaths[newdeaths['Rolling14']==newdeaths['Rolling14'].loc['3/12/20':'6/20/20'].max()]"
   ]
  },
  {
   "cell_type": "code",
   "execution_count": 30,
   "metadata": {},
   "outputs": [
    {
     "data": {
      "text/html": [
       "<div>\n",
       "<style scoped>\n",
       "    .dataframe tbody tr th:only-of-type {\n",
       "        vertical-align: middle;\n",
       "    }\n",
       "\n",
       "    .dataframe tbody tr th {\n",
       "        vertical-align: top;\n",
       "    }\n",
       "\n",
       "    .dataframe thead th {\n",
       "        text-align: right;\n",
       "    }\n",
       "</style>\n",
       "<table border=\"1\" class=\"dataframe\">\n",
       "  <thead>\n",
       "    <tr style=\"text-align: right;\">\n",
       "      <th></th>\n",
       "      <th>NewDeath</th>\n",
       "      <th>Rolling14</th>\n",
       "    </tr>\n",
       "  </thead>\n",
       "  <tbody>\n",
       "    <tr>\n",
       "      <th>7/6/20</th>\n",
       "      <td>363.0</td>\n",
       "      <td>7644.0</td>\n",
       "    </tr>\n",
       "  </tbody>\n",
       "</table>\n",
       "</div>"
      ],
      "text/plain": [
       "        NewDeath  Rolling14\n",
       "7/6/20     363.0     7644.0"
      ]
     },
     "execution_count": 30,
     "metadata": {},
     "output_type": "execute_result"
    }
   ],
   "source": [
    "#1st Min\n",
    "newdeaths[newdeaths['Rolling14']==newdeaths['Rolling14'].loc['6/20/20':'8/9/20'].min()]"
   ]
  },
  {
   "cell_type": "code",
   "execution_count": 31,
   "metadata": {},
   "outputs": [
    {
     "data": {
      "text/html": [
       "<div>\n",
       "<style scoped>\n",
       "    .dataframe tbody tr th:only-of-type {\n",
       "        vertical-align: middle;\n",
       "    }\n",
       "\n",
       "    .dataframe tbody tr th {\n",
       "        vertical-align: top;\n",
       "    }\n",
       "\n",
       "    .dataframe thead th {\n",
       "        text-align: right;\n",
       "    }\n",
       "</style>\n",
       "<table border=\"1\" class=\"dataframe\">\n",
       "  <thead>\n",
       "    <tr style=\"text-align: right;\">\n",
       "      <th></th>\n",
       "      <th>NewDeath</th>\n",
       "      <th>Rolling14</th>\n",
       "    </tr>\n",
       "  </thead>\n",
       "  <tbody>\n",
       "    <tr>\n",
       "      <th>8/9/20</th>\n",
       "      <td>536.0</td>\n",
       "      <td>15305.0</td>\n",
       "    </tr>\n",
       "  </tbody>\n",
       "</table>\n",
       "</div>"
      ],
      "text/plain": [
       "        NewDeath  Rolling14\n",
       "8/9/20     536.0    15305.0"
      ]
     },
     "execution_count": 31,
     "metadata": {},
     "output_type": "execute_result"
    }
   ],
   "source": [
    "#2nd Max\n",
    "newdeaths[newdeaths['Rolling14']==newdeaths['Rolling14'].loc['6/20/20':'9/1/20'].max()]"
   ]
  },
  {
   "cell_type": "code",
   "execution_count": 32,
   "metadata": {},
   "outputs": [
    {
     "data": {
      "text/html": [
       "<div>\n",
       "<style scoped>\n",
       "    .dataframe tbody tr th:only-of-type {\n",
       "        vertical-align: middle;\n",
       "    }\n",
       "\n",
       "    .dataframe tbody tr th {\n",
       "        vertical-align: top;\n",
       "    }\n",
       "\n",
       "    .dataframe thead th {\n",
       "        text-align: right;\n",
       "    }\n",
       "</style>\n",
       "<table border=\"1\" class=\"dataframe\">\n",
       "  <thead>\n",
       "    <tr style=\"text-align: right;\">\n",
       "      <th></th>\n",
       "      <th>NewDeath</th>\n",
       "      <th>Rolling14</th>\n",
       "    </tr>\n",
       "  </thead>\n",
       "  <tbody>\n",
       "    <tr>\n",
       "      <th>10/10/20</th>\n",
       "      <td>635.0</td>\n",
       "      <td>9896.0</td>\n",
       "    </tr>\n",
       "  </tbody>\n",
       "</table>\n",
       "</div>"
      ],
      "text/plain": [
       "          NewDeath  Rolling14\n",
       "10/10/20     635.0     9896.0"
      ]
     },
     "execution_count": 32,
     "metadata": {},
     "output_type": "execute_result"
    }
   ],
   "source": [
    "#2nd Min\n",
    "newdeaths[newdeaths['Rolling14']==newdeaths['Rolling14'].loc['9/1/20':].min()]"
   ]
  },
  {
   "cell_type": "markdown",
   "metadata": {},
   "source": [
    "For 14 Day sum"
   ]
  },
  {
   "cell_type": "markdown",
   "metadata": {},
   "source": [
    "1st Max: NewCases 4/17/20 NewDeath 4/23/20"
   ]
  },
  {
   "cell_type": "markdown",
   "metadata": {},
   "source": [
    "1st Min: New Cases 6/9/20 NewDeath 7/6/20"
   ]
  },
  {
   "cell_type": "markdown",
   "metadata": {},
   "source": [
    "2nd Max: NewCases 7/25/20 NewDeath 8/9/20"
   ]
  },
  {
   "cell_type": "markdown",
   "metadata": {},
   "source": [
    "2nd Min: NewCases 9/19/20 NewDeath 10/10/20"
   ]
  },
  {
   "cell_type": "markdown",
   "metadata": {},
   "source": [
    "I think it is safe to disregard the first maximum because the virus was new and intervention was poorly tracked.  "
   ]
  },
  {
   "cell_type": "markdown",
   "metadata": {},
   "source": [
    "There appears to be at least a two week lag between change in cases and change in deaths "
   ]
  },
  {
   "cell_type": "markdown",
   "metadata": {},
   "source": [
    "New Cases 6/9/20 = 288342.0 NewDeath 7/6/20 = 7554.0 Proportion = 0.026198056474603076"
   ]
  },
  {
   "cell_type": "markdown",
   "metadata": {},
   "source": [
    "New Cases 7/25/20 = 930338.0  NewDeath 8/9/20 = 15276.0 Proportion = 0.016419838811270744"
   ]
  },
  {
   "cell_type": "markdown",
   "metadata": {},
   "source": [
    "New Cases 9/19/20 = 521775.0  NewDeath 10/10/20 = 9927.0 Proportion = 0.019025442000862442"
   ]
  },
  {
   "cell_type": "markdown",
   "metadata": {},
   "source": [
    "# MODEL USING HOSPITALIZATIONS"
   ]
  },
  {
   "cell_type": "code",
   "execution_count": 33,
   "metadata": {},
   "outputs": [],
   "source": [
    "x=usahospital.tail(341).reset_index().drop(columns=['index'])\n",
    "y=usadeath[['NewDeath']].tail(341).reset_index()\n",
    "y.columns=['Date','NewDeath']\n",
    "df=x.join(y).set_index('Date')\n",
    "df.index=pd.to_datetime(df.index)\n",
    "df.columns=['CurrentHospital','NewDeath']"
   ]
  },
  {
   "cell_type": "code",
   "execution_count": 34,
   "metadata": {},
   "outputs": [],
   "source": [
    "df['Rolling14D']=df.NewDeath.rolling(14).sum()\n",
    "df['Rolling14H']=df.CurrentHospital.rolling(14).sum()\n",
    "df['pred21_25']=df['Rolling14H']*(.03)\n",
    "predictions=df[['pred21_25']]\n",
    "predictions.index=predictions.index.shift(periods=24,freq='D')\n",
    "final=predictions.join(df.drop(['pred21_25'],axis=1),how='inner')"
   ]
  },
  {
   "cell_type": "code",
   "execution_count": 35,
   "metadata": {},
   "outputs": [
    {
     "data": {
      "image/png": "[encoded data removed]",
      "text/plain": [
       "<Figure size 864x864 with 1 Axes>"
      ]
     },
     "metadata": {
      "needs_background": "light"
     },
     "output_type": "display_data"
    }
   ],
   "source": [
    "plt.rcParams['figure.figsize'] = [12, 12]\n",
    "predictions.dropna().loc['2020-07-01':].plot(label='predicted')\n",
    "final['Rolling14D'].loc['2020-07-01':].plot(label='Actual 14 Day Sum of Deaths')\n",
    "plt.legend(loc='upper left')\n",
    "plt.show()"
   ]
  },
  {
   "cell_type": "code",
   "execution_count": 36,
   "metadata": {},
   "outputs": [
    {
     "data": {
      "text/html": [
       "<div>\n",
       "<style scoped>\n",
       "    .dataframe tbody tr th:only-of-type {\n",
       "        vertical-align: middle;\n",
       "    }\n",
       "\n",
       "    .dataframe tbody tr th {\n",
       "        vertical-align: top;\n",
       "    }\n",
       "\n",
       "    .dataframe thead th {\n",
       "        text-align: right;\n",
       "    }\n",
       "</style>\n",
       "<table border=\"1\" class=\"dataframe\">\n",
       "  <thead>\n",
       "    <tr style=\"text-align: right;\">\n",
       "      <th></th>\n",
       "      <th>pred21_25</th>\n",
       "      <th>Rolling14D</th>\n",
       "    </tr>\n",
       "    <tr>\n",
       "      <th>Date</th>\n",
       "      <th></th>\n",
       "      <th></th>\n",
       "    </tr>\n",
       "  </thead>\n",
       "  <tbody>\n",
       "    <tr>\n",
       "      <th>2021-01-11</th>\n",
       "      <td>45431.28</td>\n",
       "      <td>41230.0</td>\n",
       "    </tr>\n",
       "    <tr>\n",
       "      <th>2021-01-12</th>\n",
       "      <td>45812.94</td>\n",
       "      <td>42033.0</td>\n",
       "    </tr>\n",
       "    <tr>\n",
       "      <th>2021-01-13</th>\n",
       "      <td>46175.94</td>\n",
       "      <td>42248.0</td>\n",
       "    </tr>\n",
       "    <tr>\n",
       "      <th>2021-01-14</th>\n",
       "      <td>46573.02</td>\n",
       "      <td>42765.0</td>\n",
       "    </tr>\n",
       "    <tr>\n",
       "      <th>2021-01-15</th>\n",
       "      <td>46967.22</td>\n",
       "      <td>44543.0</td>\n",
       "    </tr>\n",
       "    <tr>\n",
       "      <th>2021-01-16</th>\n",
       "      <td>47350.98</td>\n",
       "      <td>45567.0</td>\n",
       "    </tr>\n",
       "    <tr>\n",
       "      <th>2021-01-17</th>\n",
       "      <td>47737.98</td>\n",
       "      <td>45971.0</td>\n",
       "    </tr>\n",
       "    <tr>\n",
       "      <th>2021-01-18</th>\n",
       "      <td>48063.39</td>\n",
       "      <td>45381.0</td>\n",
       "    </tr>\n",
       "    <tr>\n",
       "      <th>2021-01-19</th>\n",
       "      <td>48329.88</td>\n",
       "      <td>44405.0</td>\n",
       "    </tr>\n",
       "    <tr>\n",
       "      <th>2021-01-20</th>\n",
       "      <td>48612.54</td>\n",
       "      <td>44892.0</td>\n",
       "    </tr>\n",
       "    <tr>\n",
       "      <th>2021-01-21</th>\n",
       "      <td>48931.41</td>\n",
       "      <td>45145.0</td>\n",
       "    </tr>\n",
       "    <tr>\n",
       "      <th>2021-01-22</th>\n",
       "      <td>49287.51</td>\n",
       "      <td>44868.0</td>\n",
       "    </tr>\n",
       "    <tr>\n",
       "      <th>2021-01-23</th>\n",
       "      <td>49646.40</td>\n",
       "      <td>44946.0</td>\n",
       "    </tr>\n",
       "    <tr>\n",
       "      <th>2021-01-24</th>\n",
       "      <td>49974.33</td>\n",
       "      <td>44897.0</td>\n",
       "    </tr>\n",
       "    <tr>\n",
       "      <th>2021-01-25</th>\n",
       "      <td>50307.09</td>\n",
       "      <td>44808.0</td>\n",
       "    </tr>\n",
       "    <tr>\n",
       "      <th>2021-01-26</th>\n",
       "      <td>50598.09</td>\n",
       "      <td>44426.0</td>\n",
       "    </tr>\n",
       "    <tr>\n",
       "      <th>2021-01-27</th>\n",
       "      <td>50956.92</td>\n",
       "      <td>44405.0</td>\n",
       "    </tr>\n",
       "    <tr>\n",
       "      <th>2021-01-28</th>\n",
       "      <td>51342.48</td>\n",
       "      <td>44475.0</td>\n",
       "    </tr>\n",
       "    <tr>\n",
       "      <th>2021-01-29</th>\n",
       "      <td>51745.02</td>\n",
       "      <td>44274.0</td>\n",
       "    </tr>\n",
       "    <tr>\n",
       "      <th>2021-01-30</th>\n",
       "      <td>52135.35</td>\n",
       "      <td>43653.0</td>\n",
       "    </tr>\n",
       "    <tr>\n",
       "      <th>2021-01-31</th>\n",
       "      <td>52500.45</td>\n",
       "      <td>43696.0</td>\n",
       "    </tr>\n",
       "  </tbody>\n",
       "</table>\n",
       "</div>"
      ],
      "text/plain": [
       "            pred21_25  Rolling14D\n",
       "Date                             \n",
       "2021-01-11   45431.28     41230.0\n",
       "2021-01-12   45812.94     42033.0\n",
       "2021-01-13   46175.94     42248.0\n",
       "2021-01-14   46573.02     42765.0\n",
       "2021-01-15   46967.22     44543.0\n",
       "2021-01-16   47350.98     45567.0\n",
       "2021-01-17   47737.98     45971.0\n",
       "2021-01-18   48063.39     45381.0\n",
       "2021-01-19   48329.88     44405.0\n",
       "2021-01-20   48612.54     44892.0\n",
       "2021-01-21   48931.41     45145.0\n",
       "2021-01-22   49287.51     44868.0\n",
       "2021-01-23   49646.40     44946.0\n",
       "2021-01-24   49974.33     44897.0\n",
       "2021-01-25   50307.09     44808.0\n",
       "2021-01-26   50598.09     44426.0\n",
       "2021-01-27   50956.92     44405.0\n",
       "2021-01-28   51342.48     44475.0\n",
       "2021-01-29   51745.02     44274.0\n",
       "2021-01-30   52135.35     43653.0\n",
       "2021-01-31   52500.45     43696.0"
      ]
     },
     "execution_count": 36,
     "metadata": {},
     "output_type": "execute_result"
    }
   ],
   "source": [
    "final[['pred21_25','Rolling14D']].tail(21)"
   ]
  },
  {
   "cell_type": "code",
   "execution_count": 37,
   "metadata": {},
   "outputs": [
    {
     "data": {
      "text/html": [
       "<div>\n",
       "<style scoped>\n",
       "    .dataframe tbody tr th:only-of-type {\n",
       "        vertical-align: middle;\n",
       "    }\n",
       "\n",
       "    .dataframe tbody tr th {\n",
       "        vertical-align: top;\n",
       "    }\n",
       "\n",
       "    .dataframe thead th {\n",
       "        text-align: right;\n",
       "    }\n",
       "</style>\n",
       "<table border=\"1\" class=\"dataframe\">\n",
       "  <thead>\n",
       "    <tr style=\"text-align: right;\">\n",
       "      <th></th>\n",
       "      <th>pred21_25</th>\n",
       "    </tr>\n",
       "    <tr>\n",
       "      <th>Date</th>\n",
       "      <th></th>\n",
       "    </tr>\n",
       "  </thead>\n",
       "  <tbody>\n",
       "    <tr>\n",
       "      <th>2021-02-01</th>\n",
       "      <td>52889.64</td>\n",
       "    </tr>\n",
       "    <tr>\n",
       "      <th>2021-02-02</th>\n",
       "      <td>53292.75</td>\n",
       "    </tr>\n",
       "    <tr>\n",
       "      <th>2021-02-03</th>\n",
       "      <td>53607.84</td>\n",
       "    </tr>\n",
       "    <tr>\n",
       "      <th>2021-02-04</th>\n",
       "      <td>53865.57</td>\n",
       "    </tr>\n",
       "    <tr>\n",
       "      <th>2021-02-05</th>\n",
       "      <td>54064.77</td>\n",
       "    </tr>\n",
       "    <tr>\n",
       "      <th>2021-02-06</th>\n",
       "      <td>54219.90</td>\n",
       "    </tr>\n",
       "    <tr>\n",
       "      <th>2021-02-07</th>\n",
       "      <td>54325.62</td>\n",
       "    </tr>\n",
       "    <tr>\n",
       "      <th>2021-02-08</th>\n",
       "      <td>54391.26</td>\n",
       "    </tr>\n",
       "    <tr>\n",
       "      <th>2021-02-09</th>\n",
       "      <td>54467.01</td>\n",
       "    </tr>\n",
       "    <tr>\n",
       "      <th>2021-02-10</th>\n",
       "      <td>54431.76</td>\n",
       "    </tr>\n",
       "    <tr>\n",
       "      <th>2021-02-11</th>\n",
       "      <td>54300.90</td>\n",
       "    </tr>\n",
       "    <tr>\n",
       "      <th>2021-02-12</th>\n",
       "      <td>54079.65</td>\n",
       "    </tr>\n",
       "    <tr>\n",
       "      <th>2021-02-13</th>\n",
       "      <td>53786.43</td>\n",
       "    </tr>\n",
       "    <tr>\n",
       "      <th>2021-02-14</th>\n",
       "      <td>53413.80</td>\n",
       "    </tr>\n",
       "    <tr>\n",
       "      <th>2021-02-15</th>\n",
       "      <td>52944.09</td>\n",
       "    </tr>\n",
       "    <tr>\n",
       "      <th>2021-02-16</th>\n",
       "      <td>52428.93</td>\n",
       "    </tr>\n",
       "    <tr>\n",
       "      <th>2021-02-17</th>\n",
       "      <td>51871.08</td>\n",
       "    </tr>\n",
       "    <tr>\n",
       "      <th>2021-02-18</th>\n",
       "      <td>51275.37</td>\n",
       "    </tr>\n",
       "    <tr>\n",
       "      <th>2021-02-19</th>\n",
       "      <td>50604.39</td>\n",
       "    </tr>\n",
       "    <tr>\n",
       "      <th>2021-02-20</th>\n",
       "      <td>49915.98</td>\n",
       "    </tr>\n",
       "    <tr>\n",
       "      <th>2021-02-21</th>\n",
       "      <td>49176.66</td>\n",
       "    </tr>\n",
       "  </tbody>\n",
       "</table>\n",
       "</div>"
      ],
      "text/plain": [
       "            pred21_25\n",
       "Date                 \n",
       "2021-02-01   52889.64\n",
       "2021-02-02   53292.75\n",
       "2021-02-03   53607.84\n",
       "2021-02-04   53865.57\n",
       "2021-02-05   54064.77\n",
       "2021-02-06   54219.90\n",
       "2021-02-07   54325.62\n",
       "2021-02-08   54391.26\n",
       "2021-02-09   54467.01\n",
       "2021-02-10   54431.76\n",
       "2021-02-11   54300.90\n",
       "2021-02-12   54079.65\n",
       "2021-02-13   53786.43\n",
       "2021-02-14   53413.80\n",
       "2021-02-15   52944.09\n",
       "2021-02-16   52428.93\n",
       "2021-02-17   51871.08\n",
       "2021-02-18   51275.37\n",
       "2021-02-19   50604.39\n",
       "2021-02-20   49915.98\n",
       "2021-02-21   49176.66"
      ]
     },
     "execution_count": 37,
     "metadata": {},
     "output_type": "execute_result"
    }
   ],
   "source": [
    "from datetime import date\n",
    "predictions[['pred21_25']].loc[date.today():].head(21)"
   ]
  },
  {
   "cell_type": "markdown",
   "metadata": {},
   "source": [
    "#  MODEL USING CASES"
   ]
  },
  {
   "cell_type": "code",
   "execution_count": 38,
   "metadata": {},
   "outputs": [
    {
     "data": {
      "text/plain": [
       "\"df=usacases.join(usadeath)\\ndf=df.drop(['CaseTotal','DeathTotal'],axis=1)\\ndf['Rolling14D']=df.NewDeath.rolling(14).sum()\\ndf['Rolling14C']=df.NewCases.rolling(14).sum()\\ndf.index=pd.to_datetime(df.index)\\ndf['pred21_18']=df['Rolling14C']*(.018)\\ndf['pred21_17']=df['Rolling14C']*(.017)\\ndf['pred21_16']=df['Rolling14C']*(.016)\\ndf['pred21_15']=df['Rolling14C']*(.015)\\ndf['pred21_14']=df['Rolling14C']*(.014)\\npredictions=df[['pred21_18','pred21_17','pred21_16','pred21_15','pred21_14']]\\npredictions.index=predictions.index.shift(periods=14,freq='D')\\nfinal=predictions.join(df.drop(['pred21_18','pred21_17','pred21_16','pred21_15','pred21_14'],axis=1),how='inner')\""
      ]
     },
     "execution_count": 38,
     "metadata": {},
     "output_type": "execute_result"
    }
   ],
   "source": [
    "'''df=usacases.join(usadeath)\n",
    "df=df.drop(['CaseTotal','DeathTotal'],axis=1)\n",
    "df['Rolling14D']=df.NewDeath.rolling(14).sum()\n",
    "df['Rolling14C']=df.NewCases.rolling(14).sum()\n",
    "df.index=pd.to_datetime(df.index)\n",
    "df['pred21_18']=df['Rolling14C']*(.018)\n",
    "df['pred21_17']=df['Rolling14C']*(.017)\n",
    "df['pred21_16']=df['Rolling14C']*(.016)\n",
    "df['pred21_15']=df['Rolling14C']*(.015)\n",
    "df['pred21_14']=df['Rolling14C']*(.014)\n",
    "predictions=df[['pred21_18','pred21_17','pred21_16','pred21_15','pred21_14']]\n",
    "predictions.index=predictions.index.shift(periods=14,freq='D')\n",
    "final=predictions.join(df.drop(['pred21_18','pred21_17','pred21_16','pred21_15','pred21_14'],axis=1),how='inner')'''"
   ]
  },
  {
   "cell_type": "code",
   "execution_count": 39,
   "metadata": {},
   "outputs": [],
   "source": [
    "df=usacases.join(usadeath)\n",
    "df=df.drop(['CaseTotal','DeathTotal'],axis=1)\n",
    "df['Rolling14D']=df.NewDeath.rolling(14).sum()\n",
    "df['Rolling14C']=df.NewCases.rolling(14).sum()\n",
    "df.index=pd.to_datetime(df.index)\n",
    "df['pred24_18']=df['Rolling14C']*(.018)\n",
    "predictions=df[['pred24_18']]\n",
    "predictions.index=predictions.index.shift(periods=24,freq='D')\n",
    "final=predictions.join(df.drop(['pred24_18'],axis=1),how='inner')"
   ]
  },
  {
   "cell_type": "code",
   "execution_count": 40,
   "metadata": {},
   "outputs": [
    {
     "data": {
      "image/png": "[encoded data removed]",
      "text/plain": [
       "<Figure size 864x864 with 1 Axes>"
      ]
     },
     "metadata": {
      "needs_background": "light"
     },
     "output_type": "display_data"
    }
   ],
   "source": [
    "plt.rcParams['figure.figsize'] = [12, 12]\n",
    "predictions.dropna().loc['2020-07-01':].plot(label='predicted')\n",
    "final['Rolling14D'].loc['2020-07-01':].plot(label='Actual 14 Day Sum of Deaths')\n",
    "plt.legend(loc='upper left')\n",
    "plt.show()\n"
   ]
  },
  {
   "cell_type": "code",
   "execution_count": 41,
   "metadata": {},
   "outputs": [
    {
     "data": {
      "text/html": [
       "<div>\n",
       "<style scoped>\n",
       "    .dataframe tbody tr th:only-of-type {\n",
       "        vertical-align: middle;\n",
       "    }\n",
       "\n",
       "    .dataframe tbody tr th {\n",
       "        vertical-align: top;\n",
       "    }\n",
       "\n",
       "    .dataframe thead th {\n",
       "        text-align: right;\n",
       "    }\n",
       "</style>\n",
       "<table border=\"1\" class=\"dataframe\">\n",
       "  <thead>\n",
       "    <tr style=\"text-align: right;\">\n",
       "      <th></th>\n",
       "      <th>pred24_18</th>\n",
       "      <th>Rolling14D</th>\n",
       "    </tr>\n",
       "  </thead>\n",
       "  <tbody>\n",
       "    <tr>\n",
       "      <th>2021-01-18</th>\n",
       "      <td>51042.510</td>\n",
       "      <td>45381.0</td>\n",
       "    </tr>\n",
       "    <tr>\n",
       "      <th>2021-01-19</th>\n",
       "      <td>51230.268</td>\n",
       "      <td>44405.0</td>\n",
       "    </tr>\n",
       "    <tr>\n",
       "      <th>2021-01-20</th>\n",
       "      <td>50658.930</td>\n",
       "      <td>44892.0</td>\n",
       "    </tr>\n",
       "    <tr>\n",
       "      <th>2021-01-21</th>\n",
       "      <td>50317.326</td>\n",
       "      <td>45145.0</td>\n",
       "    </tr>\n",
       "    <tr>\n",
       "      <th>2021-01-22</th>\n",
       "      <td>50131.764</td>\n",
       "      <td>44868.0</td>\n",
       "    </tr>\n",
       "    <tr>\n",
       "      <th>2021-01-23</th>\n",
       "      <td>49884.732</td>\n",
       "      <td>44946.0</td>\n",
       "    </tr>\n",
       "    <tr>\n",
       "      <th>2021-01-24</th>\n",
       "      <td>49791.834</td>\n",
       "      <td>44897.0</td>\n",
       "    </tr>\n",
       "    <tr>\n",
       "      <th>2021-01-25</th>\n",
       "      <td>48015.432</td>\n",
       "      <td>44808.0</td>\n",
       "    </tr>\n",
       "    <tr>\n",
       "      <th>2021-01-26</th>\n",
       "      <td>49971.438</td>\n",
       "      <td>44426.0</td>\n",
       "    </tr>\n",
       "    <tr>\n",
       "      <th>2021-01-27</th>\n",
       "      <td>50349.564</td>\n",
       "      <td>44405.0</td>\n",
       "    </tr>\n",
       "    <tr>\n",
       "      <th>2021-01-28</th>\n",
       "      <td>50082.840</td>\n",
       "      <td>44475.0</td>\n",
       "    </tr>\n",
       "    <tr>\n",
       "      <th>2021-01-29</th>\n",
       "      <td>50735.988</td>\n",
       "      <td>44274.0</td>\n",
       "    </tr>\n",
       "    <tr>\n",
       "      <th>2021-01-30</th>\n",
       "      <td>51188.796</td>\n",
       "      <td>43653.0</td>\n",
       "    </tr>\n",
       "    <tr>\n",
       "      <th>2021-01-31</th>\n",
       "      <td>52693.182</td>\n",
       "      <td>43696.0</td>\n",
       "    </tr>\n",
       "  </tbody>\n",
       "</table>\n",
       "</div>"
      ],
      "text/plain": [
       "            pred24_18  Rolling14D\n",
       "2021-01-18  51042.510     45381.0\n",
       "2021-01-19  51230.268     44405.0\n",
       "2021-01-20  50658.930     44892.0\n",
       "2021-01-21  50317.326     45145.0\n",
       "2021-01-22  50131.764     44868.0\n",
       "2021-01-23  49884.732     44946.0\n",
       "2021-01-24  49791.834     44897.0\n",
       "2021-01-25  48015.432     44808.0\n",
       "2021-01-26  49971.438     44426.0\n",
       "2021-01-27  50349.564     44405.0\n",
       "2021-01-28  50082.840     44475.0\n",
       "2021-01-29  50735.988     44274.0\n",
       "2021-01-30  51188.796     43653.0\n",
       "2021-01-31  52693.182     43696.0"
      ]
     },
     "execution_count": 41,
     "metadata": {},
     "output_type": "execute_result"
    }
   ],
   "source": [
    "final[['pred24_18','Rolling14D']].tail(14)"
   ]
  },
  {
   "cell_type": "code",
   "execution_count": 42,
   "metadata": {},
   "outputs": [
    {
     "data": {
      "text/html": [
       "<div>\n",
       "<style scoped>\n",
       "    .dataframe tbody tr th:only-of-type {\n",
       "        vertical-align: middle;\n",
       "    }\n",
       "\n",
       "    .dataframe tbody tr th {\n",
       "        vertical-align: top;\n",
       "    }\n",
       "\n",
       "    .dataframe thead th {\n",
       "        text-align: right;\n",
       "    }\n",
       "</style>\n",
       "<table border=\"1\" class=\"dataframe\">\n",
       "  <thead>\n",
       "    <tr style=\"text-align: right;\">\n",
       "      <th></th>\n",
       "      <th>pred24_18</th>\n",
       "    </tr>\n",
       "  </thead>\n",
       "  <tbody>\n",
       "    <tr>\n",
       "      <th>2021-02-01</th>\n",
       "      <td>56208.852</td>\n",
       "    </tr>\n",
       "    <tr>\n",
       "      <th>2021-02-02</th>\n",
       "      <td>56841.192</td>\n",
       "    </tr>\n",
       "    <tr>\n",
       "      <th>2021-02-03</th>\n",
       "      <td>57877.866</td>\n",
       "    </tr>\n",
       "    <tr>\n",
       "      <th>2021-02-04</th>\n",
       "      <td>58594.086</td>\n",
       "    </tr>\n",
       "    <tr>\n",
       "      <th>2021-02-05</th>\n",
       "      <td>59086.530</td>\n",
       "    </tr>\n",
       "    <tr>\n",
       "      <th>2021-02-06</th>\n",
       "      <td>59047.920</td>\n",
       "    </tr>\n",
       "    <tr>\n",
       "      <th>2021-02-07</th>\n",
       "      <td>59066.982</td>\n",
       "    </tr>\n",
       "    <tr>\n",
       "      <th>2021-02-08</th>\n",
       "      <td>60657.516</td>\n",
       "    </tr>\n",
       "    <tr>\n",
       "      <th>2021-02-09</th>\n",
       "      <td>58866.192</td>\n",
       "    </tr>\n",
       "    <tr>\n",
       "      <th>2021-02-10</th>\n",
       "      <td>58305.456</td>\n",
       "    </tr>\n",
       "    <tr>\n",
       "      <th>2021-02-11</th>\n",
       "      <td>57564.126</td>\n",
       "    </tr>\n",
       "    <tr>\n",
       "      <th>2021-02-12</th>\n",
       "      <td>56546.370</td>\n",
       "    </tr>\n",
       "    <tr>\n",
       "      <th>2021-02-13</th>\n",
       "      <td>55262.286</td>\n",
       "    </tr>\n",
       "    <tr>\n",
       "      <th>2021-02-14</th>\n",
       "      <td>53755.992</td>\n",
       "    </tr>\n",
       "    <tr>\n",
       "      <th>2021-02-15</th>\n",
       "      <td>51919.776</td>\n",
       "    </tr>\n",
       "    <tr>\n",
       "      <th>2021-02-16</th>\n",
       "      <td>50266.728</td>\n",
       "    </tr>\n",
       "    <tr>\n",
       "      <th>2021-02-17</th>\n",
       "      <td>48787.020</td>\n",
       "    </tr>\n",
       "    <tr>\n",
       "      <th>2021-02-18</th>\n",
       "      <td>47655.396</td>\n",
       "    </tr>\n",
       "    <tr>\n",
       "      <th>2021-02-19</th>\n",
       "      <td>46221.858</td>\n",
       "    </tr>\n",
       "    <tr>\n",
       "      <th>2021-02-20</th>\n",
       "      <td>44828.784</td>\n",
       "    </tr>\n",
       "    <tr>\n",
       "      <th>2021-02-21</th>\n",
       "      <td>43634.394</td>\n",
       "    </tr>\n",
       "    <tr>\n",
       "      <th>2021-02-22</th>\n",
       "      <td>42291.702</td>\n",
       "    </tr>\n",
       "    <tr>\n",
       "      <th>2021-02-23</th>\n",
       "      <td>41235.588</td>\n",
       "    </tr>\n",
       "    <tr>\n",
       "      <th>2021-02-24</th>\n",
       "      <td>40056.444</td>\n",
       "    </tr>\n",
       "  </tbody>\n",
       "</table>\n",
       "</div>"
      ],
      "text/plain": [
       "            pred24_18\n",
       "2021-02-01  56208.852\n",
       "2021-02-02  56841.192\n",
       "2021-02-03  57877.866\n",
       "2021-02-04  58594.086\n",
       "2021-02-05  59086.530\n",
       "2021-02-06  59047.920\n",
       "2021-02-07  59066.982\n",
       "2021-02-08  60657.516\n",
       "2021-02-09  58866.192\n",
       "2021-02-10  58305.456\n",
       "2021-02-11  57564.126\n",
       "2021-02-12  56546.370\n",
       "2021-02-13  55262.286\n",
       "2021-02-14  53755.992\n",
       "2021-02-15  51919.776\n",
       "2021-02-16  50266.728\n",
       "2021-02-17  48787.020\n",
       "2021-02-18  47655.396\n",
       "2021-02-19  46221.858\n",
       "2021-02-20  44828.784\n",
       "2021-02-21  43634.394\n",
       "2021-02-22  42291.702\n",
       "2021-02-23  41235.588\n",
       "2021-02-24  40056.444"
      ]
     },
     "execution_count": 42,
     "metadata": {},
     "output_type": "execute_result"
    }
   ],
   "source": [
    "from datetime import date\n",
    "predictions[['pred24_18']].loc[date.today():].head(24)"
   ]
  },
  {
   "cell_type": "code",
   "execution_count": 43,
   "metadata": {},
   "outputs": [],
   "source": [
    "x=usacases\n",
    "x.index=pd.to_datetime(x.index)\n",
    "y=usadeath\n",
    "y.index=pd.to_datetime(y.index)\n",
    "df=x.shift(periods=35,freq='D').join(y, how='left').dropna()"
   ]
  },
  {
   "cell_type": "code",
   "execution_count": 44,
   "metadata": {},
   "outputs": [
    {
     "data": {
      "text/plain": [
       "<AxesSubplot:>"
      ]
     },
     "execution_count": 44,
     "metadata": {},
     "output_type": "execute_result"
    },
    {
     "data": {
      "image/png": "[encoded data removed]",
      "text/plain": [
       "<Figure size 864x864 with 1 Axes>"
      ]
     },
     "metadata": {
      "needs_background": "light"
     },
     "output_type": "display_data"
    }
   ],
   "source": [
    "df['proportion']=df['NewDeath']/df['NewCases']\n",
    "df.proportion.rolling(30).mean().loc['2020-08-01':].plot()"
   ]
  },
  {
   "cell_type": "code",
   "execution_count": null,
   "metadata": {},
   "outputs": [],
   "source": []
  }
 ],
 "metadata": {
  "kernelspec": {
   "display_name": "Python 3",
   "language": "python",
   "name": "python3"
  },
  "language_info": {
   "codemirror_mode": {
    "name": "ipython",
    "version": 3
   },
   "file_extension": ".py",
   "mimetype": "text/x-python",
   "name": "python",
   "nbconvert_exporter": "python",
   "pygments_lexer": "ipython3",
   "version": "3.7.6"
  },
  "toc": {
   "base_numbering": 1,
   "nav_menu": {},
   "number_sections": false,
   "sideBar": true,
   "skip_h1_title": false,
   "title_cell": "Table of Contents",
   "title_sidebar": "Contents",
   "toc_cell": false,
   "toc_position": {},
   "toc_section_display": true,
   "toc_window_display": false
  }
 },
 "nbformat": 4,
 "nbformat_minor": 4
}
