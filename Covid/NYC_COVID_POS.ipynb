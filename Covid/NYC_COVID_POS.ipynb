{
 "cells": [
  {
   "cell_type": "code",
   "execution_count": 1,
   "metadata": {},
   "outputs": [],
   "source": [
    "import pandas as pd\n",
    "import matplotlib.pyplot as plt\n",
    "import numpy as np"
   ]
  },
  {
   "cell_type": "code",
   "execution_count": 2,
   "metadata": {},
   "outputs": [],
   "source": [
    "df=pd.read_csv('https://health.data.ny.gov/api/views/xdss-u53e/rows.csv?accessType=DOWNLOAD',parse_dates=['Test Date'])"
   ]
  },
  {
   "cell_type": "code",
   "execution_count": 3,
   "metadata": {},
   "outputs": [],
   "source": [
    "df=df.groupby(['County','Test Date']).sum()"
   ]
  },
  {
   "cell_type": "markdown",
   "metadata": {},
   "source": [
    "# Westchester County"
   ]
  },
  {
   "cell_type": "markdown",
   "metadata": {},
   "source": [
    "FOR RED ZONE STATUS"
   ]
  },
  {
   "cell_type": "markdown",
   "metadata": {},
   "source": [
    "Geographic area has 7-day rolling average positivity above 4% for 10 days  \n",
    "\n",
    "AND  \n",
    "\n",
    "Geographic area has 10 or more new daily cases per 100,000 residents on 7-day average  "
   ]
  },
  {
   "cell_type": "code",
   "execution_count": 4,
   "metadata": {},
   "outputs": [
    {
     "data": {
      "text/html": [
       "<div>\n",
       "<style scoped>\n",
       "    .dataframe tbody tr th:only-of-type {\n",
       "        vertical-align: middle;\n",
       "    }\n",
       "\n",
       "    .dataframe tbody tr th {\n",
       "        vertical-align: top;\n",
       "    }\n",
       "\n",
       "    .dataframe thead th {\n",
       "        text-align: right;\n",
       "    }\n",
       "</style>\n",
       "<table border=\"1\" class=\"dataframe\">\n",
       "  <thead>\n",
       "    <tr style=\"text-align: right;\">\n",
       "      <th></th>\n",
       "      <th>New Positives</th>\n",
       "      <th>Cumulative Number of Positives</th>\n",
       "      <th>Total Number of Tests Performed</th>\n",
       "      <th>Cumulative Number of Tests Performed</th>\n",
       "      <th>New Positives/Total Tests</th>\n",
       "      <th>pos_hundred_thousand</th>\n",
       "    </tr>\n",
       "    <tr>\n",
       "      <th>Test Date</th>\n",
       "      <th></th>\n",
       "      <th></th>\n",
       "      <th></th>\n",
       "      <th></th>\n",
       "      <th></th>\n",
       "      <th></th>\n",
       "    </tr>\n",
       "  </thead>\n",
       "  <tbody>\n",
       "    <tr>\n",
       "      <th>2020-12-29</th>\n",
       "      <td>771</td>\n",
       "      <td>68702</td>\n",
       "      <td>8701</td>\n",
       "      <td>1405557</td>\n",
       "      <td>0.088611</td>\n",
       "      <td>79.689428</td>\n",
       "    </tr>\n",
       "    <tr>\n",
       "      <th>2020-12-30</th>\n",
       "      <td>959</td>\n",
       "      <td>69661</td>\n",
       "      <td>12987</td>\n",
       "      <td>1418544</td>\n",
       "      <td>0.073843</td>\n",
       "      <td>99.120832</td>\n",
       "    </tr>\n",
       "    <tr>\n",
       "      <th>2020-12-31</th>\n",
       "      <td>953</td>\n",
       "      <td>70614</td>\n",
       "      <td>12185</td>\n",
       "      <td>1430729</td>\n",
       "      <td>0.078211</td>\n",
       "      <td>98.500681</td>\n",
       "    </tr>\n",
       "    <tr>\n",
       "      <th>2021-01-01</th>\n",
       "      <td>1013</td>\n",
       "      <td>71627</td>\n",
       "      <td>12775</td>\n",
       "      <td>1443504</td>\n",
       "      <td>0.079295</td>\n",
       "      <td>104.702193</td>\n",
       "    </tr>\n",
       "    <tr>\n",
       "      <th>2021-01-02</th>\n",
       "      <td>591</td>\n",
       "      <td>72218</td>\n",
       "      <td>8333</td>\n",
       "      <td>1451837</td>\n",
       "      <td>0.070923</td>\n",
       "      <td>61.084892</td>\n",
       "    </tr>\n",
       "    <tr>\n",
       "      <th>2021-01-03</th>\n",
       "      <td>544</td>\n",
       "      <td>72762</td>\n",
       "      <td>7180</td>\n",
       "      <td>1459017</td>\n",
       "      <td>0.075766</td>\n",
       "      <td>56.227041</td>\n",
       "    </tr>\n",
       "    <tr>\n",
       "      <th>2021-01-04</th>\n",
       "      <td>619</td>\n",
       "      <td>73381</td>\n",
       "      <td>8878</td>\n",
       "      <td>1467895</td>\n",
       "      <td>0.069723</td>\n",
       "      <td>63.978931</td>\n",
       "    </tr>\n",
       "    <tr>\n",
       "      <th>2021-01-05</th>\n",
       "      <td>776</td>\n",
       "      <td>74157</td>\n",
       "      <td>10826</td>\n",
       "      <td>1478721</td>\n",
       "      <td>0.071679</td>\n",
       "      <td>80.206221</td>\n",
       "    </tr>\n",
       "    <tr>\n",
       "      <th>2021-01-06</th>\n",
       "      <td>1019</td>\n",
       "      <td>75176</td>\n",
       "      <td>13201</td>\n",
       "      <td>1491922</td>\n",
       "      <td>0.077191</td>\n",
       "      <td>105.322344</td>\n",
       "    </tr>\n",
       "    <tr>\n",
       "      <th>2021-01-07</th>\n",
       "      <td>913</td>\n",
       "      <td>76089</td>\n",
       "      <td>12329</td>\n",
       "      <td>1504251</td>\n",
       "      <td>0.074053</td>\n",
       "      <td>94.366340</td>\n",
       "    </tr>\n",
       "    <tr>\n",
       "      <th>2021-01-08</th>\n",
       "      <td>853</td>\n",
       "      <td>76942</td>\n",
       "      <td>12578</td>\n",
       "      <td>1516829</td>\n",
       "      <td>0.067817</td>\n",
       "      <td>88.164828</td>\n",
       "    </tr>\n",
       "    <tr>\n",
       "      <th>2021-01-09</th>\n",
       "      <td>789</td>\n",
       "      <td>77731</td>\n",
       "      <td>12051</td>\n",
       "      <td>1528880</td>\n",
       "      <td>0.065472</td>\n",
       "      <td>81.549882</td>\n",
       "    </tr>\n",
       "    <tr>\n",
       "      <th>2021-01-10</th>\n",
       "      <td>803</td>\n",
       "      <td>78534</td>\n",
       "      <td>11381</td>\n",
       "      <td>1540261</td>\n",
       "      <td>0.070556</td>\n",
       "      <td>82.996901</td>\n",
       "    </tr>\n",
       "    <tr>\n",
       "      <th>2021-01-11</th>\n",
       "      <td>872</td>\n",
       "      <td>79406</td>\n",
       "      <td>11069</td>\n",
       "      <td>1551330</td>\n",
       "      <td>0.078779</td>\n",
       "      <td>90.128640</td>\n",
       "    </tr>\n",
       "  </tbody>\n",
       "</table>\n",
       "</div>"
      ],
      "text/plain": [
       "            New Positives  Cumulative Number of Positives  \\\n",
       "Test Date                                                   \n",
       "2020-12-29            771                           68702   \n",
       "2020-12-30            959                           69661   \n",
       "2020-12-31            953                           70614   \n",
       "2021-01-01           1013                           71627   \n",
       "2021-01-02            591                           72218   \n",
       "2021-01-03            544                           72762   \n",
       "2021-01-04            619                           73381   \n",
       "2021-01-05            776                           74157   \n",
       "2021-01-06           1019                           75176   \n",
       "2021-01-07            913                           76089   \n",
       "2021-01-08            853                           76942   \n",
       "2021-01-09            789                           77731   \n",
       "2021-01-10            803                           78534   \n",
       "2021-01-11            872                           79406   \n",
       "\n",
       "            Total Number of Tests Performed  \\\n",
       "Test Date                                     \n",
       "2020-12-29                             8701   \n",
       "2020-12-30                            12987   \n",
       "2020-12-31                            12185   \n",
       "2021-01-01                            12775   \n",
       "2021-01-02                             8333   \n",
       "2021-01-03                             7180   \n",
       "2021-01-04                             8878   \n",
       "2021-01-05                            10826   \n",
       "2021-01-06                            13201   \n",
       "2021-01-07                            12329   \n",
       "2021-01-08                            12578   \n",
       "2021-01-09                            12051   \n",
       "2021-01-10                            11381   \n",
       "2021-01-11                            11069   \n",
       "\n",
       "            Cumulative Number of Tests Performed  New Positives/Total Tests  \\\n",
       "Test Date                                                                     \n",
       "2020-12-29                               1405557                   0.088611   \n",
       "2020-12-30                               1418544                   0.073843   \n",
       "2020-12-31                               1430729                   0.078211   \n",
       "2021-01-01                               1443504                   0.079295   \n",
       "2021-01-02                               1451837                   0.070923   \n",
       "2021-01-03                               1459017                   0.075766   \n",
       "2021-01-04                               1467895                   0.069723   \n",
       "2021-01-05                               1478721                   0.071679   \n",
       "2021-01-06                               1491922                   0.077191   \n",
       "2021-01-07                               1504251                   0.074053   \n",
       "2021-01-08                               1516829                   0.067817   \n",
       "2021-01-09                               1528880                   0.065472   \n",
       "2021-01-10                               1540261                   0.070556   \n",
       "2021-01-11                               1551330                   0.078779   \n",
       "\n",
       "            pos_hundred_thousand  \n",
       "Test Date                         \n",
       "2020-12-29             79.689428  \n",
       "2020-12-30             99.120832  \n",
       "2020-12-31             98.500681  \n",
       "2021-01-01            104.702193  \n",
       "2021-01-02             61.084892  \n",
       "2021-01-03             56.227041  \n",
       "2021-01-04             63.978931  \n",
       "2021-01-05             80.206221  \n",
       "2021-01-06            105.322344  \n",
       "2021-01-07             94.366340  \n",
       "2021-01-08             88.164828  \n",
       "2021-01-09             81.549882  \n",
       "2021-01-10             82.996901  \n",
       "2021-01-11             90.128640  "
      ]
     },
     "execution_count": 4,
     "metadata": {},
     "output_type": "execute_result"
    }
   ],
   "source": [
    "westchester=pd.DataFrame(df.loc['Westchester'])\n",
    "westchester['New Positives/Total Tests']=westchester['New Positives']/westchester['Total Number of Tests Performed']\n",
    "westchester['pos_hundred_thousand']=(westchester['New Positives']*100000)/967506\n",
    "westchester.tail(14)"
   ]
  },
  {
   "cell_type": "code",
   "execution_count": 5,
   "metadata": {},
   "outputs": [
    {
     "data": {
      "text/plain": [
       "Test Date\n",
       "2021-01-02    0.075534\n",
       "2021-01-03    0.075758\n",
       "2021-01-04    0.076625\n",
       "2021-01-05    0.074206\n",
       "2021-01-06    0.074684\n",
       "2021-01-07    0.074090\n",
       "2021-01-08    0.072450\n",
       "2021-01-09    0.071672\n",
       "2021-01-10    0.070927\n",
       "2021-01-11    0.072221\n",
       "Name: New Positives/Total Tests, dtype: float64"
      ]
     },
     "execution_count": 5,
     "metadata": {},
     "output_type": "execute_result"
    }
   ],
   "source": [
    "westchester['New Positives/Total Tests'].rolling(7).mean().tail(10)"
   ]
  },
  {
   "cell_type": "code",
   "execution_count": 6,
   "metadata": {},
   "outputs": [
    {
     "data": {
      "text/plain": [
       "<AxesSubplot:xlabel='Test Date'>"
      ]
     },
     "execution_count": 6,
     "metadata": {},
     "output_type": "execute_result"
    },
    {
     "data": {
      "image/png": "[encoded data removed]",
      "text/plain": [
       "<Figure size 432x288 with 1 Axes>"
      ]
     },
     "metadata": {
      "needs_background": "light"
     },
     "output_type": "display_data"
    }
   ],
   "source": [
    "westchester['New Positives/Total Tests'].rolling(7).mean().plot()"
   ]
  },
  {
   "cell_type": "code",
   "execution_count": 7,
   "metadata": {},
   "outputs": [
    {
     "data": {
      "text/plain": [
       "Test Date\n",
       "2021-01-02    79.453180\n",
       "2021-01-03    79.349822\n",
       "2021-01-04    80.472000\n",
       "2021-01-05    80.545828\n",
       "2021-01-06    81.431758\n",
       "2021-01-07    80.841138\n",
       "2021-01-08    78.478657\n",
       "2021-01-09    81.402227\n",
       "2021-01-10    85.226493\n",
       "2021-01-11    88.962165\n",
       "Name: pos_hundred_thousand, dtype: float64"
      ]
     },
     "execution_count": 7,
     "metadata": {},
     "output_type": "execute_result"
    }
   ],
   "source": [
    "westchester['pos_hundred_thousand'].rolling(7).mean().tail(10)"
   ]
  },
  {
   "cell_type": "code",
   "execution_count": 8,
   "metadata": {},
   "outputs": [
    {
     "data": {
      "text/plain": [
       "<AxesSubplot:xlabel='Test Date'>"
      ]
     },
     "execution_count": 8,
     "metadata": {},
     "output_type": "execute_result"
    },
    {
     "data": {
      "image/png": "[encoded data removed]",
      "text/plain": [
       "<Figure size 432x288 with 1 Axes>"
      ]
     },
     "metadata": {
      "needs_background": "light"
     },
     "output_type": "display_data"
    }
   ],
   "source": [
    "westchester['pos_hundred_thousand'].rolling(7).mean().plot()"
   ]
  },
  {
   "cell_type": "code",
   "execution_count": 9,
   "metadata": {},
   "outputs": [
    {
     "name": "stdout",
     "output_type": "stream",
     "text": [
      "LOCKDOWN IMMINENT\n"
     ]
    }
   ],
   "source": [
    "per_cap=np.sum(westchester['pos_hundred_thousand'].rolling(7).mean().tail(10).values >10)\n",
    "pos_rate=np.sum(westchester['New Positives/Total Tests'].rolling(7).mean().tail(10).values)\n",
    "if per_cap == 10 and pos_rate >=.4:\n",
    "    print('LOCKDOWN IMMINENT')\n",
    "if (per_cap>=1) and (pos_rate>=.2 and pos_rate<.4):\n",
    "    print('LOCKDOWN PENDING')   \n",
    "if (pos_rate<=.2):\n",
    "    print('LOCKDOWN UNLIKELY')"
   ]
  },
  {
   "cell_type": "markdown",
   "metadata": {},
   "source": [
    "# Ulster County"
   ]
  },
  {
   "cell_type": "markdown",
   "metadata": {},
   "source": [
    "FOR POSSIBLE RED ZONE STATUS"
   ]
  },
  {
   "cell_type": "markdown",
   "metadata": {},
   "source": [
    "Geographic area has 7-day rolling average positivity above 5% for 10 days  \n",
    "\n",
    "AND  \n",
    "\n",
    "Geographic area has 12 or more new daily cases per 100,000 residents on 7-day average  "
   ]
  },
  {
   "cell_type": "code",
   "execution_count": 10,
   "metadata": {},
   "outputs": [
    {
     "data": {
      "text/html": [
       "<div>\n",
       "<style scoped>\n",
       "    .dataframe tbody tr th:only-of-type {\n",
       "        vertical-align: middle;\n",
       "    }\n",
       "\n",
       "    .dataframe tbody tr th {\n",
       "        vertical-align: top;\n",
       "    }\n",
       "\n",
       "    .dataframe thead th {\n",
       "        text-align: right;\n",
       "    }\n",
       "</style>\n",
       "<table border=\"1\" class=\"dataframe\">\n",
       "  <thead>\n",
       "    <tr style=\"text-align: right;\">\n",
       "      <th></th>\n",
       "      <th>New Positives</th>\n",
       "      <th>Cumulative Number of Positives</th>\n",
       "      <th>Total Number of Tests Performed</th>\n",
       "      <th>Cumulative Number of Tests Performed</th>\n",
       "      <th>New Positives/Total Tests</th>\n",
       "      <th>pos_hundred_thousand</th>\n",
       "    </tr>\n",
       "    <tr>\n",
       "      <th>Test Date</th>\n",
       "      <th></th>\n",
       "      <th></th>\n",
       "      <th></th>\n",
       "      <th></th>\n",
       "      <th></th>\n",
       "      <th></th>\n",
       "    </tr>\n",
       "  </thead>\n",
       "  <tbody>\n",
       "    <tr>\n",
       "      <th>2020-12-29</th>\n",
       "      <td>74</td>\n",
       "      <td>5572</td>\n",
       "      <td>919</td>\n",
       "      <td>200239</td>\n",
       "      <td>0.080522</td>\n",
       "      <td>41.673002</td>\n",
       "    </tr>\n",
       "    <tr>\n",
       "      <th>2020-12-30</th>\n",
       "      <td>107</td>\n",
       "      <td>5679</td>\n",
       "      <td>1352</td>\n",
       "      <td>201591</td>\n",
       "      <td>0.079142</td>\n",
       "      <td>60.256908</td>\n",
       "    </tr>\n",
       "    <tr>\n",
       "      <th>2020-12-31</th>\n",
       "      <td>137</td>\n",
       "      <td>5816</td>\n",
       "      <td>1639</td>\n",
       "      <td>203230</td>\n",
       "      <td>0.083588</td>\n",
       "      <td>77.151369</td>\n",
       "    </tr>\n",
       "    <tr>\n",
       "      <th>2021-01-01</th>\n",
       "      <td>119</td>\n",
       "      <td>5935</td>\n",
       "      <td>1685</td>\n",
       "      <td>204915</td>\n",
       "      <td>0.070623</td>\n",
       "      <td>67.014693</td>\n",
       "    </tr>\n",
       "    <tr>\n",
       "      <th>2021-01-02</th>\n",
       "      <td>84</td>\n",
       "      <td>6019</td>\n",
       "      <td>1111</td>\n",
       "      <td>206026</td>\n",
       "      <td>0.075608</td>\n",
       "      <td>47.304489</td>\n",
       "    </tr>\n",
       "    <tr>\n",
       "      <th>2021-01-03</th>\n",
       "      <td>70</td>\n",
       "      <td>6089</td>\n",
       "      <td>847</td>\n",
       "      <td>206873</td>\n",
       "      <td>0.082645</td>\n",
       "      <td>39.420407</td>\n",
       "    </tr>\n",
       "    <tr>\n",
       "      <th>2021-01-04</th>\n",
       "      <td>97</td>\n",
       "      <td>6186</td>\n",
       "      <td>1011</td>\n",
       "      <td>207884</td>\n",
       "      <td>0.095945</td>\n",
       "      <td>54.625422</td>\n",
       "    </tr>\n",
       "    <tr>\n",
       "      <th>2021-01-05</th>\n",
       "      <td>118</td>\n",
       "      <td>6304</td>\n",
       "      <td>1431</td>\n",
       "      <td>209315</td>\n",
       "      <td>0.082460</td>\n",
       "      <td>66.451544</td>\n",
       "    </tr>\n",
       "    <tr>\n",
       "      <th>2021-01-06</th>\n",
       "      <td>113</td>\n",
       "      <td>6417</td>\n",
       "      <td>1801</td>\n",
       "      <td>211116</td>\n",
       "      <td>0.062743</td>\n",
       "      <td>63.635800</td>\n",
       "    </tr>\n",
       "    <tr>\n",
       "      <th>2021-01-07</th>\n",
       "      <td>140</td>\n",
       "      <td>6557</td>\n",
       "      <td>1934</td>\n",
       "      <td>213050</td>\n",
       "      <td>0.072389</td>\n",
       "      <td>78.840815</td>\n",
       "    </tr>\n",
       "    <tr>\n",
       "      <th>2021-01-08</th>\n",
       "      <td>120</td>\n",
       "      <td>6677</td>\n",
       "      <td>1658</td>\n",
       "      <td>214708</td>\n",
       "      <td>0.072376</td>\n",
       "      <td>67.577841</td>\n",
       "    </tr>\n",
       "    <tr>\n",
       "      <th>2021-01-09</th>\n",
       "      <td>158</td>\n",
       "      <td>6835</td>\n",
       "      <td>2050</td>\n",
       "      <td>216758</td>\n",
       "      <td>0.077073</td>\n",
       "      <td>88.977491</td>\n",
       "    </tr>\n",
       "    <tr>\n",
       "      <th>2021-01-10</th>\n",
       "      <td>92</td>\n",
       "      <td>6927</td>\n",
       "      <td>1376</td>\n",
       "      <td>218134</td>\n",
       "      <td>0.066860</td>\n",
       "      <td>51.809678</td>\n",
       "    </tr>\n",
       "    <tr>\n",
       "      <th>2021-01-11</th>\n",
       "      <td>111</td>\n",
       "      <td>7038</td>\n",
       "      <td>1401</td>\n",
       "      <td>219535</td>\n",
       "      <td>0.079229</td>\n",
       "      <td>62.509503</td>\n",
       "    </tr>\n",
       "  </tbody>\n",
       "</table>\n",
       "</div>"
      ],
      "text/plain": [
       "            New Positives  Cumulative Number of Positives  \\\n",
       "Test Date                                                   \n",
       "2020-12-29             74                            5572   \n",
       "2020-12-30            107                            5679   \n",
       "2020-12-31            137                            5816   \n",
       "2021-01-01            119                            5935   \n",
       "2021-01-02             84                            6019   \n",
       "2021-01-03             70                            6089   \n",
       "2021-01-04             97                            6186   \n",
       "2021-01-05            118                            6304   \n",
       "2021-01-06            113                            6417   \n",
       "2021-01-07            140                            6557   \n",
       "2021-01-08            120                            6677   \n",
       "2021-01-09            158                            6835   \n",
       "2021-01-10             92                            6927   \n",
       "2021-01-11            111                            7038   \n",
       "\n",
       "            Total Number of Tests Performed  \\\n",
       "Test Date                                     \n",
       "2020-12-29                              919   \n",
       "2020-12-30                             1352   \n",
       "2020-12-31                             1639   \n",
       "2021-01-01                             1685   \n",
       "2021-01-02                             1111   \n",
       "2021-01-03                              847   \n",
       "2021-01-04                             1011   \n",
       "2021-01-05                             1431   \n",
       "2021-01-06                             1801   \n",
       "2021-01-07                             1934   \n",
       "2021-01-08                             1658   \n",
       "2021-01-09                             2050   \n",
       "2021-01-10                             1376   \n",
       "2021-01-11                             1401   \n",
       "\n",
       "            Cumulative Number of Tests Performed  New Positives/Total Tests  \\\n",
       "Test Date                                                                     \n",
       "2020-12-29                                200239                   0.080522   \n",
       "2020-12-30                                201591                   0.079142   \n",
       "2020-12-31                                203230                   0.083588   \n",
       "2021-01-01                                204915                   0.070623   \n",
       "2021-01-02                                206026                   0.075608   \n",
       "2021-01-03                                206873                   0.082645   \n",
       "2021-01-04                                207884                   0.095945   \n",
       "2021-01-05                                209315                   0.082460   \n",
       "2021-01-06                                211116                   0.062743   \n",
       "2021-01-07                                213050                   0.072389   \n",
       "2021-01-08                                214708                   0.072376   \n",
       "2021-01-09                                216758                   0.077073   \n",
       "2021-01-10                                218134                   0.066860   \n",
       "2021-01-11                                219535                   0.079229   \n",
       "\n",
       "            pos_hundred_thousand  \n",
       "Test Date                         \n",
       "2020-12-29             41.673002  \n",
       "2020-12-30             60.256908  \n",
       "2020-12-31             77.151369  \n",
       "2021-01-01             67.014693  \n",
       "2021-01-02             47.304489  \n",
       "2021-01-03             39.420407  \n",
       "2021-01-04             54.625422  \n",
       "2021-01-05             66.451544  \n",
       "2021-01-06             63.635800  \n",
       "2021-01-07             78.840815  \n",
       "2021-01-08             67.577841  \n",
       "2021-01-09             88.977491  \n",
       "2021-01-10             51.809678  \n",
       "2021-01-11             62.509503  "
      ]
     },
     "execution_count": 10,
     "metadata": {},
     "output_type": "execute_result"
    }
   ],
   "source": [
    "ulster=df.loc['Ulster']\n",
    "ulster['New Positives/Total Tests']=ulster['New Positives']/ulster['Total Number of Tests Performed']\n",
    "ulster['pos_hundred_thousand']=(ulster['New Positives']*100000)/177573\n",
    "ulster.tail(14)"
   ]
  },
  {
   "cell_type": "code",
   "execution_count": 11,
   "metadata": {},
   "outputs": [
    {
     "data": {
      "text/plain": [
       "Test Date\n",
       "2021-01-02    0.073555\n",
       "2021-01-03    0.076113\n",
       "2021-01-04    0.081153\n",
       "2021-01-05    0.081430\n",
       "2021-01-06    0.079087\n",
       "2021-01-07    0.077487\n",
       "2021-01-08    0.077738\n",
       "2021-01-09    0.077947\n",
       "2021-01-10    0.075692\n",
       "2021-01-11    0.073304\n",
       "Name: New Positives/Total Tests, dtype: float64"
      ]
     },
     "execution_count": 11,
     "metadata": {},
     "output_type": "execute_result"
    }
   ],
   "source": [
    "ulster['New Positives/Total Tests'].rolling(7).mean().tail(10)"
   ]
  },
  {
   "cell_type": "code",
   "execution_count": 12,
   "metadata": {},
   "outputs": [
    {
     "data": {
      "text/plain": [
       "<AxesSubplot:xlabel='Test Date'>"
      ]
     },
     "execution_count": 12,
     "metadata": {},
     "output_type": "execute_result"
    },
    {
     "data": {
      "image/png": "[encoded data removed]",
      "text/plain": [
       "<Figure size 432x288 with 1 Axes>"
      ]
     },
     "metadata": {
      "needs_background": "light"
     },
     "output_type": "display_data"
    }
   ],
   "source": [
    "ulster['New Positives/Total Tests'].rolling(7).mean().plot()"
   ]
  },
  {
   "cell_type": "code",
   "execution_count": 13,
   "metadata": {},
   "outputs": [
    {
     "data": {
      "text/plain": [
       "Test Date\n",
       "2020-12-31    46.258641\n",
       "2021-01-01    48.833035\n",
       "2021-01-02    51.407429\n",
       "2021-01-03    52.533727\n",
       "2021-01-04    55.349470\n",
       "2021-01-05    58.889262\n",
       "2021-01-06    59.371961\n",
       "2021-01-07    59.613310\n",
       "2021-01-08    59.693760\n",
       "2021-01-09    65.647046\n",
       "2021-01-10    67.416942\n",
       "2021-01-11    68.543239\n",
       "Name: pos_hundred_thousand, dtype: float64"
      ]
     },
     "execution_count": 13,
     "metadata": {},
     "output_type": "execute_result"
    }
   ],
   "source": [
    "ulster['pos_hundred_thousand'].rolling(7).mean().tail(12)"
   ]
  },
  {
   "cell_type": "code",
   "execution_count": 14,
   "metadata": {},
   "outputs": [
    {
     "data": {
      "text/plain": [
       "<AxesSubplot:xlabel='Test Date'>"
      ]
     },
     "execution_count": 14,
     "metadata": {},
     "output_type": "execute_result"
    },
    {
     "data": {
      "image/png": "[encoded data removed]",
      "text/plain": [
       "<Figure size 432x288 with 1 Axes>"
      ]
     },
     "metadata": {
      "needs_background": "light"
     },
     "output_type": "display_data"
    }
   ],
   "source": [
    "ulster['pos_hundred_thousand'].rolling(7).mean().plot()"
   ]
  },
  {
   "cell_type": "code",
   "execution_count": 15,
   "metadata": {},
   "outputs": [
    {
     "name": "stdout",
     "output_type": "stream",
     "text": [
      "LOCKDOWN IMMINENT - MAJOR CONDITIONS FOR LOCKDOWN MET - CHECK https://www.governor.ny.gov/news/governor-cuomo-details-covid-19-micro-cluster-metrics FOR SMALL COUNTY DETAILS\n"
     ]
    }
   ],
   "source": [
    "per_cap=np.sum(ulster['pos_hundred_thousand'].rolling(7).mean().tail(12).values >10)\n",
    "pos_rate=np.sum(ulster['New Positives/Total Tests'].rolling(7).mean().tail(10).values)\n",
    "if per_cap == 12 and pos_rate >= .5:\n",
    "    print('LOCKDOWN IMMINENT - MAJOR CONDITIONS FOR LOCKDOWN MET - CHECK https://www.governor.ny.gov/news/governor-cuomo-details-covid-19-micro-cluster-metrics FOR SMALL COUNTY DETAILS')\n",
    "if (per_cap>=1) and (pos_rate>=.3 and pos_rate<.5):\n",
    "    print('LOCKDOWN PENDING')   \n",
    "if (pos_rate <= .3):\n",
    "    print('LOCKDOWN UNLIKELY')"
   ]
  },
  {
   "cell_type": "markdown",
   "metadata": {},
   "source": [
    "# DUTCHESS COUNTY"
   ]
  },
  {
   "cell_type": "markdown",
   "metadata": {},
   "source": [
    "Geographic area has 7-day rolling average positivity above 5% for 10 days  \n",
    "\n",
    "AND  \n",
    "\n",
    "Geographic area has 12 or more new daily cases per 100,000 residents on 7-day average  "
   ]
  },
  {
   "cell_type": "code",
   "execution_count": 16,
   "metadata": {},
   "outputs": [
    {
     "data": {
      "text/html": [
       "<div>\n",
       "<style scoped>\n",
       "    .dataframe tbody tr th:only-of-type {\n",
       "        vertical-align: middle;\n",
       "    }\n",
       "\n",
       "    .dataframe tbody tr th {\n",
       "        vertical-align: top;\n",
       "    }\n",
       "\n",
       "    .dataframe thead th {\n",
       "        text-align: right;\n",
       "    }\n",
       "</style>\n",
       "<table border=\"1\" class=\"dataframe\">\n",
       "  <thead>\n",
       "    <tr style=\"text-align: right;\">\n",
       "      <th></th>\n",
       "      <th>New Positives</th>\n",
       "      <th>Cumulative Number of Positives</th>\n",
       "      <th>Total Number of Tests Performed</th>\n",
       "      <th>Cumulative Number of Tests Performed</th>\n",
       "      <th>New Positives/Total Tests</th>\n",
       "      <th>pos_hundred_thousand</th>\n",
       "    </tr>\n",
       "    <tr>\n",
       "      <th>Test Date</th>\n",
       "      <th></th>\n",
       "      <th></th>\n",
       "      <th></th>\n",
       "      <th></th>\n",
       "      <th></th>\n",
       "      <th></th>\n",
       "    </tr>\n",
       "  </thead>\n",
       "  <tbody>\n",
       "    <tr>\n",
       "      <th>2020-12-29</th>\n",
       "      <td>149</td>\n",
       "      <td>11869</td>\n",
       "      <td>2005</td>\n",
       "      <td>361787</td>\n",
       "      <td>0.074314</td>\n",
       "      <td>50.642721</td>\n",
       "    </tr>\n",
       "    <tr>\n",
       "      <th>2020-12-30</th>\n",
       "      <td>213</td>\n",
       "      <td>12082</td>\n",
       "      <td>2655</td>\n",
       "      <td>364442</td>\n",
       "      <td>0.080226</td>\n",
       "      <td>72.395299</td>\n",
       "    </tr>\n",
       "    <tr>\n",
       "      <th>2020-12-31</th>\n",
       "      <td>297</td>\n",
       "      <td>12379</td>\n",
       "      <td>3338</td>\n",
       "      <td>367780</td>\n",
       "      <td>0.088975</td>\n",
       "      <td>100.945557</td>\n",
       "    </tr>\n",
       "    <tr>\n",
       "      <th>2021-01-01</th>\n",
       "      <td>222</td>\n",
       "      <td>12601</td>\n",
       "      <td>2900</td>\n",
       "      <td>370680</td>\n",
       "      <td>0.076552</td>\n",
       "      <td>75.454255</td>\n",
       "    </tr>\n",
       "    <tr>\n",
       "      <th>2021-01-02</th>\n",
       "      <td>196</td>\n",
       "      <td>12797</td>\n",
       "      <td>2116</td>\n",
       "      <td>372796</td>\n",
       "      <td>0.092628</td>\n",
       "      <td>66.617270</td>\n",
       "    </tr>\n",
       "    <tr>\n",
       "      <th>2021-01-03</th>\n",
       "      <td>223</td>\n",
       "      <td>13020</td>\n",
       "      <td>2253</td>\n",
       "      <td>375049</td>\n",
       "      <td>0.098979</td>\n",
       "      <td>75.794139</td>\n",
       "    </tr>\n",
       "    <tr>\n",
       "      <th>2021-01-04</th>\n",
       "      <td>170</td>\n",
       "      <td>13190</td>\n",
       "      <td>1854</td>\n",
       "      <td>376903</td>\n",
       "      <td>0.091694</td>\n",
       "      <td>57.780285</td>\n",
       "    </tr>\n",
       "    <tr>\n",
       "      <th>2021-01-05</th>\n",
       "      <td>189</td>\n",
       "      <td>13379</td>\n",
       "      <td>2499</td>\n",
       "      <td>379402</td>\n",
       "      <td>0.075630</td>\n",
       "      <td>64.238082</td>\n",
       "    </tr>\n",
       "    <tr>\n",
       "      <th>2021-01-06</th>\n",
       "      <td>263</td>\n",
       "      <td>13642</td>\n",
       "      <td>3462</td>\n",
       "      <td>382864</td>\n",
       "      <td>0.075968</td>\n",
       "      <td>89.389500</td>\n",
       "    </tr>\n",
       "    <tr>\n",
       "      <th>2021-01-07</th>\n",
       "      <td>281</td>\n",
       "      <td>13923</td>\n",
       "      <td>3478</td>\n",
       "      <td>386342</td>\n",
       "      <td>0.080794</td>\n",
       "      <td>95.507413</td>\n",
       "    </tr>\n",
       "    <tr>\n",
       "      <th>2021-01-08</th>\n",
       "      <td>289</td>\n",
       "      <td>14212</td>\n",
       "      <td>3231</td>\n",
       "      <td>389573</td>\n",
       "      <td>0.089446</td>\n",
       "      <td>98.226485</td>\n",
       "    </tr>\n",
       "    <tr>\n",
       "      <th>2021-01-09</th>\n",
       "      <td>259</td>\n",
       "      <td>14471</td>\n",
       "      <td>3388</td>\n",
       "      <td>392961</td>\n",
       "      <td>0.076446</td>\n",
       "      <td>88.029964</td>\n",
       "    </tr>\n",
       "    <tr>\n",
       "      <th>2021-01-10</th>\n",
       "      <td>286</td>\n",
       "      <td>14757</td>\n",
       "      <td>2727</td>\n",
       "      <td>395688</td>\n",
       "      <td>0.104877</td>\n",
       "      <td>97.206833</td>\n",
       "    </tr>\n",
       "    <tr>\n",
       "      <th>2021-01-11</th>\n",
       "      <td>240</td>\n",
       "      <td>14997</td>\n",
       "      <td>2651</td>\n",
       "      <td>398339</td>\n",
       "      <td>0.090532</td>\n",
       "      <td>81.572168</td>\n",
       "    </tr>\n",
       "  </tbody>\n",
       "</table>\n",
       "</div>"
      ],
      "text/plain": [
       "            New Positives  Cumulative Number of Positives  \\\n",
       "Test Date                                                   \n",
       "2020-12-29            149                           11869   \n",
       "2020-12-30            213                           12082   \n",
       "2020-12-31            297                           12379   \n",
       "2021-01-01            222                           12601   \n",
       "2021-01-02            196                           12797   \n",
       "2021-01-03            223                           13020   \n",
       "2021-01-04            170                           13190   \n",
       "2021-01-05            189                           13379   \n",
       "2021-01-06            263                           13642   \n",
       "2021-01-07            281                           13923   \n",
       "2021-01-08            289                           14212   \n",
       "2021-01-09            259                           14471   \n",
       "2021-01-10            286                           14757   \n",
       "2021-01-11            240                           14997   \n",
       "\n",
       "            Total Number of Tests Performed  \\\n",
       "Test Date                                     \n",
       "2020-12-29                             2005   \n",
       "2020-12-30                             2655   \n",
       "2020-12-31                             3338   \n",
       "2021-01-01                             2900   \n",
       "2021-01-02                             2116   \n",
       "2021-01-03                             2253   \n",
       "2021-01-04                             1854   \n",
       "2021-01-05                             2499   \n",
       "2021-01-06                             3462   \n",
       "2021-01-07                             3478   \n",
       "2021-01-08                             3231   \n",
       "2021-01-09                             3388   \n",
       "2021-01-10                             2727   \n",
       "2021-01-11                             2651   \n",
       "\n",
       "            Cumulative Number of Tests Performed  New Positives/Total Tests  \\\n",
       "Test Date                                                                     \n",
       "2020-12-29                                361787                   0.074314   \n",
       "2020-12-30                                364442                   0.080226   \n",
       "2020-12-31                                367780                   0.088975   \n",
       "2021-01-01                                370680                   0.076552   \n",
       "2021-01-02                                372796                   0.092628   \n",
       "2021-01-03                                375049                   0.098979   \n",
       "2021-01-04                                376903                   0.091694   \n",
       "2021-01-05                                379402                   0.075630   \n",
       "2021-01-06                                382864                   0.075968   \n",
       "2021-01-07                                386342                   0.080794   \n",
       "2021-01-08                                389573                   0.089446   \n",
       "2021-01-09                                392961                   0.076446   \n",
       "2021-01-10                                395688                   0.104877   \n",
       "2021-01-11                                398339                   0.090532   \n",
       "\n",
       "            pos_hundred_thousand  \n",
       "Test Date                         \n",
       "2020-12-29             50.642721  \n",
       "2020-12-30             72.395299  \n",
       "2020-12-31            100.945557  \n",
       "2021-01-01             75.454255  \n",
       "2021-01-02             66.617270  \n",
       "2021-01-03             75.794139  \n",
       "2021-01-04             57.780285  \n",
       "2021-01-05             64.238082  \n",
       "2021-01-06             89.389500  \n",
       "2021-01-07             95.507413  \n",
       "2021-01-08             98.226485  \n",
       "2021-01-09             88.029964  \n",
       "2021-01-10             97.206833  \n",
       "2021-01-11             81.572168  "
      ]
     },
     "execution_count": 16,
     "metadata": {},
     "output_type": "execute_result"
    }
   ],
   "source": [
    "dutchess=df.loc['Dutchess']\n",
    "dutchess['New Positives/Total Tests']=dutchess['New Positives']/dutchess['Total Number of Tests Performed']\n",
    "dutchess['pos_hundred_thousand']=(dutchess['New Positives']*100000)/294218\n",
    "dutchess.tail(14)"
   ]
  },
  {
   "cell_type": "code",
   "execution_count": 17,
   "metadata": {},
   "outputs": [
    {
     "data": {
      "text/plain": [
       "Test Date\n",
       "2021-01-02    0.081172\n",
       "2021-01-03    0.080873\n",
       "2021-01-04    0.086195\n",
       "2021-01-05    0.086383\n",
       "2021-01-06    0.085775\n",
       "2021-01-07    0.084606\n",
       "2021-01-08    0.086448\n",
       "2021-01-09    0.084137\n",
       "2021-01-10    0.084979\n",
       "2021-01-11    0.084813\n",
       "Name: New Positives/Total Tests, dtype: float64"
      ]
     },
     "execution_count": 17,
     "metadata": {},
     "output_type": "execute_result"
    }
   ],
   "source": [
    "dutchess['New Positives/Total Tests'].rolling(7).mean().tail(10)"
   ]
  },
  {
   "cell_type": "code",
   "execution_count": 18,
   "metadata": {},
   "outputs": [
    {
     "data": {
      "text/plain": [
       "<AxesSubplot:xlabel='Test Date'>"
      ]
     },
     "execution_count": 18,
     "metadata": {},
     "output_type": "execute_result"
    },
    {
     "data": {
      "image/png": "[encoded data removed]",
      "text/plain": [
       "<Figure size 432x288 with 1 Axes>"
      ]
     },
     "metadata": {
      "needs_background": "light"
     },
     "output_type": "display_data"
    }
   ],
   "source": [
    "dutchess['New Positives/Total Tests'].rolling(7).mean().plot()"
   ]
  },
  {
   "cell_type": "code",
   "execution_count": 19,
   "metadata": {},
   "outputs": [
    {
     "data": {
      "text/plain": [
       "Test Date\n",
       "2021-01-02    66.520160\n",
       "2021-01-03    69.142123\n",
       "2021-01-04    71.375647\n",
       "2021-01-05    73.317841\n",
       "2021-01-06    75.745584\n",
       "2021-01-07    74.968706\n",
       "2021-01-08    78.221882\n",
       "2021-01-09    81.280838\n",
       "2021-01-10    84.339795\n",
       "2021-01-11    87.738635\n",
       "Name: pos_hundred_thousand, dtype: float64"
      ]
     },
     "execution_count": 19,
     "metadata": {},
     "output_type": "execute_result"
    }
   ],
   "source": [
    "dutchess['pos_hundred_thousand'].rolling(7).mean().tail(10)"
   ]
  },
  {
   "cell_type": "code",
   "execution_count": 20,
   "metadata": {},
   "outputs": [
    {
     "data": {
      "text/plain": [
       "<AxesSubplot:xlabel='Test Date'>"
      ]
     },
     "execution_count": 20,
     "metadata": {},
     "output_type": "execute_result"
    },
    {
     "data": {
      "image/png": "[encoded data removed]",
      "text/plain": [
       "<Figure size 432x288 with 1 Axes>"
      ]
     },
     "metadata": {
      "needs_background": "light"
     },
     "output_type": "display_data"
    }
   ],
   "source": [
    "dutchess['pos_hundred_thousand'].rolling(7).mean().plot()"
   ]
  },
  {
   "cell_type": "code",
   "execution_count": 21,
   "metadata": {},
   "outputs": [
    {
     "name": "stdout",
     "output_type": "stream",
     "text": [
      "LOCKDOWN IMMINENT - MAJOR CONDITIONS FOR LOCKDOWN MET - CHECK https://www.governor.ny.gov/news/governor-cuomo-details-covid-19-micro-cluster-metrics FOR SMALL COUNTY DETAILS\n"
     ]
    }
   ],
   "source": [
    "per_cap=np.sum(dutchess['pos_hundred_thousand'].rolling(7).mean().tail(12).values >10)\n",
    "pos_rate=np.sum(dutchess['New Positives/Total Tests'].rolling(7).mean().tail(10).values)\n",
    "if per_cap == 12 and pos_rate >= .5:\n",
    "    print('LOCKDOWN IMMINENT - MAJOR CONDITIONS FOR LOCKDOWN MET - CHECK https://www.governor.ny.gov/news/governor-cuomo-details-covid-19-micro-cluster-metrics FOR SMALL COUNTY DETAILS')\n",
    "if (per_cap>=1) and (pos_rate>=.3 and pos_rate<.5):\n",
    "    print('LOCKDOWN PENDING')   \n",
    "if (pos_rate <= .3):\n",
    "    print('LOCKDOWN UNLIKELY')"
   ]
  },
  {
   "cell_type": "markdown",
   "metadata": {},
   "source": [
    "# MONROE COUNTY"
   ]
  },
  {
   "cell_type": "markdown",
   "metadata": {},
   "source": [
    "Geographic area has 7-day rolling average positivity above 4% for 10 days  \n",
    "\n",
    "AND  \n",
    "\n",
    "Geographic area has 10 or more new daily cases per 100,000 residents on 7-day average"
   ]
  },
  {
   "cell_type": "code",
   "execution_count": 22,
   "metadata": {},
   "outputs": [
    {
     "data": {
      "text/html": [
       "<div>\n",
       "<style scoped>\n",
       "    .dataframe tbody tr th:only-of-type {\n",
       "        vertical-align: middle;\n",
       "    }\n",
       "\n",
       "    .dataframe tbody tr th {\n",
       "        vertical-align: top;\n",
       "    }\n",
       "\n",
       "    .dataframe thead th {\n",
       "        text-align: right;\n",
       "    }\n",
       "</style>\n",
       "<table border=\"1\" class=\"dataframe\">\n",
       "  <thead>\n",
       "    <tr style=\"text-align: right;\">\n",
       "      <th></th>\n",
       "      <th>New Positives</th>\n",
       "      <th>Cumulative Number of Positives</th>\n",
       "      <th>Total Number of Tests Performed</th>\n",
       "      <th>Cumulative Number of Tests Performed</th>\n",
       "      <th>New Positives/Total Tests</th>\n",
       "      <th>pos_hundred_thousand</th>\n",
       "    </tr>\n",
       "    <tr>\n",
       "      <th>Test Date</th>\n",
       "      <th></th>\n",
       "      <th></th>\n",
       "      <th></th>\n",
       "      <th></th>\n",
       "      <th></th>\n",
       "      <th></th>\n",
       "    </tr>\n",
       "  </thead>\n",
       "  <tbody>\n",
       "    <tr>\n",
       "      <th>2020-12-29</th>\n",
       "      <td>602</td>\n",
       "      <td>33059</td>\n",
       "      <td>5463</td>\n",
       "      <td>926604</td>\n",
       "      <td>0.110196</td>\n",
       "      <td>81.157232</td>\n",
       "    </tr>\n",
       "    <tr>\n",
       "      <th>2020-12-30</th>\n",
       "      <td>695</td>\n",
       "      <td>33754</td>\n",
       "      <td>6516</td>\n",
       "      <td>933120</td>\n",
       "      <td>0.106661</td>\n",
       "      <td>93.694811</td>\n",
       "    </tr>\n",
       "    <tr>\n",
       "      <th>2020-12-31</th>\n",
       "      <td>838</td>\n",
       "      <td>34592</td>\n",
       "      <td>9702</td>\n",
       "      <td>942822</td>\n",
       "      <td>0.086374</td>\n",
       "      <td>112.973024</td>\n",
       "    </tr>\n",
       "    <tr>\n",
       "      <th>2021-01-01</th>\n",
       "      <td>622</td>\n",
       "      <td>35214</td>\n",
       "      <td>6520</td>\n",
       "      <td>949342</td>\n",
       "      <td>0.095399</td>\n",
       "      <td>83.853486</td>\n",
       "    </tr>\n",
       "    <tr>\n",
       "      <th>2021-01-02</th>\n",
       "      <td>564</td>\n",
       "      <td>35778</td>\n",
       "      <td>5220</td>\n",
       "      <td>954562</td>\n",
       "      <td>0.108046</td>\n",
       "      <td>76.034350</td>\n",
       "    </tr>\n",
       "    <tr>\n",
       "      <th>2021-01-03</th>\n",
       "      <td>480</td>\n",
       "      <td>36258</td>\n",
       "      <td>4971</td>\n",
       "      <td>959533</td>\n",
       "      <td>0.096560</td>\n",
       "      <td>64.710085</td>\n",
       "    </tr>\n",
       "    <tr>\n",
       "      <th>2021-01-04</th>\n",
       "      <td>447</td>\n",
       "      <td>36705</td>\n",
       "      <td>4766</td>\n",
       "      <td>964299</td>\n",
       "      <td>0.093789</td>\n",
       "      <td>60.261267</td>\n",
       "    </tr>\n",
       "    <tr>\n",
       "      <th>2021-01-05</th>\n",
       "      <td>625</td>\n",
       "      <td>37330</td>\n",
       "      <td>5880</td>\n",
       "      <td>970179</td>\n",
       "      <td>0.106293</td>\n",
       "      <td>84.257924</td>\n",
       "    </tr>\n",
       "    <tr>\n",
       "      <th>2021-01-06</th>\n",
       "      <td>723</td>\n",
       "      <td>38053</td>\n",
       "      <td>7782</td>\n",
       "      <td>977961</td>\n",
       "      <td>0.092907</td>\n",
       "      <td>97.469566</td>\n",
       "    </tr>\n",
       "    <tr>\n",
       "      <th>2021-01-07</th>\n",
       "      <td>796</td>\n",
       "      <td>38849</td>\n",
       "      <td>8276</td>\n",
       "      <td>986237</td>\n",
       "      <td>0.096182</td>\n",
       "      <td>107.310892</td>\n",
       "    </tr>\n",
       "    <tr>\n",
       "      <th>2021-01-08</th>\n",
       "      <td>706</td>\n",
       "      <td>39555</td>\n",
       "      <td>8648</td>\n",
       "      <td>994885</td>\n",
       "      <td>0.081637</td>\n",
       "      <td>95.177751</td>\n",
       "    </tr>\n",
       "    <tr>\n",
       "      <th>2021-01-09</th>\n",
       "      <td>738</td>\n",
       "      <td>40293</td>\n",
       "      <td>8552</td>\n",
       "      <td>1003437</td>\n",
       "      <td>0.086296</td>\n",
       "      <td>99.491756</td>\n",
       "    </tr>\n",
       "    <tr>\n",
       "      <th>2021-01-10</th>\n",
       "      <td>400</td>\n",
       "      <td>40693</td>\n",
       "      <td>5565</td>\n",
       "      <td>1009002</td>\n",
       "      <td>0.071878</td>\n",
       "      <td>53.925071</td>\n",
       "    </tr>\n",
       "    <tr>\n",
       "      <th>2021-01-11</th>\n",
       "      <td>464</td>\n",
       "      <td>41157</td>\n",
       "      <td>6055</td>\n",
       "      <td>1015057</td>\n",
       "      <td>0.076631</td>\n",
       "      <td>62.553082</td>\n",
       "    </tr>\n",
       "  </tbody>\n",
       "</table>\n",
       "</div>"
      ],
      "text/plain": [
       "            New Positives  Cumulative Number of Positives  \\\n",
       "Test Date                                                   \n",
       "2020-12-29            602                           33059   \n",
       "2020-12-30            695                           33754   \n",
       "2020-12-31            838                           34592   \n",
       "2021-01-01            622                           35214   \n",
       "2021-01-02            564                           35778   \n",
       "2021-01-03            480                           36258   \n",
       "2021-01-04            447                           36705   \n",
       "2021-01-05            625                           37330   \n",
       "2021-01-06            723                           38053   \n",
       "2021-01-07            796                           38849   \n",
       "2021-01-08            706                           39555   \n",
       "2021-01-09            738                           40293   \n",
       "2021-01-10            400                           40693   \n",
       "2021-01-11            464                           41157   \n",
       "\n",
       "            Total Number of Tests Performed  \\\n",
       "Test Date                                     \n",
       "2020-12-29                             5463   \n",
       "2020-12-30                             6516   \n",
       "2020-12-31                             9702   \n",
       "2021-01-01                             6520   \n",
       "2021-01-02                             5220   \n",
       "2021-01-03                             4971   \n",
       "2021-01-04                             4766   \n",
       "2021-01-05                             5880   \n",
       "2021-01-06                             7782   \n",
       "2021-01-07                             8276   \n",
       "2021-01-08                             8648   \n",
       "2021-01-09                             8552   \n",
       "2021-01-10                             5565   \n",
       "2021-01-11                             6055   \n",
       "\n",
       "            Cumulative Number of Tests Performed  New Positives/Total Tests  \\\n",
       "Test Date                                                                     \n",
       "2020-12-29                                926604                   0.110196   \n",
       "2020-12-30                                933120                   0.106661   \n",
       "2020-12-31                                942822                   0.086374   \n",
       "2021-01-01                                949342                   0.095399   \n",
       "2021-01-02                                954562                   0.108046   \n",
       "2021-01-03                                959533                   0.096560   \n",
       "2021-01-04                                964299                   0.093789   \n",
       "2021-01-05                                970179                   0.106293   \n",
       "2021-01-06                                977961                   0.092907   \n",
       "2021-01-07                                986237                   0.096182   \n",
       "2021-01-08                                994885                   0.081637   \n",
       "2021-01-09                               1003437                   0.086296   \n",
       "2021-01-10                               1009002                   0.071878   \n",
       "2021-01-11                               1015057                   0.076631   \n",
       "\n",
       "            pos_hundred_thousand  \n",
       "Test Date                         \n",
       "2020-12-29             81.157232  \n",
       "2020-12-30             93.694811  \n",
       "2020-12-31            112.973024  \n",
       "2021-01-01             83.853486  \n",
       "2021-01-02             76.034350  \n",
       "2021-01-03             64.710085  \n",
       "2021-01-04             60.261267  \n",
       "2021-01-05             84.257924  \n",
       "2021-01-06             97.469566  \n",
       "2021-01-07            107.310892  \n",
       "2021-01-08             95.177751  \n",
       "2021-01-09             99.491756  \n",
       "2021-01-10             53.925071  \n",
       "2021-01-11             62.553082  "
      ]
     },
     "execution_count": 22,
     "metadata": {},
     "output_type": "execute_result"
    }
   ],
   "source": [
    "monroe=df.loc['Monroe']\n",
    "monroe['New Positives/Total Tests']=monroe['New Positives']/monroe['Total Number of Tests Performed']\n",
    "monroe['pos_hundred_thousand']=(monroe['New Positives']*100000)/741770\n",
    "monroe.tail(14)"
   ]
  },
  {
   "cell_type": "code",
   "execution_count": 23,
   "metadata": {},
   "outputs": [
    {
     "data": {
      "text/plain": [
       "Test Date\n",
       "2020-12-29    0.090357\n",
       "2020-12-30    0.093947\n",
       "2020-12-31    0.097165\n",
       "2021-01-01    0.100704\n",
       "2021-01-02    0.103837\n",
       "2021-01-03    0.099459\n",
       "2021-01-04    0.099575\n",
       "2021-01-05    0.099017\n",
       "2021-01-06    0.097052\n",
       "2021-01-07    0.098454\n",
       "2021-01-08    0.096488\n",
       "2021-01-09    0.093380\n",
       "2021-01-10    0.089854\n",
       "2021-01-11    0.087403\n",
       "Name: New Positives/Total Tests, dtype: float64"
      ]
     },
     "execution_count": 23,
     "metadata": {},
     "output_type": "execute_result"
    }
   ],
   "source": [
    "monroe['New Positives/Total Tests'].rolling(7).mean().tail(14)"
   ]
  },
  {
   "cell_type": "code",
   "execution_count": 24,
   "metadata": {},
   "outputs": [
    {
     "data": {
      "text/plain": [
       "<AxesSubplot:xlabel='Test Date'>"
      ]
     },
     "execution_count": 24,
     "metadata": {},
     "output_type": "execute_result"
    },
    {
     "data": {
      "image/png": "[encoded data removed]",
      "text/plain": [
       "<Figure size 432x288 with 1 Axes>"
      ]
     },
     "metadata": {
      "needs_background": "light"
     },
     "output_type": "display_data"
    }
   ],
   "source": [
    "monroe['New Positives/Total Tests'].rolling(7).mean().plot()"
   ]
  },
  {
   "cell_type": "code",
   "execution_count": 25,
   "metadata": {},
   "outputs": [
    {
     "data": {
      "text/plain": [
       "Test Date\n",
       "2021-01-02    83.179422\n",
       "2021-01-03    82.023885\n",
       "2021-01-04    81.812036\n",
       "2021-01-05    82.254992\n",
       "2021-01-06    82.794243\n",
       "2021-01-07    81.985367\n",
       "2021-01-08    83.603119\n",
       "2021-01-09    86.954177\n",
       "2021-01-10    85.413461\n",
       "2021-01-11    85.740863\n",
       "Name: pos_hundred_thousand, dtype: float64"
      ]
     },
     "execution_count": 25,
     "metadata": {},
     "output_type": "execute_result"
    }
   ],
   "source": [
    "monroe['pos_hundred_thousand'].rolling(7).mean().tail(10)"
   ]
  },
  {
   "cell_type": "code",
   "execution_count": 26,
   "metadata": {},
   "outputs": [
    {
     "data": {
      "text/plain": [
       "<AxesSubplot:xlabel='Test Date'>"
      ]
     },
     "execution_count": 26,
     "metadata": {},
     "output_type": "execute_result"
    },
    {
     "data": {
      "image/png": "[encoded data removed]",
      "text/plain": [
       "<Figure size 432x288 with 1 Axes>"
      ]
     },
     "metadata": {
      "needs_background": "light"
     },
     "output_type": "display_data"
    }
   ],
   "source": [
    "monroe['pos_hundred_thousand'].rolling(7).mean().plot()"
   ]
  },
  {
   "cell_type": "code",
   "execution_count": 27,
   "metadata": {},
   "outputs": [
    {
     "name": "stdout",
     "output_type": "stream",
     "text": [
      "LOCKDOWN IMMINENT\n"
     ]
    }
   ],
   "source": [
    "per_cap=np.sum(monroe['pos_hundred_thousand'].rolling(7).mean().tail(10).values >10)\n",
    "pos_rate=np.sum(monroe['New Positives/Total Tests'].rolling(7).mean().tail(10).values)\n",
    "if per_cap == 10 and pos_rate >= .4:\n",
    "    print('LOCKDOWN IMMINENT')\n",
    "if (per_cap>=1) and (pos_rate>=.2 and pos_rate<.4):\n",
    "    print('LOCKDOWN PENDING')   \n",
    "if (pos_rate <= .2):\n",
    "    print('LOCKDOWN UNLIKELY')"
   ]
  },
  {
   "cell_type": "markdown",
   "metadata": {},
   "source": [
    "# Manhattan "
   ]
  },
  {
   "cell_type": "markdown",
   "metadata": {},
   "source": [
    "Geographic area has 7-day rolling average positivity above 4% for 10 days  \n",
    "\n",
    "AND  \n",
    "\n",
    "Geographic area has 10 or more new daily cases per 100,000 residents on 7-day average"
   ]
  },
  {
   "cell_type": "code",
   "execution_count": 28,
   "metadata": {},
   "outputs": [
    {
     "data": {
      "text/html": [
       "<div>\n",
       "<style scoped>\n",
       "    .dataframe tbody tr th:only-of-type {\n",
       "        vertical-align: middle;\n",
       "    }\n",
       "\n",
       "    .dataframe tbody tr th {\n",
       "        vertical-align: top;\n",
       "    }\n",
       "\n",
       "    .dataframe thead th {\n",
       "        text-align: right;\n",
       "    }\n",
       "</style>\n",
       "<table border=\"1\" class=\"dataframe\">\n",
       "  <thead>\n",
       "    <tr style=\"text-align: right;\">\n",
       "      <th></th>\n",
       "      <th>New Positives</th>\n",
       "      <th>Cumulative Number of Positives</th>\n",
       "      <th>Total Number of Tests Performed</th>\n",
       "      <th>Cumulative Number of Tests Performed</th>\n",
       "      <th>New Positives/Total Tests</th>\n",
       "      <th>pos_hundred_thousand</th>\n",
       "    </tr>\n",
       "    <tr>\n",
       "      <th>Test Date</th>\n",
       "      <th></th>\n",
       "      <th></th>\n",
       "      <th></th>\n",
       "      <th></th>\n",
       "      <th></th>\n",
       "      <th></th>\n",
       "    </tr>\n",
       "  </thead>\n",
       "  <tbody>\n",
       "    <tr>\n",
       "      <th>2020-12-29</th>\n",
       "      <td>589</td>\n",
       "      <td>61794</td>\n",
       "      <td>14412</td>\n",
       "      <td>2595203</td>\n",
       "      <td>0.040869</td>\n",
       "      <td>36.163678</td>\n",
       "    </tr>\n",
       "    <tr>\n",
       "      <th>2020-12-30</th>\n",
       "      <td>768</td>\n",
       "      <td>62562</td>\n",
       "      <td>21751</td>\n",
       "      <td>2616954</td>\n",
       "      <td>0.035309</td>\n",
       "      <td>47.153998</td>\n",
       "    </tr>\n",
       "    <tr>\n",
       "      <th>2020-12-31</th>\n",
       "      <td>736</td>\n",
       "      <td>63298</td>\n",
       "      <td>22258</td>\n",
       "      <td>2639212</td>\n",
       "      <td>0.033067</td>\n",
       "      <td>45.189248</td>\n",
       "    </tr>\n",
       "    <tr>\n",
       "      <th>2021-01-01</th>\n",
       "      <td>744</td>\n",
       "      <td>64042</td>\n",
       "      <td>19366</td>\n",
       "      <td>2658578</td>\n",
       "      <td>0.038418</td>\n",
       "      <td>45.680436</td>\n",
       "    </tr>\n",
       "    <tr>\n",
       "      <th>2021-01-02</th>\n",
       "      <td>416</td>\n",
       "      <td>64458</td>\n",
       "      <td>10376</td>\n",
       "      <td>2668954</td>\n",
       "      <td>0.040093</td>\n",
       "      <td>25.541749</td>\n",
       "    </tr>\n",
       "    <tr>\n",
       "      <th>2021-01-03</th>\n",
       "      <td>441</td>\n",
       "      <td>64899</td>\n",
       "      <td>11236</td>\n",
       "      <td>2680190</td>\n",
       "      <td>0.039249</td>\n",
       "      <td>27.076710</td>\n",
       "    </tr>\n",
       "    <tr>\n",
       "      <th>2021-01-04</th>\n",
       "      <td>645</td>\n",
       "      <td>65544</td>\n",
       "      <td>13666</td>\n",
       "      <td>2693856</td>\n",
       "      <td>0.047197</td>\n",
       "      <td>39.601991</td>\n",
       "    </tr>\n",
       "    <tr>\n",
       "      <th>2021-01-05</th>\n",
       "      <td>826</td>\n",
       "      <td>66370</td>\n",
       "      <td>17028</td>\n",
       "      <td>2710884</td>\n",
       "      <td>0.048508</td>\n",
       "      <td>50.715108</td>\n",
       "    </tr>\n",
       "    <tr>\n",
       "      <th>2021-01-06</th>\n",
       "      <td>906</td>\n",
       "      <td>67276</td>\n",
       "      <td>23741</td>\n",
       "      <td>2734625</td>\n",
       "      <td>0.038162</td>\n",
       "      <td>55.626982</td>\n",
       "    </tr>\n",
       "    <tr>\n",
       "      <th>2021-01-07</th>\n",
       "      <td>978</td>\n",
       "      <td>68254</td>\n",
       "      <td>26143</td>\n",
       "      <td>2760768</td>\n",
       "      <td>0.037410</td>\n",
       "      <td>60.047670</td>\n",
       "    </tr>\n",
       "    <tr>\n",
       "      <th>2021-01-08</th>\n",
       "      <td>854</td>\n",
       "      <td>69108</td>\n",
       "      <td>27881</td>\n",
       "      <td>2788649</td>\n",
       "      <td>0.030630</td>\n",
       "      <td>52.434264</td>\n",
       "    </tr>\n",
       "    <tr>\n",
       "      <th>2021-01-09</th>\n",
       "      <td>873</td>\n",
       "      <td>69981</td>\n",
       "      <td>28118</td>\n",
       "      <td>2816767</td>\n",
       "      <td>0.031048</td>\n",
       "      <td>53.600834</td>\n",
       "    </tr>\n",
       "    <tr>\n",
       "      <th>2021-01-10</th>\n",
       "      <td>825</td>\n",
       "      <td>70806</td>\n",
       "      <td>22201</td>\n",
       "      <td>2838968</td>\n",
       "      <td>0.037160</td>\n",
       "      <td>50.653709</td>\n",
       "    </tr>\n",
       "    <tr>\n",
       "      <th>2021-01-11</th>\n",
       "      <td>793</td>\n",
       "      <td>71599</td>\n",
       "      <td>17061</td>\n",
       "      <td>2856029</td>\n",
       "      <td>0.046480</td>\n",
       "      <td>48.688959</td>\n",
       "    </tr>\n",
       "  </tbody>\n",
       "</table>\n",
       "</div>"
      ],
      "text/plain": [
       "            New Positives  Cumulative Number of Positives  \\\n",
       "Test Date                                                   \n",
       "2020-12-29            589                           61794   \n",
       "2020-12-30            768                           62562   \n",
       "2020-12-31            736                           63298   \n",
       "2021-01-01            744                           64042   \n",
       "2021-01-02            416                           64458   \n",
       "2021-01-03            441                           64899   \n",
       "2021-01-04            645                           65544   \n",
       "2021-01-05            826                           66370   \n",
       "2021-01-06            906                           67276   \n",
       "2021-01-07            978                           68254   \n",
       "2021-01-08            854                           69108   \n",
       "2021-01-09            873                           69981   \n",
       "2021-01-10            825                           70806   \n",
       "2021-01-11            793                           71599   \n",
       "\n",
       "            Total Number of Tests Performed  \\\n",
       "Test Date                                     \n",
       "2020-12-29                            14412   \n",
       "2020-12-30                            21751   \n",
       "2020-12-31                            22258   \n",
       "2021-01-01                            19366   \n",
       "2021-01-02                            10376   \n",
       "2021-01-03                            11236   \n",
       "2021-01-04                            13666   \n",
       "2021-01-05                            17028   \n",
       "2021-01-06                            23741   \n",
       "2021-01-07                            26143   \n",
       "2021-01-08                            27881   \n",
       "2021-01-09                            28118   \n",
       "2021-01-10                            22201   \n",
       "2021-01-11                            17061   \n",
       "\n",
       "            Cumulative Number of Tests Performed  New Positives/Total Tests  \\\n",
       "Test Date                                                                     \n",
       "2020-12-29                               2595203                   0.040869   \n",
       "2020-12-30                               2616954                   0.035309   \n",
       "2020-12-31                               2639212                   0.033067   \n",
       "2021-01-01                               2658578                   0.038418   \n",
       "2021-01-02                               2668954                   0.040093   \n",
       "2021-01-03                               2680190                   0.039249   \n",
       "2021-01-04                               2693856                   0.047197   \n",
       "2021-01-05                               2710884                   0.048508   \n",
       "2021-01-06                               2734625                   0.038162   \n",
       "2021-01-07                               2760768                   0.037410   \n",
       "2021-01-08                               2788649                   0.030630   \n",
       "2021-01-09                               2816767                   0.031048   \n",
       "2021-01-10                               2838968                   0.037160   \n",
       "2021-01-11                               2856029                   0.046480   \n",
       "\n",
       "            pos_hundred_thousand  \n",
       "Test Date                         \n",
       "2020-12-29             36.163678  \n",
       "2020-12-30             47.153998  \n",
       "2020-12-31             45.189248  \n",
       "2021-01-01             45.680436  \n",
       "2021-01-02             25.541749  \n",
       "2021-01-03             27.076710  \n",
       "2021-01-04             39.601991  \n",
       "2021-01-05             50.715108  \n",
       "2021-01-06             55.626982  \n",
       "2021-01-07             60.047670  \n",
       "2021-01-08             52.434264  \n",
       "2021-01-09             53.600834  \n",
       "2021-01-10             50.653709  \n",
       "2021-01-11             48.688959  "
      ]
     },
     "execution_count": 28,
     "metadata": {},
     "output_type": "execute_result"
    }
   ],
   "source": [
    "manhattan=df.loc['New York']\n",
    "manhattan['New Positives/Total Tests']=manhattan['New Positives']/manhattan['Total Number of Tests Performed']\n",
    "manhattan['pos_hundred_thousand']=(manhattan['New Positives']*100000)/1628706\n",
    "manhattan.tail(14)"
   ]
  },
  {
   "cell_type": "code",
   "execution_count": 29,
   "metadata": {},
   "outputs": [
    {
     "data": {
      "text/plain": [
       "Test Date\n",
       "2021-01-02    0.037516\n",
       "2021-01-03    0.037663\n",
       "2021-01-04    0.039172\n",
       "2021-01-05    0.040263\n",
       "2021-01-06    0.040671\n",
       "2021-01-07    0.041291\n",
       "2021-01-08    0.040178\n",
       "2021-01-09    0.038886\n",
       "2021-01-10    0.038588\n",
       "2021-01-11    0.038485\n",
       "Name: New Positives/Total Tests, dtype: float64"
      ]
     },
     "execution_count": 29,
     "metadata": {},
     "output_type": "execute_result"
    }
   ],
   "source": [
    "manhattan['New Positives/Total Tests'].rolling(7).mean().tail(10)"
   ]
  },
  {
   "cell_type": "code",
   "execution_count": 30,
   "metadata": {},
   "outputs": [
    {
     "data": {
      "text/plain": [
       "<AxesSubplot:xlabel='Test Date'>"
      ]
     },
     "execution_count": 30,
     "metadata": {},
     "output_type": "execute_result"
    },
    {
     "data": {
      "image/png": "[encoded data removed]",
      "text/plain": [
       "<Figure size 432x288 with 1 Axes>"
      ]
     },
     "metadata": {
      "needs_background": "light"
     },
     "output_type": "display_data"
    }
   ],
   "source": [
    "manhattan['New Positives/Total Tests'].rolling(7).mean().plot()"
   ]
  },
  {
   "cell_type": "code",
   "execution_count": 31,
   "metadata": {},
   "outputs": [
    {
     "data": {
      "text/plain": [
       "Test Date\n",
       "2021-01-02    36.847832\n",
       "2021-01-03    37.303935\n",
       "2021-01-04    38.058259\n",
       "2021-01-05    40.137034\n",
       "2021-01-06    41.347461\n",
       "2021-01-07    43.470092\n",
       "2021-01-08    44.434925\n",
       "2021-01-09    48.443365\n",
       "2021-01-10    51.811508\n",
       "2021-01-11    53.109647\n",
       "Name: pos_hundred_thousand, dtype: float64"
      ]
     },
     "execution_count": 31,
     "metadata": {},
     "output_type": "execute_result"
    }
   ],
   "source": [
    "manhattan['pos_hundred_thousand'].rolling(7).mean().tail(10)"
   ]
  },
  {
   "cell_type": "code",
   "execution_count": 32,
   "metadata": {},
   "outputs": [
    {
     "data": {
      "text/plain": [
       "<AxesSubplot:xlabel='Test Date'>"
      ]
     },
     "execution_count": 32,
     "metadata": {},
     "output_type": "execute_result"
    },
    {
     "data": {
      "image/png": "[encoded data removed]",
      "text/plain": [
       "<Figure size 432x288 with 1 Axes>"
      ]
     },
     "metadata": {
      "needs_background": "light"
     },
     "output_type": "display_data"
    }
   ],
   "source": [
    "manhattan['pos_hundred_thousand'].rolling(7).mean().plot()"
   ]
  },
  {
   "cell_type": "code",
   "execution_count": 33,
   "metadata": {},
   "outputs": [
    {
     "name": "stdout",
     "output_type": "stream",
     "text": [
      "LOCKDOWN PENDING\n"
     ]
    }
   ],
   "source": [
    "per_cap=np.sum(manhattan['pos_hundred_thousand'].rolling(7).mean().tail(10).values >10)\n",
    "pos_rate=np.sum(manhattan['New Positives/Total Tests'].rolling(7).mean().tail(10).values)\n",
    "if per_cap == 10 and pos_rate >= .4:\n",
    "    print('LOCKDOWN IMMINENT')\n",
    "if (per_cap>=1) and (pos_rate>=.2 and pos_rate<.4):\n",
    "    print('LOCKDOWN PENDING')   \n",
    "if (pos_rate <= .2):\n",
    "    print('LOCKDOWN UNLIKELY')"
   ]
  },
  {
   "cell_type": "markdown",
   "metadata": {},
   "source": [
    "# QUEENS"
   ]
  },
  {
   "cell_type": "markdown",
   "metadata": {},
   "source": [
    "Geographic area has 7-day rolling average positivity above 4% for 10 days  \n",
    "\n",
    "AND  \n",
    "\n",
    "Geographic area has 10 or more new daily cases per 100,000 residents on 7-day average"
   ]
  },
  {
   "cell_type": "code",
   "execution_count": 34,
   "metadata": {},
   "outputs": [
    {
     "data": {
      "text/html": [
       "<div>\n",
       "<style scoped>\n",
       "    .dataframe tbody tr th:only-of-type {\n",
       "        vertical-align: middle;\n",
       "    }\n",
       "\n",
       "    .dataframe tbody tr th {\n",
       "        vertical-align: top;\n",
       "    }\n",
       "\n",
       "    .dataframe thead th {\n",
       "        text-align: right;\n",
       "    }\n",
       "</style>\n",
       "<table border=\"1\" class=\"dataframe\">\n",
       "  <thead>\n",
       "    <tr style=\"text-align: right;\">\n",
       "      <th></th>\n",
       "      <th>New Positives</th>\n",
       "      <th>Cumulative Number of Positives</th>\n",
       "      <th>Total Number of Tests Performed</th>\n",
       "      <th>Cumulative Number of Tests Performed</th>\n",
       "      <th>New Positives/Total Tests</th>\n",
       "      <th>pos_hundred_thousand</th>\n",
       "    </tr>\n",
       "    <tr>\n",
       "      <th>Test Date</th>\n",
       "      <th></th>\n",
       "      <th></th>\n",
       "      <th></th>\n",
       "      <th></th>\n",
       "      <th></th>\n",
       "      <th></th>\n",
       "    </tr>\n",
       "  </thead>\n",
       "  <tbody>\n",
       "    <tr>\n",
       "      <th>2020-12-29</th>\n",
       "      <td>1404</td>\n",
       "      <td>121781</td>\n",
       "      <td>17083</td>\n",
       "      <td>2653927</td>\n",
       "      <td>0.082187</td>\n",
       "      <td>62.293188</td>\n",
       "    </tr>\n",
       "    <tr>\n",
       "      <th>2020-12-30</th>\n",
       "      <td>1752</td>\n",
       "      <td>123533</td>\n",
       "      <td>22025</td>\n",
       "      <td>2675952</td>\n",
       "      <td>0.079546</td>\n",
       "      <td>77.733380</td>\n",
       "    </tr>\n",
       "    <tr>\n",
       "      <th>2020-12-31</th>\n",
       "      <td>1574</td>\n",
       "      <td>125107</td>\n",
       "      <td>22581</td>\n",
       "      <td>2698533</td>\n",
       "      <td>0.069705</td>\n",
       "      <td>69.835810</td>\n",
       "    </tr>\n",
       "    <tr>\n",
       "      <th>2021-01-01</th>\n",
       "      <td>1506</td>\n",
       "      <td>126613</td>\n",
       "      <td>22553</td>\n",
       "      <td>2721086</td>\n",
       "      <td>0.066776</td>\n",
       "      <td>66.818761</td>\n",
       "    </tr>\n",
       "    <tr>\n",
       "      <th>2021-01-02</th>\n",
       "      <td>1130</td>\n",
       "      <td>127743</td>\n",
       "      <td>17515</td>\n",
       "      <td>2738601</td>\n",
       "      <td>0.064516</td>\n",
       "      <td>50.136255</td>\n",
       "    </tr>\n",
       "    <tr>\n",
       "      <th>2021-01-03</th>\n",
       "      <td>1196</td>\n",
       "      <td>128939</td>\n",
       "      <td>15757</td>\n",
       "      <td>2754358</td>\n",
       "      <td>0.075903</td>\n",
       "      <td>53.064568</td>\n",
       "    </tr>\n",
       "    <tr>\n",
       "      <th>2021-01-04</th>\n",
       "      <td>1422</td>\n",
       "      <td>130361</td>\n",
       "      <td>17676</td>\n",
       "      <td>2772034</td>\n",
       "      <td>0.080448</td>\n",
       "      <td>63.091819</td>\n",
       "    </tr>\n",
       "    <tr>\n",
       "      <th>2021-01-05</th>\n",
       "      <td>1713</td>\n",
       "      <td>132074</td>\n",
       "      <td>22346</td>\n",
       "      <td>2794380</td>\n",
       "      <td>0.076658</td>\n",
       "      <td>76.003013</td>\n",
       "    </tr>\n",
       "    <tr>\n",
       "      <th>2021-01-06</th>\n",
       "      <td>1819</td>\n",
       "      <td>133893</td>\n",
       "      <td>25632</td>\n",
       "      <td>2820012</td>\n",
       "      <td>0.070966</td>\n",
       "      <td>80.706060</td>\n",
       "    </tr>\n",
       "    <tr>\n",
       "      <th>2021-01-07</th>\n",
       "      <td>1835</td>\n",
       "      <td>135728</td>\n",
       "      <td>26072</td>\n",
       "      <td>2846084</td>\n",
       "      <td>0.070382</td>\n",
       "      <td>81.415954</td>\n",
       "    </tr>\n",
       "    <tr>\n",
       "      <th>2021-01-08</th>\n",
       "      <td>1840</td>\n",
       "      <td>137568</td>\n",
       "      <td>28361</td>\n",
       "      <td>2874445</td>\n",
       "      <td>0.064878</td>\n",
       "      <td>81.637796</td>\n",
       "    </tr>\n",
       "    <tr>\n",
       "      <th>2021-01-09</th>\n",
       "      <td>1549</td>\n",
       "      <td>139117</td>\n",
       "      <td>26580</td>\n",
       "      <td>2901025</td>\n",
       "      <td>0.058277</td>\n",
       "      <td>68.726601</td>\n",
       "    </tr>\n",
       "    <tr>\n",
       "      <th>2021-01-10</th>\n",
       "      <td>1537</td>\n",
       "      <td>140654</td>\n",
       "      <td>25001</td>\n",
       "      <td>2926026</td>\n",
       "      <td>0.061478</td>\n",
       "      <td>68.194181</td>\n",
       "    </tr>\n",
       "    <tr>\n",
       "      <th>2021-01-11</th>\n",
       "      <td>1830</td>\n",
       "      <td>142484</td>\n",
       "      <td>23615</td>\n",
       "      <td>2949641</td>\n",
       "      <td>0.077493</td>\n",
       "      <td>81.194112</td>\n",
       "    </tr>\n",
       "  </tbody>\n",
       "</table>\n",
       "</div>"
      ],
      "text/plain": [
       "            New Positives  Cumulative Number of Positives  \\\n",
       "Test Date                                                   \n",
       "2020-12-29           1404                          121781   \n",
       "2020-12-30           1752                          123533   \n",
       "2020-12-31           1574                          125107   \n",
       "2021-01-01           1506                          126613   \n",
       "2021-01-02           1130                          127743   \n",
       "2021-01-03           1196                          128939   \n",
       "2021-01-04           1422                          130361   \n",
       "2021-01-05           1713                          132074   \n",
       "2021-01-06           1819                          133893   \n",
       "2021-01-07           1835                          135728   \n",
       "2021-01-08           1840                          137568   \n",
       "2021-01-09           1549                          139117   \n",
       "2021-01-10           1537                          140654   \n",
       "2021-01-11           1830                          142484   \n",
       "\n",
       "            Total Number of Tests Performed  \\\n",
       "Test Date                                     \n",
       "2020-12-29                            17083   \n",
       "2020-12-30                            22025   \n",
       "2020-12-31                            22581   \n",
       "2021-01-01                            22553   \n",
       "2021-01-02                            17515   \n",
       "2021-01-03                            15757   \n",
       "2021-01-04                            17676   \n",
       "2021-01-05                            22346   \n",
       "2021-01-06                            25632   \n",
       "2021-01-07                            26072   \n",
       "2021-01-08                            28361   \n",
       "2021-01-09                            26580   \n",
       "2021-01-10                            25001   \n",
       "2021-01-11                            23615   \n",
       "\n",
       "            Cumulative Number of Tests Performed  New Positives/Total Tests  \\\n",
       "Test Date                                                                     \n",
       "2020-12-29                               2653927                   0.082187   \n",
       "2020-12-30                               2675952                   0.079546   \n",
       "2020-12-31                               2698533                   0.069705   \n",
       "2021-01-01                               2721086                   0.066776   \n",
       "2021-01-02                               2738601                   0.064516   \n",
       "2021-01-03                               2754358                   0.075903   \n",
       "2021-01-04                               2772034                   0.080448   \n",
       "2021-01-05                               2794380                   0.076658   \n",
       "2021-01-06                               2820012                   0.070966   \n",
       "2021-01-07                               2846084                   0.070382   \n",
       "2021-01-08                               2874445                   0.064878   \n",
       "2021-01-09                               2901025                   0.058277   \n",
       "2021-01-10                               2926026                   0.061478   \n",
       "2021-01-11                               2949641                   0.077493   \n",
       "\n",
       "            pos_hundred_thousand  \n",
       "Test Date                         \n",
       "2020-12-29             62.293188  \n",
       "2020-12-30             77.733380  \n",
       "2020-12-31             69.835810  \n",
       "2021-01-01             66.818761  \n",
       "2021-01-02             50.136255  \n",
       "2021-01-03             53.064568  \n",
       "2021-01-04             63.091819  \n",
       "2021-01-05             76.003013  \n",
       "2021-01-06             80.706060  \n",
       "2021-01-07             81.415954  \n",
       "2021-01-08             81.637796  \n",
       "2021-01-09             68.726601  \n",
       "2021-01-10             68.194181  \n",
       "2021-01-11             81.194112  "
      ]
     },
     "execution_count": 34,
     "metadata": {},
     "output_type": "execute_result"
    }
   ],
   "source": [
    "queens=df.loc['Queens']\n",
    "queens['New Positives/Total Tests']=queens['New Positives']/queens['Total Number of Tests Performed']\n",
    "queens['pos_hundred_thousand']=(queens['New Positives']*100000)/2253858\n",
    "queens.tail(14)"
   ]
  },
  {
   "cell_type": "code",
   "execution_count": 35,
   "metadata": {},
   "outputs": [
    {
     "data": {
      "text/plain": [
       "Test Date\n",
       "2021-01-02    0.071788\n",
       "2021-01-03    0.072464\n",
       "2021-01-04    0.074154\n",
       "2021-01-05    0.073365\n",
       "2021-01-06    0.072139\n",
       "2021-01-07    0.072236\n",
       "2021-01-08    0.071964\n",
       "2021-01-09    0.071073\n",
       "2021-01-10    0.069012\n",
       "2021-01-11    0.068590\n",
       "Name: New Positives/Total Tests, dtype: float64"
      ]
     },
     "execution_count": 35,
     "metadata": {},
     "output_type": "execute_result"
    }
   ],
   "source": [
    "queens['New Positives/Total Tests'].rolling(7).mean().tail(10)"
   ]
  },
  {
   "cell_type": "code",
   "execution_count": 36,
   "metadata": {},
   "outputs": [
    {
     "data": {
      "text/plain": [
       "<AxesSubplot:xlabel='Test Date'>"
      ]
     },
     "execution_count": 36,
     "metadata": {},
     "output_type": "execute_result"
    },
    {
     "data": {
      "image/png": "[encoded data removed]",
      "text/plain": [
       "<Figure size 432x288 with 1 Axes>"
      ]
     },
     "metadata": {
      "needs_background": "light"
     },
     "output_type": "display_data"
    }
   ],
   "source": [
    "queens['New Positives/Total Tests'].rolling(7).mean().plot()"
   ]
  },
  {
   "cell_type": "code",
   "execution_count": 37,
   "metadata": {},
   "outputs": [
    {
     "data": {
      "text/plain": [
       "Test Date\n",
       "2021-01-02    62.762225\n",
       "2021-01-03    63.275630\n",
       "2021-01-04    63.281969\n",
       "2021-01-05    65.240515\n",
       "2021-01-06    65.665184\n",
       "2021-01-07    67.319490\n",
       "2021-01-08    69.436495\n",
       "2021-01-09    72.092259\n",
       "2021-01-10    74.253632\n",
       "2021-01-11    76.839674\n",
       "Name: pos_hundred_thousand, dtype: float64"
      ]
     },
     "execution_count": 37,
     "metadata": {},
     "output_type": "execute_result"
    }
   ],
   "source": [
    "queens['pos_hundred_thousand'].rolling(7).mean().tail(10)"
   ]
  },
  {
   "cell_type": "code",
   "execution_count": 38,
   "metadata": {},
   "outputs": [
    {
     "data": {
      "text/plain": [
       "<AxesSubplot:xlabel='Test Date'>"
      ]
     },
     "execution_count": 38,
     "metadata": {},
     "output_type": "execute_result"
    },
    {
     "data": {
      "image/png": "[encoded data removed]",
      "text/plain": [
       "<Figure size 432x288 with 1 Axes>"
      ]
     },
     "metadata": {
      "needs_background": "light"
     },
     "output_type": "display_data"
    }
   ],
   "source": [
    "queens['pos_hundred_thousand'].rolling(7).mean().plot()"
   ]
  },
  {
   "cell_type": "code",
   "execution_count": 39,
   "metadata": {},
   "outputs": [
    {
     "name": "stdout",
     "output_type": "stream",
     "text": [
      "LOCKDOWN IMMINENT\n"
     ]
    }
   ],
   "source": [
    "per_cap=np.sum(queens['pos_hundred_thousand'].rolling(7).mean().tail(10).values >10)\n",
    "pos_rate=np.sum(queens['New Positives/Total Tests'].rolling(7).mean().tail(10).values)\n",
    "if per_cap == 10 and pos_rate >= .4:\n",
    "    print('LOCKDOWN IMMINENT')\n",
    "if (per_cap>=1) and (pos_rate>=.2 and pos_rate<.4):\n",
    "    print('LOCKDOWN PENDING')   \n",
    "if (pos_rate <= .2):\n",
    "    print('LOCKDOWN UNLIKELY')"
   ]
  },
  {
   "cell_type": "markdown",
   "metadata": {},
   "source": [
    "# BROOKLYN"
   ]
  },
  {
   "cell_type": "markdown",
   "metadata": {},
   "source": [
    "Geographic area has 7-day rolling average positivity above 4% for 10 days  \n",
    "\n",
    "AND  \n",
    "\n",
    "Geographic area has 10 or more new daily cases per 100,000 residents on 7-day average"
   ]
  },
  {
   "cell_type": "code",
   "execution_count": 40,
   "metadata": {},
   "outputs": [
    {
     "data": {
      "text/html": [
       "<div>\n",
       "<style scoped>\n",
       "    .dataframe tbody tr th:only-of-type {\n",
       "        vertical-align: middle;\n",
       "    }\n",
       "\n",
       "    .dataframe tbody tr th {\n",
       "        vertical-align: top;\n",
       "    }\n",
       "\n",
       "    .dataframe thead th {\n",
       "        text-align: right;\n",
       "    }\n",
       "</style>\n",
       "<table border=\"1\" class=\"dataframe\">\n",
       "  <thead>\n",
       "    <tr style=\"text-align: right;\">\n",
       "      <th></th>\n",
       "      <th>New Positives</th>\n",
       "      <th>Cumulative Number of Positives</th>\n",
       "      <th>Total Number of Tests Performed</th>\n",
       "      <th>Cumulative Number of Tests Performed</th>\n",
       "      <th>New Positives/Total Tests</th>\n",
       "      <th>pos_hundred_thousand</th>\n",
       "    </tr>\n",
       "    <tr>\n",
       "      <th>Test Date</th>\n",
       "      <th></th>\n",
       "      <th></th>\n",
       "      <th></th>\n",
       "      <th></th>\n",
       "      <th></th>\n",
       "      <th></th>\n",
       "    </tr>\n",
       "  </thead>\n",
       "  <tbody>\n",
       "    <tr>\n",
       "      <th>2020-12-29</th>\n",
       "      <td>1456</td>\n",
       "      <td>120208</td>\n",
       "      <td>20606</td>\n",
       "      <td>3045104</td>\n",
       "      <td>0.070659</td>\n",
       "      <td>56.877155</td>\n",
       "    </tr>\n",
       "    <tr>\n",
       "      <th>2020-12-30</th>\n",
       "      <td>1767</td>\n",
       "      <td>121975</td>\n",
       "      <td>26297</td>\n",
       "      <td>3071401</td>\n",
       "      <td>0.067194</td>\n",
       "      <td>69.026053</td>\n",
       "    </tr>\n",
       "    <tr>\n",
       "      <th>2020-12-31</th>\n",
       "      <td>1449</td>\n",
       "      <td>123424</td>\n",
       "      <td>24505</td>\n",
       "      <td>3095906</td>\n",
       "      <td>0.059131</td>\n",
       "      <td>56.603707</td>\n",
       "    </tr>\n",
       "    <tr>\n",
       "      <th>2021-01-01</th>\n",
       "      <td>1385</td>\n",
       "      <td>124809</td>\n",
       "      <td>23897</td>\n",
       "      <td>3119803</td>\n",
       "      <td>0.057957</td>\n",
       "      <td>54.103613</td>\n",
       "    </tr>\n",
       "    <tr>\n",
       "      <th>2021-01-02</th>\n",
       "      <td>846</td>\n",
       "      <td>125655</td>\n",
       "      <td>16005</td>\n",
       "      <td>3135808</td>\n",
       "      <td>0.052858</td>\n",
       "      <td>33.048127</td>\n",
       "    </tr>\n",
       "    <tr>\n",
       "      <th>2021-01-03</th>\n",
       "      <td>1028</td>\n",
       "      <td>126683</td>\n",
       "      <td>16433</td>\n",
       "      <td>3152241</td>\n",
       "      <td>0.062557</td>\n",
       "      <td>40.157772</td>\n",
       "    </tr>\n",
       "    <tr>\n",
       "      <th>2021-01-04</th>\n",
       "      <td>1384</td>\n",
       "      <td>128067</td>\n",
       "      <td>19498</td>\n",
       "      <td>3171739</td>\n",
       "      <td>0.070982</td>\n",
       "      <td>54.064549</td>\n",
       "    </tr>\n",
       "    <tr>\n",
       "      <th>2021-01-05</th>\n",
       "      <td>1572</td>\n",
       "      <td>129639</td>\n",
       "      <td>22417</td>\n",
       "      <td>3194156</td>\n",
       "      <td>0.070125</td>\n",
       "      <td>61.408577</td>\n",
       "    </tr>\n",
       "    <tr>\n",
       "      <th>2021-01-06</th>\n",
       "      <td>1858</td>\n",
       "      <td>131497</td>\n",
       "      <td>27980</td>\n",
       "      <td>3222136</td>\n",
       "      <td>0.066405</td>\n",
       "      <td>72.580875</td>\n",
       "    </tr>\n",
       "    <tr>\n",
       "      <th>2021-01-07</th>\n",
       "      <td>1788</td>\n",
       "      <td>133285</td>\n",
       "      <td>27561</td>\n",
       "      <td>3249697</td>\n",
       "      <td>0.064874</td>\n",
       "      <td>69.846397</td>\n",
       "    </tr>\n",
       "    <tr>\n",
       "      <th>2021-01-08</th>\n",
       "      <td>1678</td>\n",
       "      <td>134963</td>\n",
       "      <td>30912</td>\n",
       "      <td>3280609</td>\n",
       "      <td>0.054283</td>\n",
       "      <td>65.549359</td>\n",
       "    </tr>\n",
       "    <tr>\n",
       "      <th>2021-01-09</th>\n",
       "      <td>1522</td>\n",
       "      <td>136485</td>\n",
       "      <td>31661</td>\n",
       "      <td>3312270</td>\n",
       "      <td>0.048072</td>\n",
       "      <td>59.455378</td>\n",
       "    </tr>\n",
       "    <tr>\n",
       "      <th>2021-01-10</th>\n",
       "      <td>1474</td>\n",
       "      <td>137959</td>\n",
       "      <td>25639</td>\n",
       "      <td>3337909</td>\n",
       "      <td>0.057491</td>\n",
       "      <td>57.580307</td>\n",
       "    </tr>\n",
       "    <tr>\n",
       "      <th>2021-01-11</th>\n",
       "      <td>1713</td>\n",
       "      <td>139672</td>\n",
       "      <td>25260</td>\n",
       "      <td>3363169</td>\n",
       "      <td>0.067815</td>\n",
       "      <td>66.916598</td>\n",
       "    </tr>\n",
       "  </tbody>\n",
       "</table>\n",
       "</div>"
      ],
      "text/plain": [
       "            New Positives  Cumulative Number of Positives  \\\n",
       "Test Date                                                   \n",
       "2020-12-29           1456                          120208   \n",
       "2020-12-30           1767                          121975   \n",
       "2020-12-31           1449                          123424   \n",
       "2021-01-01           1385                          124809   \n",
       "2021-01-02            846                          125655   \n",
       "2021-01-03           1028                          126683   \n",
       "2021-01-04           1384                          128067   \n",
       "2021-01-05           1572                          129639   \n",
       "2021-01-06           1858                          131497   \n",
       "2021-01-07           1788                          133285   \n",
       "2021-01-08           1678                          134963   \n",
       "2021-01-09           1522                          136485   \n",
       "2021-01-10           1474                          137959   \n",
       "2021-01-11           1713                          139672   \n",
       "\n",
       "            Total Number of Tests Performed  \\\n",
       "Test Date                                     \n",
       "2020-12-29                            20606   \n",
       "2020-12-30                            26297   \n",
       "2020-12-31                            24505   \n",
       "2021-01-01                            23897   \n",
       "2021-01-02                            16005   \n",
       "2021-01-03                            16433   \n",
       "2021-01-04                            19498   \n",
       "2021-01-05                            22417   \n",
       "2021-01-06                            27980   \n",
       "2021-01-07                            27561   \n",
       "2021-01-08                            30912   \n",
       "2021-01-09                            31661   \n",
       "2021-01-10                            25639   \n",
       "2021-01-11                            25260   \n",
       "\n",
       "            Cumulative Number of Tests Performed  New Positives/Total Tests  \\\n",
       "Test Date                                                                     \n",
       "2020-12-29                               3045104                   0.070659   \n",
       "2020-12-30                               3071401                   0.067194   \n",
       "2020-12-31                               3095906                   0.059131   \n",
       "2021-01-01                               3119803                   0.057957   \n",
       "2021-01-02                               3135808                   0.052858   \n",
       "2021-01-03                               3152241                   0.062557   \n",
       "2021-01-04                               3171739                   0.070982   \n",
       "2021-01-05                               3194156                   0.070125   \n",
       "2021-01-06                               3222136                   0.066405   \n",
       "2021-01-07                               3249697                   0.064874   \n",
       "2021-01-08                               3280609                   0.054283   \n",
       "2021-01-09                               3312270                   0.048072   \n",
       "2021-01-10                               3337909                   0.057491   \n",
       "2021-01-11                               3363169                   0.067815   \n",
       "\n",
       "            pos_hundred_thousand  \n",
       "Test Date                         \n",
       "2020-12-29             56.877155  \n",
       "2020-12-30             69.026053  \n",
       "2020-12-31             56.603707  \n",
       "2021-01-01             54.103613  \n",
       "2021-01-02             33.048127  \n",
       "2021-01-03             40.157772  \n",
       "2021-01-04             54.064549  \n",
       "2021-01-05             61.408577  \n",
       "2021-01-06             72.580875  \n",
       "2021-01-07             69.846397  \n",
       "2021-01-08             65.549359  \n",
       "2021-01-09             59.455378  \n",
       "2021-01-10             57.580307  \n",
       "2021-01-11             66.916598  "
      ]
     },
     "execution_count": 40,
     "metadata": {},
     "output_type": "execute_result"
    }
   ],
   "source": [
    "brooklyn=df.loc['Kings']\n",
    "brooklyn['New Positives/Total Tests']=brooklyn['New Positives']/brooklyn['Total Number of Tests Performed']\n",
    "brooklyn['pos_hundred_thousand']=(brooklyn['New Positives']*100000)/2559903\n",
    "brooklyn.tail(14)"
   ]
  },
  {
   "cell_type": "code",
   "execution_count": 41,
   "metadata": {},
   "outputs": [
    {
     "data": {
      "text/plain": [
       "Test Date\n",
       "2021-01-02    0.061870\n",
       "2021-01-03    0.061087\n",
       "2021-01-04    0.063048\n",
       "2021-01-05    0.062972\n",
       "2021-01-06    0.062859\n",
       "2021-01-07    0.063680\n",
       "2021-01-08    0.063155\n",
       "2021-01-09    0.062471\n",
       "2021-01-10    0.061747\n",
       "2021-01-11    0.061295\n",
       "Name: New Positives/Total Tests, dtype: float64"
      ]
     },
     "execution_count": 41,
     "metadata": {},
     "output_type": "execute_result"
    }
   ],
   "source": [
    "brooklyn['New Positives/Total Tests'].rolling(7).mean().tail(10)"
   ]
  },
  {
   "cell_type": "code",
   "execution_count": 42,
   "metadata": {},
   "outputs": [
    {
     "data": {
      "text/plain": [
       "<AxesSubplot:xlabel='Test Date'>"
      ]
     },
     "execution_count": 42,
     "metadata": {},
     "output_type": "execute_result"
    },
    {
     "data": {
      "image/png": "[encoded data removed]",
      "text/plain": [
       "<Figure size 432x288 with 1 Axes>"
      ]
     },
     "metadata": {
      "needs_background": "light"
     },
     "output_type": "display_data"
    }
   ],
   "source": [
    "brooklyn['New Positives/Total Tests'].rolling(7).mean().plot()"
   ]
  },
  {
   "cell_type": "code",
   "execution_count": 43,
   "metadata": {},
   "outputs": [
    {
     "data": {
      "text/plain": [
       "Test Date\n",
       "2021-01-02    51.743032\n",
       "2021-01-03    51.709549\n",
       "2021-01-04    51.982996\n",
       "2021-01-05    52.630342\n",
       "2021-01-06    53.138174\n",
       "2021-01-07    55.029987\n",
       "2021-01-08    56.665094\n",
       "2021-01-09    60.437558\n",
       "2021-01-10    62.926491\n",
       "2021-01-11    64.762499\n",
       "Name: pos_hundred_thousand, dtype: float64"
      ]
     },
     "execution_count": 43,
     "metadata": {},
     "output_type": "execute_result"
    }
   ],
   "source": [
    "brooklyn['pos_hundred_thousand'].rolling(7).mean().tail(10)"
   ]
  },
  {
   "cell_type": "code",
   "execution_count": 44,
   "metadata": {},
   "outputs": [
    {
     "data": {
      "text/plain": [
       "<AxesSubplot:xlabel='Test Date'>"
      ]
     },
     "execution_count": 44,
     "metadata": {},
     "output_type": "execute_result"
    },
    {
     "data": {
      "image/png": "[encoded data removed]",
      "text/plain": [
       "<Figure size 432x288 with 1 Axes>"
      ]
     },
     "metadata": {
      "needs_background": "light"
     },
     "output_type": "display_data"
    }
   ],
   "source": [
    "brooklyn['pos_hundred_thousand'].rolling(7).mean().plot()"
   ]
  },
  {
   "cell_type": "code",
   "execution_count": 45,
   "metadata": {},
   "outputs": [
    {
     "name": "stdout",
     "output_type": "stream",
     "text": [
      "LOCKDOWN IMMINENT\n"
     ]
    }
   ],
   "source": [
    "per_cap=np.sum(brooklyn['pos_hundred_thousand'].rolling(7).mean().tail(10).values >10)\n",
    "pos_rate=np.sum(brooklyn['New Positives/Total Tests'].rolling(7).mean().tail(10).values)\n",
    "if per_cap == 10 and pos_rate >= .4:\n",
    "    print('LOCKDOWN IMMINENT')\n",
    "if (per_cap>=1) and (pos_rate>=.2 and pos_rate<.4):\n",
    "    print('LOCKDOWN PENDING')   \n",
    "if (pos_rate <= .2):\n",
    "    print('LOCKDOWN UNLIKELY')"
   ]
  },
  {
   "cell_type": "markdown",
   "metadata": {},
   "source": [
    "# BRONX"
   ]
  },
  {
   "cell_type": "markdown",
   "metadata": {},
   "source": [
    "Geographic area has 7-day rolling average positivity above 4% for 10 days  \n",
    "\n",
    "AND  \n",
    "\n",
    "Geographic area has 10 or more new daily cases per 100,000 residents on 7-day average"
   ]
  },
  {
   "cell_type": "code",
   "execution_count": 46,
   "metadata": {},
   "outputs": [
    {
     "data": {
      "text/html": [
       "<div>\n",
       "<style scoped>\n",
       "    .dataframe tbody tr th:only-of-type {\n",
       "        vertical-align: middle;\n",
       "    }\n",
       "\n",
       "    .dataframe tbody tr th {\n",
       "        vertical-align: top;\n",
       "    }\n",
       "\n",
       "    .dataframe thead th {\n",
       "        text-align: right;\n",
       "    }\n",
       "</style>\n",
       "<table border=\"1\" class=\"dataframe\">\n",
       "  <thead>\n",
       "    <tr style=\"text-align: right;\">\n",
       "      <th></th>\n",
       "      <th>New Positives</th>\n",
       "      <th>Cumulative Number of Positives</th>\n",
       "      <th>Total Number of Tests Performed</th>\n",
       "      <th>Cumulative Number of Tests Performed</th>\n",
       "      <th>New Positives/Total Tests</th>\n",
       "      <th>pos_hundred_thousand</th>\n",
       "    </tr>\n",
       "    <tr>\n",
       "      <th>Test Date</th>\n",
       "      <th></th>\n",
       "      <th></th>\n",
       "      <th></th>\n",
       "      <th></th>\n",
       "      <th></th>\n",
       "      <th></th>\n",
       "    </tr>\n",
       "  </thead>\n",
       "  <tbody>\n",
       "    <tr>\n",
       "      <th>2020-12-29</th>\n",
       "      <td>778</td>\n",
       "      <td>81882</td>\n",
       "      <td>8649</td>\n",
       "      <td>1634181</td>\n",
       "      <td>0.089953</td>\n",
       "      <td>54.858000</td>\n",
       "    </tr>\n",
       "    <tr>\n",
       "      <th>2020-12-30</th>\n",
       "      <td>1110</td>\n",
       "      <td>82992</td>\n",
       "      <td>15473</td>\n",
       "      <td>1649654</td>\n",
       "      <td>0.071738</td>\n",
       "      <td>78.267841</td>\n",
       "    </tr>\n",
       "    <tr>\n",
       "      <th>2020-12-31</th>\n",
       "      <td>983</td>\n",
       "      <td>83975</td>\n",
       "      <td>12937</td>\n",
       "      <td>1662591</td>\n",
       "      <td>0.075984</td>\n",
       "      <td>69.312872</td>\n",
       "    </tr>\n",
       "    <tr>\n",
       "      <th>2021-01-01</th>\n",
       "      <td>1094</td>\n",
       "      <td>85069</td>\n",
       "      <td>13672</td>\n",
       "      <td>1676263</td>\n",
       "      <td>0.080018</td>\n",
       "      <td>77.139656</td>\n",
       "    </tr>\n",
       "    <tr>\n",
       "      <th>2021-01-02</th>\n",
       "      <td>577</td>\n",
       "      <td>85646</td>\n",
       "      <td>7217</td>\n",
       "      <td>1683480</td>\n",
       "      <td>0.079950</td>\n",
       "      <td>40.685175</td>\n",
       "    </tr>\n",
       "    <tr>\n",
       "      <th>2021-01-03</th>\n",
       "      <td>631</td>\n",
       "      <td>86277</td>\n",
       "      <td>7455</td>\n",
       "      <td>1690935</td>\n",
       "      <td>0.084641</td>\n",
       "      <td>44.492800</td>\n",
       "    </tr>\n",
       "    <tr>\n",
       "      <th>2021-01-04</th>\n",
       "      <td>796</td>\n",
       "      <td>87073</td>\n",
       "      <td>12710</td>\n",
       "      <td>1703645</td>\n",
       "      <td>0.062628</td>\n",
       "      <td>56.127209</td>\n",
       "    </tr>\n",
       "    <tr>\n",
       "      <th>2021-01-05</th>\n",
       "      <td>871</td>\n",
       "      <td>87944</td>\n",
       "      <td>10740</td>\n",
       "      <td>1714385</td>\n",
       "      <td>0.081099</td>\n",
       "      <td>61.415576</td>\n",
       "    </tr>\n",
       "    <tr>\n",
       "      <th>2021-01-06</th>\n",
       "      <td>1224</td>\n",
       "      <td>89168</td>\n",
       "      <td>14834</td>\n",
       "      <td>1729219</td>\n",
       "      <td>0.082513</td>\n",
       "      <td>86.306160</td>\n",
       "    </tr>\n",
       "    <tr>\n",
       "      <th>2021-01-07</th>\n",
       "      <td>1185</td>\n",
       "      <td>90353</td>\n",
       "      <td>15694</td>\n",
       "      <td>1744913</td>\n",
       "      <td>0.075507</td>\n",
       "      <td>83.556209</td>\n",
       "    </tr>\n",
       "    <tr>\n",
       "      <th>2021-01-08</th>\n",
       "      <td>1051</td>\n",
       "      <td>91404</td>\n",
       "      <td>15365</td>\n",
       "      <td>1760278</td>\n",
       "      <td>0.068402</td>\n",
       "      <td>74.107658</td>\n",
       "    </tr>\n",
       "    <tr>\n",
       "      <th>2021-01-09</th>\n",
       "      <td>906</td>\n",
       "      <td>92310</td>\n",
       "      <td>15255</td>\n",
       "      <td>1775533</td>\n",
       "      <td>0.059390</td>\n",
       "      <td>63.883481</td>\n",
       "    </tr>\n",
       "    <tr>\n",
       "      <th>2021-01-10</th>\n",
       "      <td>997</td>\n",
       "      <td>93307</td>\n",
       "      <td>12524</td>\n",
       "      <td>1788057</td>\n",
       "      <td>0.079607</td>\n",
       "      <td>70.300034</td>\n",
       "    </tr>\n",
       "    <tr>\n",
       "      <th>2021-01-11</th>\n",
       "      <td>1094</td>\n",
       "      <td>94401</td>\n",
       "      <td>14373</td>\n",
       "      <td>1802430</td>\n",
       "      <td>0.076115</td>\n",
       "      <td>77.139656</td>\n",
       "    </tr>\n",
       "  </tbody>\n",
       "</table>\n",
       "</div>"
      ],
      "text/plain": [
       "            New Positives  Cumulative Number of Positives  \\\n",
       "Test Date                                                   \n",
       "2020-12-29            778                           81882   \n",
       "2020-12-30           1110                           82992   \n",
       "2020-12-31            983                           83975   \n",
       "2021-01-01           1094                           85069   \n",
       "2021-01-02            577                           85646   \n",
       "2021-01-03            631                           86277   \n",
       "2021-01-04            796                           87073   \n",
       "2021-01-05            871                           87944   \n",
       "2021-01-06           1224                           89168   \n",
       "2021-01-07           1185                           90353   \n",
       "2021-01-08           1051                           91404   \n",
       "2021-01-09            906                           92310   \n",
       "2021-01-10            997                           93307   \n",
       "2021-01-11           1094                           94401   \n",
       "\n",
       "            Total Number of Tests Performed  \\\n",
       "Test Date                                     \n",
       "2020-12-29                             8649   \n",
       "2020-12-30                            15473   \n",
       "2020-12-31                            12937   \n",
       "2021-01-01                            13672   \n",
       "2021-01-02                             7217   \n",
       "2021-01-03                             7455   \n",
       "2021-01-04                            12710   \n",
       "2021-01-05                            10740   \n",
       "2021-01-06                            14834   \n",
       "2021-01-07                            15694   \n",
       "2021-01-08                            15365   \n",
       "2021-01-09                            15255   \n",
       "2021-01-10                            12524   \n",
       "2021-01-11                            14373   \n",
       "\n",
       "            Cumulative Number of Tests Performed  New Positives/Total Tests  \\\n",
       "Test Date                                                                     \n",
       "2020-12-29                               1634181                   0.089953   \n",
       "2020-12-30                               1649654                   0.071738   \n",
       "2020-12-31                               1662591                   0.075984   \n",
       "2021-01-01                               1676263                   0.080018   \n",
       "2021-01-02                               1683480                   0.079950   \n",
       "2021-01-03                               1690935                   0.084641   \n",
       "2021-01-04                               1703645                   0.062628   \n",
       "2021-01-05                               1714385                   0.081099   \n",
       "2021-01-06                               1729219                   0.082513   \n",
       "2021-01-07                               1744913                   0.075507   \n",
       "2021-01-08                               1760278                   0.068402   \n",
       "2021-01-09                               1775533                   0.059390   \n",
       "2021-01-10                               1788057                   0.079607   \n",
       "2021-01-11                               1802430                   0.076115   \n",
       "\n",
       "            pos_hundred_thousand  \n",
       "Test Date                         \n",
       "2020-12-29             54.858000  \n",
       "2020-12-30             78.267841  \n",
       "2020-12-31             69.312872  \n",
       "2021-01-01             77.139656  \n",
       "2021-01-02             40.685175  \n",
       "2021-01-03             44.492800  \n",
       "2021-01-04             56.127209  \n",
       "2021-01-05             61.415576  \n",
       "2021-01-06             86.306160  \n",
       "2021-01-07             83.556209  \n",
       "2021-01-08             74.107658  \n",
       "2021-01-09             63.883481  \n",
       "2021-01-10             70.300034  \n",
       "2021-01-11             77.139656  "
      ]
     },
     "execution_count": 46,
     "metadata": {},
     "output_type": "execute_result"
    }
   ],
   "source": [
    "bronx=df.loc['Bronx']\n",
    "bronx['New Positives/Total Tests']=bronx['New Positives']/bronx['Total Number of Tests Performed']\n",
    "bronx['pos_hundred_thousand']=(bronx['New Positives']*100000)/1418207\n",
    "bronx.tail(14)"
   ]
  },
  {
   "cell_type": "code",
   "execution_count": 47,
   "metadata": {},
   "outputs": [
    {
     "data": {
      "text/plain": [
       "Test Date\n",
       "2021-01-02    0.078079\n",
       "2021-01-03    0.078217\n",
       "2021-01-04    0.077844\n",
       "2021-01-05    0.076580\n",
       "2021-01-06    0.078119\n",
       "2021-01-07    0.078051\n",
       "2021-01-08    0.076391\n",
       "2021-01-09    0.073454\n",
       "2021-01-10    0.072735\n",
       "2021-01-11    0.074662\n",
       "Name: New Positives/Total Tests, dtype: float64"
      ]
     },
     "execution_count": 47,
     "metadata": {},
     "output_type": "execute_result"
    }
   ],
   "source": [
    "bronx['New Positives/Total Tests'].rolling(7).mean().tail(10)"
   ]
  },
  {
   "cell_type": "code",
   "execution_count": 48,
   "metadata": {},
   "outputs": [
    {
     "data": {
      "text/plain": [
       "<AxesSubplot:xlabel='Test Date'>"
      ]
     },
     "execution_count": 48,
     "metadata": {},
     "output_type": "execute_result"
    },
    {
     "data": {
      "image/png": "[encoded data removed]",
      "text/plain": [
       "<Figure size 432x288 with 1 Axes>"
      ]
     },
     "metadata": {
      "needs_background": "light"
     },
     "output_type": "display_data"
    }
   ],
   "source": [
    "bronx['New Positives/Total Tests'].rolling(7).mean().plot()"
   ]
  },
  {
   "cell_type": "code",
   "execution_count": 49,
   "metadata": {},
   "outputs": [
    {
     "data": {
      "text/plain": [
       "Test Date\n",
       "2021-01-02    59.300229\n",
       "2021-01-03    59.703152\n",
       "2021-01-04    60.126222\n",
       "2021-01-05    61.063018\n",
       "2021-01-06    62.211350\n",
       "2021-01-07    64.246112\n",
       "2021-01-08    63.812969\n",
       "2021-01-09    67.127013\n",
       "2021-01-10    70.813761\n",
       "2021-01-11    73.815539\n",
       "Name: pos_hundred_thousand, dtype: float64"
      ]
     },
     "execution_count": 49,
     "metadata": {},
     "output_type": "execute_result"
    }
   ],
   "source": [
    "bronx['pos_hundred_thousand'].rolling(7).mean().tail(10)"
   ]
  },
  {
   "cell_type": "code",
   "execution_count": 50,
   "metadata": {},
   "outputs": [
    {
     "data": {
      "text/plain": [
       "<AxesSubplot:xlabel='Test Date'>"
      ]
     },
     "execution_count": 50,
     "metadata": {},
     "output_type": "execute_result"
    },
    {
     "data": {
      "image/png": "[encoded data removed]",
      "text/plain": [
       "<Figure size 432x288 with 1 Axes>"
      ]
     },
     "metadata": {
      "needs_background": "light"
     },
     "output_type": "display_data"
    }
   ],
   "source": [
    "bronx['pos_hundred_thousand'].rolling(7).mean().plot()"
   ]
  },
  {
   "cell_type": "code",
   "execution_count": 51,
   "metadata": {},
   "outputs": [
    {
     "name": "stdout",
     "output_type": "stream",
     "text": [
      "LOCKDOWN IMMINENT\n"
     ]
    }
   ],
   "source": [
    "per_cap=np.sum(bronx['pos_hundred_thousand'].rolling(7).mean().tail(10).values >10)\n",
    "pos_rate=np.sum(bronx['New Positives/Total Tests'].rolling(7).mean().tail(10).values)\n",
    "if per_cap == 10 and pos_rate >= .4:\n",
    "    print('LOCKDOWN IMMINENT')\n",
    "if (per_cap>=1) and (pos_rate>=.2 and pos_rate<.4):\n",
    "    print('LOCKDOWN PENDING')   \n",
    "if (pos_rate <= .2):\n",
    "    print('LOCKDOWN UNLIKELY')"
   ]
  },
  {
   "cell_type": "markdown",
   "metadata": {},
   "source": [
    "# STATEN ISLAND"
   ]
  },
  {
   "cell_type": "markdown",
   "metadata": {},
   "source": [
    "Geographic area has 7-day rolling average positivity above 4% for 10 days  \n",
    "\n",
    "AND  \n",
    "\n",
    "Geographic area has 10 or more new daily cases per 100,000 residents on 7-day average"
   ]
  },
  {
   "cell_type": "code",
   "execution_count": 52,
   "metadata": {},
   "outputs": [
    {
     "data": {
      "text/html": [
       "<div>\n",
       "<style scoped>\n",
       "    .dataframe tbody tr th:only-of-type {\n",
       "        vertical-align: middle;\n",
       "    }\n",
       "\n",
       "    .dataframe tbody tr th {\n",
       "        vertical-align: top;\n",
       "    }\n",
       "\n",
       "    .dataframe thead th {\n",
       "        text-align: right;\n",
       "    }\n",
       "</style>\n",
       "<table border=\"1\" class=\"dataframe\">\n",
       "  <thead>\n",
       "    <tr style=\"text-align: right;\">\n",
       "      <th></th>\n",
       "      <th>New Positives</th>\n",
       "      <th>Cumulative Number of Positives</th>\n",
       "      <th>Total Number of Tests Performed</th>\n",
       "      <th>Cumulative Number of Tests Performed</th>\n",
       "      <th>New Positives/Total Tests</th>\n",
       "      <th>pos_hundred_thousand</th>\n",
       "    </tr>\n",
       "    <tr>\n",
       "      <th>Test Date</th>\n",
       "      <th></th>\n",
       "      <th></th>\n",
       "      <th></th>\n",
       "      <th></th>\n",
       "      <th></th>\n",
       "      <th></th>\n",
       "    </tr>\n",
       "  </thead>\n",
       "  <tbody>\n",
       "    <tr>\n",
       "      <th>2020-12-29</th>\n",
       "      <td>483</td>\n",
       "      <td>34402</td>\n",
       "      <td>5171</td>\n",
       "      <td>707586</td>\n",
       "      <td>0.093406</td>\n",
       "      <td>101.440114</td>\n",
       "    </tr>\n",
       "    <tr>\n",
       "      <th>2020-12-30</th>\n",
       "      <td>596</td>\n",
       "      <td>34998</td>\n",
       "      <td>8114</td>\n",
       "      <td>715700</td>\n",
       "      <td>0.073453</td>\n",
       "      <td>125.172480</td>\n",
       "    </tr>\n",
       "    <tr>\n",
       "      <th>2020-12-31</th>\n",
       "      <td>551</td>\n",
       "      <td>35549</td>\n",
       "      <td>8709</td>\n",
       "      <td>724409</td>\n",
       "      <td>0.063268</td>\n",
       "      <td>115.721537</td>\n",
       "    </tr>\n",
       "    <tr>\n",
       "      <th>2021-01-01</th>\n",
       "      <td>499</td>\n",
       "      <td>36048</td>\n",
       "      <td>6812</td>\n",
       "      <td>731221</td>\n",
       "      <td>0.073253</td>\n",
       "      <td>104.800449</td>\n",
       "    </tr>\n",
       "    <tr>\n",
       "      <th>2021-01-02</th>\n",
       "      <td>371</td>\n",
       "      <td>36419</td>\n",
       "      <td>5152</td>\n",
       "      <td>736373</td>\n",
       "      <td>0.072011</td>\n",
       "      <td>77.917768</td>\n",
       "    </tr>\n",
       "    <tr>\n",
       "      <th>2021-01-03</th>\n",
       "      <td>430</td>\n",
       "      <td>36849</td>\n",
       "      <td>4760</td>\n",
       "      <td>741133</td>\n",
       "      <td>0.090336</td>\n",
       "      <td>90.309004</td>\n",
       "    </tr>\n",
       "    <tr>\n",
       "      <th>2021-01-04</th>\n",
       "      <td>616</td>\n",
       "      <td>37465</td>\n",
       "      <td>7068</td>\n",
       "      <td>748201</td>\n",
       "      <td>0.087153</td>\n",
       "      <td>129.372898</td>\n",
       "    </tr>\n",
       "    <tr>\n",
       "      <th>2021-01-05</th>\n",
       "      <td>641</td>\n",
       "      <td>38106</td>\n",
       "      <td>7146</td>\n",
       "      <td>755347</td>\n",
       "      <td>0.089701</td>\n",
       "      <td>134.623422</td>\n",
       "    </tr>\n",
       "    <tr>\n",
       "      <th>2021-01-06</th>\n",
       "      <td>580</td>\n",
       "      <td>38686</td>\n",
       "      <td>8811</td>\n",
       "      <td>764158</td>\n",
       "      <td>0.065827</td>\n",
       "      <td>121.812145</td>\n",
       "    </tr>\n",
       "    <tr>\n",
       "      <th>2021-01-07</th>\n",
       "      <td>498</td>\n",
       "      <td>39184</td>\n",
       "      <td>7552</td>\n",
       "      <td>771710</td>\n",
       "      <td>0.065943</td>\n",
       "      <td>104.590428</td>\n",
       "    </tr>\n",
       "    <tr>\n",
       "      <th>2021-01-08</th>\n",
       "      <td>621</td>\n",
       "      <td>39805</td>\n",
       "      <td>10371</td>\n",
       "      <td>782081</td>\n",
       "      <td>0.059879</td>\n",
       "      <td>130.423003</td>\n",
       "    </tr>\n",
       "    <tr>\n",
       "      <th>2021-01-09</th>\n",
       "      <td>469</td>\n",
       "      <td>40274</td>\n",
       "      <td>8040</td>\n",
       "      <td>790121</td>\n",
       "      <td>0.058333</td>\n",
       "      <td>98.499820</td>\n",
       "    </tr>\n",
       "    <tr>\n",
       "      <th>2021-01-10</th>\n",
       "      <td>457</td>\n",
       "      <td>40731</td>\n",
       "      <td>7248</td>\n",
       "      <td>797369</td>\n",
       "      <td>0.063052</td>\n",
       "      <td>95.979569</td>\n",
       "    </tr>\n",
       "    <tr>\n",
       "      <th>2021-01-11</th>\n",
       "      <td>564</td>\n",
       "      <td>41295</td>\n",
       "      <td>7543</td>\n",
       "      <td>804912</td>\n",
       "      <td>0.074771</td>\n",
       "      <td>118.451810</td>\n",
       "    </tr>\n",
       "  </tbody>\n",
       "</table>\n",
       "</div>"
      ],
      "text/plain": [
       "            New Positives  Cumulative Number of Positives  \\\n",
       "Test Date                                                   \n",
       "2020-12-29            483                           34402   \n",
       "2020-12-30            596                           34998   \n",
       "2020-12-31            551                           35549   \n",
       "2021-01-01            499                           36048   \n",
       "2021-01-02            371                           36419   \n",
       "2021-01-03            430                           36849   \n",
       "2021-01-04            616                           37465   \n",
       "2021-01-05            641                           38106   \n",
       "2021-01-06            580                           38686   \n",
       "2021-01-07            498                           39184   \n",
       "2021-01-08            621                           39805   \n",
       "2021-01-09            469                           40274   \n",
       "2021-01-10            457                           40731   \n",
       "2021-01-11            564                           41295   \n",
       "\n",
       "            Total Number of Tests Performed  \\\n",
       "Test Date                                     \n",
       "2020-12-29                             5171   \n",
       "2020-12-30                             8114   \n",
       "2020-12-31                             8709   \n",
       "2021-01-01                             6812   \n",
       "2021-01-02                             5152   \n",
       "2021-01-03                             4760   \n",
       "2021-01-04                             7068   \n",
       "2021-01-05                             7146   \n",
       "2021-01-06                             8811   \n",
       "2021-01-07                             7552   \n",
       "2021-01-08                            10371   \n",
       "2021-01-09                             8040   \n",
       "2021-01-10                             7248   \n",
       "2021-01-11                             7543   \n",
       "\n",
       "            Cumulative Number of Tests Performed  New Positives/Total Tests  \\\n",
       "Test Date                                                                     \n",
       "2020-12-29                                707586                   0.093406   \n",
       "2020-12-30                                715700                   0.073453   \n",
       "2020-12-31                                724409                   0.063268   \n",
       "2021-01-01                                731221                   0.073253   \n",
       "2021-01-02                                736373                   0.072011   \n",
       "2021-01-03                                741133                   0.090336   \n",
       "2021-01-04                                748201                   0.087153   \n",
       "2021-01-05                                755347                   0.089701   \n",
       "2021-01-06                                764158                   0.065827   \n",
       "2021-01-07                                771710                   0.065943   \n",
       "2021-01-08                                782081                   0.059879   \n",
       "2021-01-09                                790121                   0.058333   \n",
       "2021-01-10                                797369                   0.063052   \n",
       "2021-01-11                                804912                   0.074771   \n",
       "\n",
       "            pos_hundred_thousand  \n",
       "Test Date                         \n",
       "2020-12-29            101.440114  \n",
       "2020-12-30            125.172480  \n",
       "2020-12-31            115.721537  \n",
       "2021-01-01            104.800449  \n",
       "2021-01-02             77.917768  \n",
       "2021-01-03             90.309004  \n",
       "2021-01-04            129.372898  \n",
       "2021-01-05            134.623422  \n",
       "2021-01-06            121.812145  \n",
       "2021-01-07            104.590428  \n",
       "2021-01-08            130.423003  \n",
       "2021-01-09             98.499820  \n",
       "2021-01-10             95.979569  \n",
       "2021-01-11            118.451810  "
      ]
     },
     "execution_count": 52,
     "metadata": {},
     "output_type": "execute_result"
    }
   ],
   "source": [
    "richmond=df.loc['Richmond']\n",
    "richmond['New Positives/Total Tests']=richmond['New Positives']/richmond['Total Number of Tests Performed']\n",
    "richmond['pos_hundred_thousand']=(richmond['New Positives']*100000)/476143\n",
    "richmond.tail(14)"
   ]
  },
  {
   "cell_type": "code",
   "execution_count": 53,
   "metadata": {},
   "outputs": [
    {
     "data": {
      "text/plain": [
       "Test Date\n",
       "2021-01-02    0.076707\n",
       "2021-01-03    0.076549\n",
       "2021-01-04    0.078983\n",
       "2021-01-05    0.078454\n",
       "2021-01-06    0.077364\n",
       "2021-01-07    0.077746\n",
       "2021-01-08    0.075836\n",
       "2021-01-09    0.073882\n",
       "2021-01-10    0.069984\n",
       "2021-01-11    0.068215\n",
       "Name: New Positives/Total Tests, dtype: float64"
      ]
     },
     "execution_count": 53,
     "metadata": {},
     "output_type": "execute_result"
    }
   ],
   "source": [
    "richmond['New Positives/Total Tests'].rolling(7).mean().tail(10)"
   ]
  },
  {
   "cell_type": "code",
   "execution_count": 54,
   "metadata": {},
   "outputs": [
    {
     "data": {
      "text/plain": [
       "<AxesSubplot:xlabel='Test Date'>"
      ]
     },
     "execution_count": 54,
     "metadata": {},
     "output_type": "execute_result"
    },
    {
     "data": {
      "image/png": "[encoded data removed]",
      "text/plain": [
       "<Figure size 432x288 with 1 Axes>"
      ]
     },
     "metadata": {
      "needs_background": "light"
     },
     "output_type": "display_data"
    }
   ],
   "source": [
    "richmond['New Positives/Total Tests'].rolling(7).mean().plot()"
   ]
  },
  {
   "cell_type": "code",
   "execution_count": 55,
   "metadata": {},
   "outputs": [
    {
     "data": {
      "text/plain": [
       "Test Date\n",
       "2021-01-02    101.860155\n",
       "2021-01-03    102.940263\n",
       "2021-01-04    106.390607\n",
       "2021-01-05    111.131080\n",
       "2021-01-06    110.651032\n",
       "2021-01-07    109.060873\n",
       "2021-01-08    112.721238\n",
       "2021-01-09    115.661531\n",
       "2021-01-10    116.471612\n",
       "2021-01-11    114.911457\n",
       "Name: pos_hundred_thousand, dtype: float64"
      ]
     },
     "execution_count": 55,
     "metadata": {},
     "output_type": "execute_result"
    }
   ],
   "source": [
    "richmond['pos_hundred_thousand'].rolling(7).mean().tail(10)"
   ]
  },
  {
   "cell_type": "code",
   "execution_count": 56,
   "metadata": {},
   "outputs": [
    {
     "data": {
      "text/plain": [
       "<AxesSubplot:xlabel='Test Date'>"
      ]
     },
     "execution_count": 56,
     "metadata": {},
     "output_type": "execute_result"
    },
    {
     "data": {
      "image/png": "[encoded data removed]",
      "text/plain": [
       "<Figure size 432x288 with 1 Axes>"
      ]
     },
     "metadata": {
      "needs_background": "light"
     },
     "output_type": "display_data"
    }
   ],
   "source": [
    "richmond['pos_hundred_thousand'].rolling(7).mean().plot()"
   ]
  },
  {
   "cell_type": "code",
   "execution_count": 57,
   "metadata": {},
   "outputs": [
    {
     "name": "stdout",
     "output_type": "stream",
     "text": [
      "LOCKDOWN IMMINENT\n"
     ]
    }
   ],
   "source": [
    "per_cap=np.sum(richmond['pos_hundred_thousand'].rolling(7).mean().tail(10).values >10)\n",
    "pos_rate=np.sum(richmond['New Positives/Total Tests'].rolling(7).mean().tail(10).values)\n",
    "if per_cap == 10 and pos_rate >= .4:\n",
    "    print('LOCKDOWN IMMINENT')\n",
    "if (per_cap>=1) and (pos_rate>=.2 and pos_rate<.4):\n",
    "    print('LOCKDOWN PENDING')   \n",
    "if (pos_rate <= .2):\n",
    "    print('LOCKDOWN UNLIKELY')"
   ]
  },
  {
   "cell_type": "code",
   "execution_count": null,
   "metadata": {},
   "outputs": [],
   "source": []
  },
  {
   "cell_type": "code",
   "execution_count": null,
   "metadata": {},
   "outputs": [],
   "source": []
  }
 ],
 "metadata": {
  "kernelspec": {
   "display_name": "Python 3",
   "language": "python",
   "name": "python3"
  },
  "language_info": {
   "codemirror_mode": {
    "name": "ipython",
    "version": 3
   },
   "file_extension": ".py",
   "mimetype": "text/x-python",
   "name": "python",
   "nbconvert_exporter": "python",
   "pygments_lexer": "ipython3",
   "version": "3.7.6"
  }
 },
 "nbformat": 4,
 "nbformat_minor": 4
}
