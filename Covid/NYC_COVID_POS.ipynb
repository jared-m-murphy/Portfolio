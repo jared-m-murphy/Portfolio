{
 "cells": [
  {
   "cell_type": "markdown",
   "metadata": {},
   "source": [
    "# Covid Lockdown Tracker for Select Counties in NY "
   ]
  },
  {
   "cell_type": "markdown",
   "metadata": {},
   "source": [
    "On October 21st Governor Cuomo released guidlines for when New York counties would go into lockdown https://www.governor.ny.gov/news/governor-cuomo-details-covid-19-micro-cluster-metrics.  This notebook keeps track of the lockdown status for several counties in New York."
   ]
  },
  {
   "cell_type": "code",
   "execution_count": 1,
   "metadata": {},
   "outputs": [],
   "source": [
    "import pandas as pd\n",
    "import matplotlib.pyplot as plt\n",
    "import numpy as np"
   ]
  },
  {
   "cell_type": "code",
   "execution_count": 2,
   "metadata": {},
   "outputs": [],
   "source": [
    "df=pd.read_csv('https://health.data.ny.gov/api/views/xdss-u53e/rows.csv?accessType=DOWNLOAD',\n",
    "               parse_dates=['Test Date'])\n",
    "df=df.groupby(['County','Test Date']).sum()"
   ]
  },
  {
   "cell_type": "markdown",
   "metadata": {},
   "source": [
    "# Westchester County"
   ]
  },
  {
   "cell_type": "markdown",
   "metadata": {},
   "source": [
    "FOR RED ZONE STATUS"
   ]
  },
  {
   "cell_type": "markdown",
   "metadata": {},
   "source": [
    "Geographic area has 7-day rolling average positivity above 4% for 10 days  \n",
    "\n",
    "AND  \n",
    "\n",
    "Geographic area has 10 or more new daily cases per 100,000 residents on 7-day average  "
   ]
  },
  {
   "cell_type": "code",
   "execution_count": 3,
   "metadata": {},
   "outputs": [
    {
     "data": {
      "text/html": [
       "<div>\n",
       "<style scoped>\n",
       "    .dataframe tbody tr th:only-of-type {\n",
       "        vertical-align: middle;\n",
       "    }\n",
       "\n",
       "    .dataframe tbody tr th {\n",
       "        vertical-align: top;\n",
       "    }\n",
       "\n",
       "    .dataframe thead th {\n",
       "        text-align: right;\n",
       "    }\n",
       "</style>\n",
       "<table border=\"1\" class=\"dataframe\">\n",
       "  <thead>\n",
       "    <tr style=\"text-align: right;\">\n",
       "      <th></th>\n",
       "      <th>New Positives</th>\n",
       "      <th>Cumulative Number of Positives</th>\n",
       "      <th>Total Number of Tests Performed</th>\n",
       "      <th>Cumulative Number of Tests Performed</th>\n",
       "      <th>New Positives/Total Tests</th>\n",
       "      <th>pos_hundred_thousand</th>\n",
       "    </tr>\n",
       "    <tr>\n",
       "      <th>Test Date</th>\n",
       "      <th></th>\n",
       "      <th></th>\n",
       "      <th></th>\n",
       "      <th></th>\n",
       "      <th></th>\n",
       "      <th></th>\n",
       "    </tr>\n",
       "  </thead>\n",
       "  <tbody>\n",
       "    <tr>\n",
       "      <th>2021-01-18</th>\n",
       "      <td>600</td>\n",
       "      <td>85020</td>\n",
       "      <td>9769</td>\n",
       "      <td>1636125</td>\n",
       "      <td>0.061419</td>\n",
       "      <td>62.015119</td>\n",
       "    </tr>\n",
       "    <tr>\n",
       "      <th>2021-01-19</th>\n",
       "      <td>703</td>\n",
       "      <td>85723</td>\n",
       "      <td>9638</td>\n",
       "      <td>1645763</td>\n",
       "      <td>0.072940</td>\n",
       "      <td>72.661048</td>\n",
       "    </tr>\n",
       "    <tr>\n",
       "      <th>2021-01-20</th>\n",
       "      <td>923</td>\n",
       "      <td>86646</td>\n",
       "      <td>12663</td>\n",
       "      <td>1658426</td>\n",
       "      <td>0.072890</td>\n",
       "      <td>95.399925</td>\n",
       "    </tr>\n",
       "    <tr>\n",
       "      <th>2021-01-21</th>\n",
       "      <td>924</td>\n",
       "      <td>87570</td>\n",
       "      <td>13629</td>\n",
       "      <td>1672055</td>\n",
       "      <td>0.067797</td>\n",
       "      <td>95.503284</td>\n",
       "    </tr>\n",
       "    <tr>\n",
       "      <th>2021-01-22</th>\n",
       "      <td>834</td>\n",
       "      <td>88404</td>\n",
       "      <td>13024</td>\n",
       "      <td>1685079</td>\n",
       "      <td>0.064036</td>\n",
       "      <td>86.201016</td>\n",
       "    </tr>\n",
       "    <tr>\n",
       "      <th>2021-01-23</th>\n",
       "      <td>821</td>\n",
       "      <td>89225</td>\n",
       "      <td>14160</td>\n",
       "      <td>1699239</td>\n",
       "      <td>0.057980</td>\n",
       "      <td>84.857355</td>\n",
       "    </tr>\n",
       "    <tr>\n",
       "      <th>2021-01-24</th>\n",
       "      <td>804</td>\n",
       "      <td>90029</td>\n",
       "      <td>12366</td>\n",
       "      <td>1711605</td>\n",
       "      <td>0.065017</td>\n",
       "      <td>83.100260</td>\n",
       "    </tr>\n",
       "    <tr>\n",
       "      <th>2021-01-25</th>\n",
       "      <td>636</td>\n",
       "      <td>90665</td>\n",
       "      <td>8951</td>\n",
       "      <td>1720556</td>\n",
       "      <td>0.071054</td>\n",
       "      <td>65.736026</td>\n",
       "    </tr>\n",
       "    <tr>\n",
       "      <th>2021-01-26</th>\n",
       "      <td>558</td>\n",
       "      <td>91223</td>\n",
       "      <td>8454</td>\n",
       "      <td>1729010</td>\n",
       "      <td>0.066004</td>\n",
       "      <td>57.674061</td>\n",
       "    </tr>\n",
       "    <tr>\n",
       "      <th>2021-01-27</th>\n",
       "      <td>839</td>\n",
       "      <td>92062</td>\n",
       "      <td>13809</td>\n",
       "      <td>1742819</td>\n",
       "      <td>0.060757</td>\n",
       "      <td>86.717808</td>\n",
       "    </tr>\n",
       "    <tr>\n",
       "      <th>2021-01-28</th>\n",
       "      <td>732</td>\n",
       "      <td>92794</td>\n",
       "      <td>13954</td>\n",
       "      <td>1756773</td>\n",
       "      <td>0.052458</td>\n",
       "      <td>75.658446</td>\n",
       "    </tr>\n",
       "    <tr>\n",
       "      <th>2021-01-29</th>\n",
       "      <td>791</td>\n",
       "      <td>93585</td>\n",
       "      <td>13379</td>\n",
       "      <td>1770152</td>\n",
       "      <td>0.059123</td>\n",
       "      <td>81.756599</td>\n",
       "    </tr>\n",
       "    <tr>\n",
       "      <th>2021-01-30</th>\n",
       "      <td>629</td>\n",
       "      <td>94214</td>\n",
       "      <td>11890</td>\n",
       "      <td>1782042</td>\n",
       "      <td>0.052902</td>\n",
       "      <td>65.012517</td>\n",
       "    </tr>\n",
       "    <tr>\n",
       "      <th>2021-01-31</th>\n",
       "      <td>484</td>\n",
       "      <td>94698</td>\n",
       "      <td>9801</td>\n",
       "      <td>1791843</td>\n",
       "      <td>0.049383</td>\n",
       "      <td>50.025530</td>\n",
       "    </tr>\n",
       "  </tbody>\n",
       "</table>\n",
       "</div>"
      ],
      "text/plain": [
       "            New Positives  Cumulative Number of Positives  \\\n",
       "Test Date                                                   \n",
       "2021-01-18            600                           85020   \n",
       "2021-01-19            703                           85723   \n",
       "2021-01-20            923                           86646   \n",
       "2021-01-21            924                           87570   \n",
       "2021-01-22            834                           88404   \n",
       "2021-01-23            821                           89225   \n",
       "2021-01-24            804                           90029   \n",
       "2021-01-25            636                           90665   \n",
       "2021-01-26            558                           91223   \n",
       "2021-01-27            839                           92062   \n",
       "2021-01-28            732                           92794   \n",
       "2021-01-29            791                           93585   \n",
       "2021-01-30            629                           94214   \n",
       "2021-01-31            484                           94698   \n",
       "\n",
       "            Total Number of Tests Performed  \\\n",
       "Test Date                                     \n",
       "2021-01-18                             9769   \n",
       "2021-01-19                             9638   \n",
       "2021-01-20                            12663   \n",
       "2021-01-21                            13629   \n",
       "2021-01-22                            13024   \n",
       "2021-01-23                            14160   \n",
       "2021-01-24                            12366   \n",
       "2021-01-25                             8951   \n",
       "2021-01-26                             8454   \n",
       "2021-01-27                            13809   \n",
       "2021-01-28                            13954   \n",
       "2021-01-29                            13379   \n",
       "2021-01-30                            11890   \n",
       "2021-01-31                             9801   \n",
       "\n",
       "            Cumulative Number of Tests Performed  New Positives/Total Tests  \\\n",
       "Test Date                                                                     \n",
       "2021-01-18                               1636125                   0.061419   \n",
       "2021-01-19                               1645763                   0.072940   \n",
       "2021-01-20                               1658426                   0.072890   \n",
       "2021-01-21                               1672055                   0.067797   \n",
       "2021-01-22                               1685079                   0.064036   \n",
       "2021-01-23                               1699239                   0.057980   \n",
       "2021-01-24                               1711605                   0.065017   \n",
       "2021-01-25                               1720556                   0.071054   \n",
       "2021-01-26                               1729010                   0.066004   \n",
       "2021-01-27                               1742819                   0.060757   \n",
       "2021-01-28                               1756773                   0.052458   \n",
       "2021-01-29                               1770152                   0.059123   \n",
       "2021-01-30                               1782042                   0.052902   \n",
       "2021-01-31                               1791843                   0.049383   \n",
       "\n",
       "            pos_hundred_thousand  \n",
       "Test Date                         \n",
       "2021-01-18             62.015119  \n",
       "2021-01-19             72.661048  \n",
       "2021-01-20             95.399925  \n",
       "2021-01-21             95.503284  \n",
       "2021-01-22             86.201016  \n",
       "2021-01-23             84.857355  \n",
       "2021-01-24             83.100260  \n",
       "2021-01-25             65.736026  \n",
       "2021-01-26             57.674061  \n",
       "2021-01-27             86.717808  \n",
       "2021-01-28             75.658446  \n",
       "2021-01-29             81.756599  \n",
       "2021-01-30             65.012517  \n",
       "2021-01-31             50.025530  "
      ]
     },
     "execution_count": 3,
     "metadata": {},
     "output_type": "execute_result"
    }
   ],
   "source": [
    "westchester=pd.DataFrame(df.loc['Westchester'])\n",
    "westchester['New Positives/Total Tests']=westchester['New Positives']/westchester['Total Number of Tests Performed']\n",
    "westchester['pos_hundred_thousand']=(westchester['New Positives']*100000)/967506\n",
    "westchester.tail(14)"
   ]
  },
  {
   "cell_type": "code",
   "execution_count": 4,
   "metadata": {},
   "outputs": [
    {
     "data": {
      "text/plain": [
       "Test Date\n",
       "2021-01-22    0.066878\n",
       "2021-01-23    0.066166\n",
       "2021-01-24    0.066011\n",
       "2021-01-25    0.067388\n",
       "2021-01-26    0.066397\n",
       "2021-01-27    0.064664\n",
       "2021-01-28    0.062472\n",
       "2021-01-29    0.061770\n",
       "2021-01-30    0.061045\n",
       "2021-01-31    0.058811\n",
       "Name: New Positives/Total Tests, dtype: float64"
      ]
     },
     "execution_count": 4,
     "metadata": {},
     "output_type": "execute_result"
    }
   ],
   "source": [
    "westchester['New Positives/Total Tests'].rolling(7).mean().tail(10)"
   ]
  },
  {
   "cell_type": "code",
   "execution_count": 5,
   "metadata": {},
   "outputs": [
    {
     "data": {
      "image/png": "[encoded data removed]",
      "text/plain": [
       "<Figure size 432x288 with 1 Axes>"
      ]
     },
     "metadata": {
      "needs_background": "light"
     },
     "output_type": "display_data"
    }
   ],
   "source": [
    "westchester['New Positives/Total Tests'].rolling(7).mean().plot()\n",
    "plt.title('Westchester Rolling 7 Day MA Positive Rate')\n",
    "plt.xlabel('Date')\n",
    "plt.ylabel('Positive Rate')\n",
    "plt.show()"
   ]
  },
  {
   "cell_type": "code",
   "execution_count": 6,
   "metadata": {},
   "outputs": [
    {
     "data": {
      "text/plain": [
       "Test Date\n",
       "2021-01-22    80.782076\n",
       "2021-01-23    81.461289\n",
       "2021-01-24    82.819715\n",
       "2021-01-25    83.351273\n",
       "2021-01-26    81.210275\n",
       "2021-01-27    79.969973\n",
       "2021-01-28    77.134996\n",
       "2021-01-29    76.500079\n",
       "2021-01-30    73.665102\n",
       "2021-01-31    68.940141\n",
       "Name: pos_hundred_thousand, dtype: float64"
      ]
     },
     "execution_count": 6,
     "metadata": {},
     "output_type": "execute_result"
    }
   ],
   "source": [
    "westchester['pos_hundred_thousand'].rolling(7).mean().tail(10)"
   ]
  },
  {
   "cell_type": "code",
   "execution_count": 7,
   "metadata": {},
   "outputs": [
    {
     "data": {
      "image/png": "[encoded data removed]",
      "text/plain": [
       "<Figure size 432x288 with 1 Axes>"
      ]
     },
     "metadata": {
      "needs_background": "light"
     },
     "output_type": "display_data"
    }
   ],
   "source": [
    "westchester['pos_hundred_thousand'].rolling(7).mean().plot()\n",
    "plt.title('Westchester Rolling 7 Day MA Positive Per 100,000')\n",
    "plt.xlabel('Date')\n",
    "plt.ylabel('Positive Per 100,000')\n",
    "plt.show()"
   ]
  },
  {
   "cell_type": "code",
   "execution_count": 8,
   "metadata": {},
   "outputs": [
    {
     "name": "stdout",
     "output_type": "stream",
     "text": [
      "LOCKDOWN IMMINENT\n"
     ]
    }
   ],
   "source": [
    "per_cap=np.sum(westchester['pos_hundred_thousand'].rolling(7).mean().tail(10).values >10)\n",
    "pos_rate=np.sum(westchester['New Positives/Total Tests'].rolling(7).mean().tail(10).values)\n",
    "if per_cap == 10 and pos_rate >=.4:\n",
    "    print('LOCKDOWN IMMINENT')\n",
    "if (per_cap>=1) and (pos_rate>=.2 and pos_rate<.4):\n",
    "    print('LOCKDOWN PENDING')   \n",
    "if (pos_rate<=.2):\n",
    "    print('LOCKDOWN UNLIKELY')"
   ]
  },
  {
   "cell_type": "markdown",
   "metadata": {},
   "source": [
    "# Ulster County"
   ]
  },
  {
   "cell_type": "markdown",
   "metadata": {},
   "source": [
    "FOR POSSIBLE RED ZONE STATUS"
   ]
  },
  {
   "cell_type": "markdown",
   "metadata": {},
   "source": [
    "Geographic area has 7-day rolling average positivity above 5% for 10 days  \n",
    "\n",
    "AND  \n",
    "\n",
    "Geographic area has 12 or more new daily cases per 100,000 residents on 7-day average  "
   ]
  },
  {
   "cell_type": "code",
   "execution_count": 9,
   "metadata": {},
   "outputs": [
    {
     "data": {
      "text/html": [
       "<div>\n",
       "<style scoped>\n",
       "    .dataframe tbody tr th:only-of-type {\n",
       "        vertical-align: middle;\n",
       "    }\n",
       "\n",
       "    .dataframe tbody tr th {\n",
       "        vertical-align: top;\n",
       "    }\n",
       "\n",
       "    .dataframe thead th {\n",
       "        text-align: right;\n",
       "    }\n",
       "</style>\n",
       "<table border=\"1\" class=\"dataframe\">\n",
       "  <thead>\n",
       "    <tr style=\"text-align: right;\">\n",
       "      <th></th>\n",
       "      <th>New Positives</th>\n",
       "      <th>Cumulative Number of Positives</th>\n",
       "      <th>Total Number of Tests Performed</th>\n",
       "      <th>Cumulative Number of Tests Performed</th>\n",
       "      <th>New Positives/Total Tests</th>\n",
       "      <th>pos_hundred_thousand</th>\n",
       "    </tr>\n",
       "    <tr>\n",
       "      <th>Test Date</th>\n",
       "      <th></th>\n",
       "      <th></th>\n",
       "      <th></th>\n",
       "      <th></th>\n",
       "      <th></th>\n",
       "      <th></th>\n",
       "    </tr>\n",
       "  </thead>\n",
       "  <tbody>\n",
       "    <tr>\n",
       "      <th>2021-01-18</th>\n",
       "      <td>103</td>\n",
       "      <td>7745</td>\n",
       "      <td>1249</td>\n",
       "      <td>231100</td>\n",
       "      <td>0.082466</td>\n",
       "      <td>58.004314</td>\n",
       "    </tr>\n",
       "    <tr>\n",
       "      <th>2021-01-19</th>\n",
       "      <td>77</td>\n",
       "      <td>7822</td>\n",
       "      <td>1123</td>\n",
       "      <td>232223</td>\n",
       "      <td>0.068566</td>\n",
       "      <td>43.362448</td>\n",
       "    </tr>\n",
       "    <tr>\n",
       "      <th>2021-01-20</th>\n",
       "      <td>79</td>\n",
       "      <td>7901</td>\n",
       "      <td>1749</td>\n",
       "      <td>233972</td>\n",
       "      <td>0.045169</td>\n",
       "      <td>44.488745</td>\n",
       "    </tr>\n",
       "    <tr>\n",
       "      <th>2021-01-21</th>\n",
       "      <td>116</td>\n",
       "      <td>8017</td>\n",
       "      <td>2411</td>\n",
       "      <td>236383</td>\n",
       "      <td>0.048113</td>\n",
       "      <td>65.325247</td>\n",
       "    </tr>\n",
       "    <tr>\n",
       "      <th>2021-01-22</th>\n",
       "      <td>112</td>\n",
       "      <td>8129</td>\n",
       "      <td>1748</td>\n",
       "      <td>238131</td>\n",
       "      <td>0.064073</td>\n",
       "      <td>63.072652</td>\n",
       "    </tr>\n",
       "    <tr>\n",
       "      <th>2021-01-23</th>\n",
       "      <td>98</td>\n",
       "      <td>8227</td>\n",
       "      <td>1708</td>\n",
       "      <td>239839</td>\n",
       "      <td>0.057377</td>\n",
       "      <td>55.188570</td>\n",
       "    </tr>\n",
       "    <tr>\n",
       "      <th>2021-01-24</th>\n",
       "      <td>74</td>\n",
       "      <td>8301</td>\n",
       "      <td>1820</td>\n",
       "      <td>241659</td>\n",
       "      <td>0.040659</td>\n",
       "      <td>41.673002</td>\n",
       "    </tr>\n",
       "    <tr>\n",
       "      <th>2021-01-25</th>\n",
       "      <td>87</td>\n",
       "      <td>8388</td>\n",
       "      <td>1151</td>\n",
       "      <td>242810</td>\n",
       "      <td>0.075586</td>\n",
       "      <td>48.993935</td>\n",
       "    </tr>\n",
       "    <tr>\n",
       "      <th>2021-01-26</th>\n",
       "      <td>54</td>\n",
       "      <td>8442</td>\n",
       "      <td>1210</td>\n",
       "      <td>244020</td>\n",
       "      <td>0.044628</td>\n",
       "      <td>30.410029</td>\n",
       "    </tr>\n",
       "    <tr>\n",
       "      <th>2021-01-27</th>\n",
       "      <td>91</td>\n",
       "      <td>8533</td>\n",
       "      <td>1871</td>\n",
       "      <td>245891</td>\n",
       "      <td>0.048637</td>\n",
       "      <td>51.246530</td>\n",
       "    </tr>\n",
       "    <tr>\n",
       "      <th>2021-01-28</th>\n",
       "      <td>82</td>\n",
       "      <td>8615</td>\n",
       "      <td>1842</td>\n",
       "      <td>247733</td>\n",
       "      <td>0.044517</td>\n",
       "      <td>46.178192</td>\n",
       "    </tr>\n",
       "    <tr>\n",
       "      <th>2021-01-29</th>\n",
       "      <td>101</td>\n",
       "      <td>8716</td>\n",
       "      <td>1916</td>\n",
       "      <td>249649</td>\n",
       "      <td>0.052714</td>\n",
       "      <td>56.878016</td>\n",
       "    </tr>\n",
       "    <tr>\n",
       "      <th>2021-01-30</th>\n",
       "      <td>62</td>\n",
       "      <td>8778</td>\n",
       "      <td>2351</td>\n",
       "      <td>252000</td>\n",
       "      <td>0.026372</td>\n",
       "      <td>34.915218</td>\n",
       "    </tr>\n",
       "    <tr>\n",
       "      <th>2021-01-31</th>\n",
       "      <td>80</td>\n",
       "      <td>8858</td>\n",
       "      <td>1386</td>\n",
       "      <td>253386</td>\n",
       "      <td>0.057720</td>\n",
       "      <td>45.051894</td>\n",
       "    </tr>\n",
       "  </tbody>\n",
       "</table>\n",
       "</div>"
      ],
      "text/plain": [
       "            New Positives  Cumulative Number of Positives  \\\n",
       "Test Date                                                   \n",
       "2021-01-18            103                            7745   \n",
       "2021-01-19             77                            7822   \n",
       "2021-01-20             79                            7901   \n",
       "2021-01-21            116                            8017   \n",
       "2021-01-22            112                            8129   \n",
       "2021-01-23             98                            8227   \n",
       "2021-01-24             74                            8301   \n",
       "2021-01-25             87                            8388   \n",
       "2021-01-26             54                            8442   \n",
       "2021-01-27             91                            8533   \n",
       "2021-01-28             82                            8615   \n",
       "2021-01-29            101                            8716   \n",
       "2021-01-30             62                            8778   \n",
       "2021-01-31             80                            8858   \n",
       "\n",
       "            Total Number of Tests Performed  \\\n",
       "Test Date                                     \n",
       "2021-01-18                             1249   \n",
       "2021-01-19                             1123   \n",
       "2021-01-20                             1749   \n",
       "2021-01-21                             2411   \n",
       "2021-01-22                             1748   \n",
       "2021-01-23                             1708   \n",
       "2021-01-24                             1820   \n",
       "2021-01-25                             1151   \n",
       "2021-01-26                             1210   \n",
       "2021-01-27                             1871   \n",
       "2021-01-28                             1842   \n",
       "2021-01-29                             1916   \n",
       "2021-01-30                             2351   \n",
       "2021-01-31                             1386   \n",
       "\n",
       "            Cumulative Number of Tests Performed  New Positives/Total Tests  \\\n",
       "Test Date                                                                     \n",
       "2021-01-18                                231100                   0.082466   \n",
       "2021-01-19                                232223                   0.068566   \n",
       "2021-01-20                                233972                   0.045169   \n",
       "2021-01-21                                236383                   0.048113   \n",
       "2021-01-22                                238131                   0.064073   \n",
       "2021-01-23                                239839                   0.057377   \n",
       "2021-01-24                                241659                   0.040659   \n",
       "2021-01-25                                242810                   0.075586   \n",
       "2021-01-26                                244020                   0.044628   \n",
       "2021-01-27                                245891                   0.048637   \n",
       "2021-01-28                                247733                   0.044517   \n",
       "2021-01-29                                249649                   0.052714   \n",
       "2021-01-30                                252000                   0.026372   \n",
       "2021-01-31                                253386                   0.057720   \n",
       "\n",
       "            pos_hundred_thousand  \n",
       "Test Date                         \n",
       "2021-01-18             58.004314  \n",
       "2021-01-19             43.362448  \n",
       "2021-01-20             44.488745  \n",
       "2021-01-21             65.325247  \n",
       "2021-01-22             63.072652  \n",
       "2021-01-23             55.188570  \n",
       "2021-01-24             41.673002  \n",
       "2021-01-25             48.993935  \n",
       "2021-01-26             30.410029  \n",
       "2021-01-27             51.246530  \n",
       "2021-01-28             46.178192  \n",
       "2021-01-29             56.878016  \n",
       "2021-01-30             34.915218  \n",
       "2021-01-31             45.051894  "
      ]
     },
     "execution_count": 9,
     "metadata": {},
     "output_type": "execute_result"
    }
   ],
   "source": [
    "ulster=df.loc['Ulster']\n",
    "ulster['New Positives/Total Tests']=ulster['New Positives']/ulster['Total Number of Tests Performed']\n",
    "ulster['pos_hundred_thousand']=(ulster['New Positives']*100000)/177573\n",
    "ulster.tail(14)"
   ]
  },
  {
   "cell_type": "code",
   "execution_count": 10,
   "metadata": {},
   "outputs": [
    {
     "data": {
      "text/plain": [
       "Test Date\n",
       "2021-01-22    0.060926\n",
       "2021-01-23    0.060133\n",
       "2021-01-24    0.058060\n",
       "2021-01-25    0.057078\n",
       "2021-01-26    0.053658\n",
       "2021-01-27    0.054153\n",
       "2021-01-28    0.053640\n",
       "2021-01-29    0.052017\n",
       "2021-01-30    0.047588\n",
       "2021-01-31    0.050025\n",
       "Name: New Positives/Total Tests, dtype: float64"
      ]
     },
     "execution_count": 10,
     "metadata": {},
     "output_type": "execute_result"
    }
   ],
   "source": [
    "ulster['New Positives/Total Tests'].rolling(7).mean().tail(10)"
   ]
  },
  {
   "cell_type": "code",
   "execution_count": 11,
   "metadata": {},
   "outputs": [
    {
     "data": {
      "image/png": "[encoded data removed]",
      "text/plain": [
       "<Figure size 432x288 with 1 Axes>"
      ]
     },
     "metadata": {
      "needs_background": "light"
     },
     "output_type": "display_data"
    }
   ],
   "source": [
    "ulster['New Positives/Total Tests'].rolling(7).mean().plot()\n",
    "plt.title('Ulster Rolling 7 Day MA Positive Rate')\n",
    "plt.xlabel('Date')\n",
    "plt.ylabel('Positive Rate')\n",
    "plt.show()"
   ]
  },
  {
   "cell_type": "code",
   "execution_count": 12,
   "metadata": {},
   "outputs": [
    {
     "data": {
      "text/plain": [
       "Test Date\n",
       "2021-01-20    57.923864\n",
       "2021-01-21    54.705871\n",
       "2021-01-22    54.786321\n",
       "2021-01-23    54.625422\n",
       "2021-01-24    53.016425\n",
       "2021-01-25    51.729228\n",
       "2021-01-26    49.878883\n",
       "2021-01-27    50.844281\n",
       "2021-01-28    48.108987\n",
       "2021-01-29    47.224039\n",
       "2021-01-30    44.327846\n",
       "2021-01-31    44.810545\n",
       "Name: pos_hundred_thousand, dtype: float64"
      ]
     },
     "execution_count": 12,
     "metadata": {},
     "output_type": "execute_result"
    }
   ],
   "source": [
    "ulster['pos_hundred_thousand'].rolling(7).mean().tail(12)"
   ]
  },
  {
   "cell_type": "code",
   "execution_count": 13,
   "metadata": {},
   "outputs": [
    {
     "data": {
      "image/png": "[encoded data removed]",
      "text/plain": [
       "<Figure size 432x288 with 1 Axes>"
      ]
     },
     "metadata": {
      "needs_background": "light"
     },
     "output_type": "display_data"
    }
   ],
   "source": [
    "ulster['pos_hundred_thousand'].rolling(7).mean().plot()\n",
    "plt.title('Ulster Rolling 7 Day MA Positive Per 100,000')\n",
    "plt.xlabel('Date')\n",
    "plt.ylabel('Positive Rate')\n",
    "plt.show()"
   ]
  },
  {
   "cell_type": "code",
   "execution_count": 14,
   "metadata": {},
   "outputs": [
    {
     "name": "stdout",
     "output_type": "stream",
     "text": [
      "LOCKDOWN IMMINENT - MAJOR CONDITIONS FOR LOCKDOWN MET - CHECK https://www.governor.ny.gov/news/governor-cuomo-details-covid-19-micro-cluster-metrics FOR SMALL COUNTY DETAILS\n"
     ]
    }
   ],
   "source": [
    "per_cap=np.sum(ulster['pos_hundred_thousand'].rolling(7).mean().tail(12).values >10)\n",
    "pos_rate=np.sum(ulster['New Positives/Total Tests'].rolling(7).mean().tail(10).values)\n",
    "if per_cap == 12 and pos_rate >= .5:\n",
    "    print('LOCKDOWN IMMINENT - MAJOR CONDITIONS FOR LOCKDOWN MET - CHECK https://www.governor.ny.gov/news/governor-cuomo-details-covid-19-micro-cluster-metrics FOR SMALL COUNTY DETAILS')\n",
    "if (per_cap>=1) and (pos_rate>=.3 and pos_rate<.5):\n",
    "    print('LOCKDOWN PENDING')   \n",
    "if (pos_rate <= .3):\n",
    "    print('LOCKDOWN UNLIKELY')"
   ]
  },
  {
   "cell_type": "markdown",
   "metadata": {},
   "source": [
    "# DUTCHESS COUNTY"
   ]
  },
  {
   "cell_type": "markdown",
   "metadata": {},
   "source": [
    "Geographic area has 7-day rolling average positivity above 5% for 10 days  \n",
    "\n",
    "AND  \n",
    "\n",
    "Geographic area has 12 or more new daily cases per 100,000 residents on 7-day average  "
   ]
  },
  {
   "cell_type": "code",
   "execution_count": 15,
   "metadata": {},
   "outputs": [
    {
     "data": {
      "text/html": [
       "<div>\n",
       "<style scoped>\n",
       "    .dataframe tbody tr th:only-of-type {\n",
       "        vertical-align: middle;\n",
       "    }\n",
       "\n",
       "    .dataframe tbody tr th {\n",
       "        vertical-align: top;\n",
       "    }\n",
       "\n",
       "    .dataframe thead th {\n",
       "        text-align: right;\n",
       "    }\n",
       "</style>\n",
       "<table border=\"1\" class=\"dataframe\">\n",
       "  <thead>\n",
       "    <tr style=\"text-align: right;\">\n",
       "      <th></th>\n",
       "      <th>New Positives</th>\n",
       "      <th>Cumulative Number of Positives</th>\n",
       "      <th>Total Number of Tests Performed</th>\n",
       "      <th>Cumulative Number of Tests Performed</th>\n",
       "      <th>New Positives/Total Tests</th>\n",
       "      <th>pos_hundred_thousand</th>\n",
       "    </tr>\n",
       "    <tr>\n",
       "      <th>Test Date</th>\n",
       "      <th></th>\n",
       "      <th></th>\n",
       "      <th></th>\n",
       "      <th></th>\n",
       "      <th></th>\n",
       "      <th></th>\n",
       "    </tr>\n",
       "  </thead>\n",
       "  <tbody>\n",
       "    <tr>\n",
       "      <th>2021-01-18</th>\n",
       "      <td>216</td>\n",
       "      <td>16757</td>\n",
       "      <td>2553</td>\n",
       "      <td>420935</td>\n",
       "      <td>0.084606</td>\n",
       "      <td>73.414951</td>\n",
       "    </tr>\n",
       "    <tr>\n",
       "      <th>2021-01-19</th>\n",
       "      <td>206</td>\n",
       "      <td>16963</td>\n",
       "      <td>2290</td>\n",
       "      <td>423225</td>\n",
       "      <td>0.089956</td>\n",
       "      <td>70.016111</td>\n",
       "    </tr>\n",
       "    <tr>\n",
       "      <th>2021-01-20</th>\n",
       "      <td>219</td>\n",
       "      <td>17182</td>\n",
       "      <td>3421</td>\n",
       "      <td>426646</td>\n",
       "      <td>0.064016</td>\n",
       "      <td>74.434603</td>\n",
       "    </tr>\n",
       "    <tr>\n",
       "      <th>2021-01-21</th>\n",
       "      <td>242</td>\n",
       "      <td>17424</td>\n",
       "      <td>3529</td>\n",
       "      <td>430175</td>\n",
       "      <td>0.068575</td>\n",
       "      <td>82.251936</td>\n",
       "    </tr>\n",
       "    <tr>\n",
       "      <th>2021-01-22</th>\n",
       "      <td>199</td>\n",
       "      <td>17623</td>\n",
       "      <td>3313</td>\n",
       "      <td>433488</td>\n",
       "      <td>0.060066</td>\n",
       "      <td>67.636922</td>\n",
       "    </tr>\n",
       "    <tr>\n",
       "      <th>2021-01-23</th>\n",
       "      <td>190</td>\n",
       "      <td>17813</td>\n",
       "      <td>3300</td>\n",
       "      <td>436788</td>\n",
       "      <td>0.057576</td>\n",
       "      <td>64.577966</td>\n",
       "    </tr>\n",
       "    <tr>\n",
       "      <th>2021-01-24</th>\n",
       "      <td>191</td>\n",
       "      <td>18004</td>\n",
       "      <td>3462</td>\n",
       "      <td>440250</td>\n",
       "      <td>0.055170</td>\n",
       "      <td>64.917850</td>\n",
       "    </tr>\n",
       "    <tr>\n",
       "      <th>2021-01-25</th>\n",
       "      <td>231</td>\n",
       "      <td>18235</td>\n",
       "      <td>2538</td>\n",
       "      <td>442788</td>\n",
       "      <td>0.091017</td>\n",
       "      <td>78.513211</td>\n",
       "    </tr>\n",
       "    <tr>\n",
       "      <th>2021-01-26</th>\n",
       "      <td>142</td>\n",
       "      <td>18377</td>\n",
       "      <td>2451</td>\n",
       "      <td>445239</td>\n",
       "      <td>0.057936</td>\n",
       "      <td>48.263532</td>\n",
       "    </tr>\n",
       "    <tr>\n",
       "      <th>2021-01-27</th>\n",
       "      <td>176</td>\n",
       "      <td>18553</td>\n",
       "      <td>3217</td>\n",
       "      <td>448456</td>\n",
       "      <td>0.054709</td>\n",
       "      <td>59.819590</td>\n",
       "    </tr>\n",
       "    <tr>\n",
       "      <th>2021-01-28</th>\n",
       "      <td>196</td>\n",
       "      <td>18749</td>\n",
       "      <td>3098</td>\n",
       "      <td>451554</td>\n",
       "      <td>0.063267</td>\n",
       "      <td>66.617270</td>\n",
       "    </tr>\n",
       "    <tr>\n",
       "      <th>2021-01-29</th>\n",
       "      <td>219</td>\n",
       "      <td>18968</td>\n",
       "      <td>3774</td>\n",
       "      <td>455328</td>\n",
       "      <td>0.058029</td>\n",
       "      <td>74.434603</td>\n",
       "    </tr>\n",
       "    <tr>\n",
       "      <th>2021-01-30</th>\n",
       "      <td>155</td>\n",
       "      <td>19123</td>\n",
       "      <td>2823</td>\n",
       "      <td>458151</td>\n",
       "      <td>0.054906</td>\n",
       "      <td>52.682025</td>\n",
       "    </tr>\n",
       "    <tr>\n",
       "      <th>2021-01-31</th>\n",
       "      <td>173</td>\n",
       "      <td>19296</td>\n",
       "      <td>3040</td>\n",
       "      <td>461191</td>\n",
       "      <td>0.056908</td>\n",
       "      <td>58.799937</td>\n",
       "    </tr>\n",
       "  </tbody>\n",
       "</table>\n",
       "</div>"
      ],
      "text/plain": [
       "            New Positives  Cumulative Number of Positives  \\\n",
       "Test Date                                                   \n",
       "2021-01-18            216                           16757   \n",
       "2021-01-19            206                           16963   \n",
       "2021-01-20            219                           17182   \n",
       "2021-01-21            242                           17424   \n",
       "2021-01-22            199                           17623   \n",
       "2021-01-23            190                           17813   \n",
       "2021-01-24            191                           18004   \n",
       "2021-01-25            231                           18235   \n",
       "2021-01-26            142                           18377   \n",
       "2021-01-27            176                           18553   \n",
       "2021-01-28            196                           18749   \n",
       "2021-01-29            219                           18968   \n",
       "2021-01-30            155                           19123   \n",
       "2021-01-31            173                           19296   \n",
       "\n",
       "            Total Number of Tests Performed  \\\n",
       "Test Date                                     \n",
       "2021-01-18                             2553   \n",
       "2021-01-19                             2290   \n",
       "2021-01-20                             3421   \n",
       "2021-01-21                             3529   \n",
       "2021-01-22                             3313   \n",
       "2021-01-23                             3300   \n",
       "2021-01-24                             3462   \n",
       "2021-01-25                             2538   \n",
       "2021-01-26                             2451   \n",
       "2021-01-27                             3217   \n",
       "2021-01-28                             3098   \n",
       "2021-01-29                             3774   \n",
       "2021-01-30                             2823   \n",
       "2021-01-31                             3040   \n",
       "\n",
       "            Cumulative Number of Tests Performed  New Positives/Total Tests  \\\n",
       "Test Date                                                                     \n",
       "2021-01-18                                420935                   0.084606   \n",
       "2021-01-19                                423225                   0.089956   \n",
       "2021-01-20                                426646                   0.064016   \n",
       "2021-01-21                                430175                   0.068575   \n",
       "2021-01-22                                433488                   0.060066   \n",
       "2021-01-23                                436788                   0.057576   \n",
       "2021-01-24                                440250                   0.055170   \n",
       "2021-01-25                                442788                   0.091017   \n",
       "2021-01-26                                445239                   0.057936   \n",
       "2021-01-27                                448456                   0.054709   \n",
       "2021-01-28                                451554                   0.063267   \n",
       "2021-01-29                                455328                   0.058029   \n",
       "2021-01-30                                458151                   0.054906   \n",
       "2021-01-31                                461191                   0.056908   \n",
       "\n",
       "            pos_hundred_thousand  \n",
       "Test Date                         \n",
       "2021-01-18             73.414951  \n",
       "2021-01-19             70.016111  \n",
       "2021-01-20             74.434603  \n",
       "2021-01-21             82.251936  \n",
       "2021-01-22             67.636922  \n",
       "2021-01-23             64.577966  \n",
       "2021-01-24             64.917850  \n",
       "2021-01-25             78.513211  \n",
       "2021-01-26             48.263532  \n",
       "2021-01-27             59.819590  \n",
       "2021-01-28             66.617270  \n",
       "2021-01-29             74.434603  \n",
       "2021-01-30             52.682025  \n",
       "2021-01-31             58.799937  "
      ]
     },
     "execution_count": 15,
     "metadata": {},
     "output_type": "execute_result"
    }
   ],
   "source": [
    "dutchess=df.loc['Dutchess']\n",
    "dutchess['New Positives/Total Tests']=dutchess['New Positives']/dutchess['Total Number of Tests Performed']\n",
    "dutchess['pos_hundred_thousand']=(dutchess['New Positives']*100000)/294218\n",
    "dutchess.tail(14)"
   ]
  },
  {
   "cell_type": "code",
   "execution_count": 16,
   "metadata": {},
   "outputs": [
    {
     "data": {
      "text/plain": [
       "Test Date\n",
       "2021-01-22    0.071536\n",
       "2021-01-23    0.071108\n",
       "2021-01-24    0.068567\n",
       "2021-01-25    0.069482\n",
       "2021-01-26    0.064908\n",
       "2021-01-27    0.063578\n",
       "2021-01-28    0.062820\n",
       "2021-01-29    0.062529\n",
       "2021-01-30    0.062148\n",
       "2021-01-31    0.062396\n",
       "Name: New Positives/Total Tests, dtype: float64"
      ]
     },
     "execution_count": 16,
     "metadata": {},
     "output_type": "execute_result"
    }
   ],
   "source": [
    "dutchess['New Positives/Total Tests'].rolling(7).mean().tail(10)"
   ]
  },
  {
   "cell_type": "code",
   "execution_count": 17,
   "metadata": {},
   "outputs": [
    {
     "data": {
      "image/png": "[encoded data removed]",
      "text/plain": [
       "<Figure size 432x288 with 1 Axes>"
      ]
     },
     "metadata": {
      "needs_background": "light"
     },
     "output_type": "display_data"
    }
   ],
   "source": [
    "dutchess['New Positives/Total Tests'].rolling(7).mean().plot()\n",
    "plt.title('Dutchess Rolling 7 Day MA Positive Rate')\n",
    "plt.xlabel('Date')\n",
    "plt.ylabel('Positive Rate')\n",
    "plt.show()"
   ]
  },
  {
   "cell_type": "code",
   "execution_count": 18,
   "metadata": {},
   "outputs": [
    {
     "data": {
      "text/plain": [
       "Test Date\n",
       "2021-01-22    73.220731\n",
       "2021-01-23    72.152524\n",
       "2021-01-24    71.035763\n",
       "2021-01-25    71.764086\n",
       "2021-01-26    68.656574\n",
       "2021-01-27    66.568715\n",
       "2021-01-28    64.335192\n",
       "2021-01-29    65.306289\n",
       "2021-01-30    63.606869\n",
       "2021-01-31    62.732881\n",
       "Name: pos_hundred_thousand, dtype: float64"
      ]
     },
     "execution_count": 18,
     "metadata": {},
     "output_type": "execute_result"
    }
   ],
   "source": [
    "dutchess['pos_hundred_thousand'].rolling(7).mean().tail(10)"
   ]
  },
  {
   "cell_type": "code",
   "execution_count": 19,
   "metadata": {},
   "outputs": [
    {
     "data": {
      "image/png": "[encoded data removed]",
      "text/plain": [
       "<Figure size 432x288 with 1 Axes>"
      ]
     },
     "metadata": {
      "needs_background": "light"
     },
     "output_type": "display_data"
    }
   ],
   "source": [
    "dutchess['pos_hundred_thousand'].rolling(7).mean().plot()\n",
    "plt.title('Dutchess Rolling 7 Day MA Positive Per 100,000')\n",
    "plt.xlabel('Date')\n",
    "plt.ylabel('Positive Rate')\n",
    "plt.show()"
   ]
  },
  {
   "cell_type": "code",
   "execution_count": 20,
   "metadata": {},
   "outputs": [
    {
     "name": "stdout",
     "output_type": "stream",
     "text": [
      "LOCKDOWN IMMINENT - MAJOR CONDITIONS FOR LOCKDOWN MET - CHECK https://www.governor.ny.gov/news/governor-cuomo-details-covid-19-micro-cluster-metrics FOR SMALL COUNTY DETAILS\n"
     ]
    }
   ],
   "source": [
    "per_cap=np.sum(dutchess['pos_hundred_thousand'].rolling(7).mean().tail(12).values >10)\n",
    "pos_rate=np.sum(dutchess['New Positives/Total Tests'].rolling(7).mean().tail(10).values)\n",
    "if per_cap == 12 and pos_rate >= .5:\n",
    "    print('LOCKDOWN IMMINENT - MAJOR CONDITIONS FOR LOCKDOWN MET - CHECK https://www.governor.ny.gov/news/governor-cuomo-details-covid-19-micro-cluster-metrics FOR SMALL COUNTY DETAILS')\n",
    "if (per_cap>=1) and (pos_rate>=.3 and pos_rate<.5):\n",
    "    print('LOCKDOWN PENDING')   \n",
    "if (pos_rate <= .3):\n",
    "    print('LOCKDOWN UNLIKELY')"
   ]
  },
  {
   "cell_type": "markdown",
   "metadata": {},
   "source": [
    "# MONROE COUNTY"
   ]
  },
  {
   "cell_type": "markdown",
   "metadata": {},
   "source": [
    "Geographic area has 7-day rolling average positivity above 4% for 10 days  \n",
    "\n",
    "AND  \n",
    "\n",
    "Geographic area has 10 or more new daily cases per 100,000 residents on 7-day average"
   ]
  },
  {
   "cell_type": "code",
   "execution_count": 21,
   "metadata": {},
   "outputs": [
    {
     "data": {
      "text/html": [
       "<div>\n",
       "<style scoped>\n",
       "    .dataframe tbody tr th:only-of-type {\n",
       "        vertical-align: middle;\n",
       "    }\n",
       "\n",
       "    .dataframe tbody tr th {\n",
       "        vertical-align: top;\n",
       "    }\n",
       "\n",
       "    .dataframe thead th {\n",
       "        text-align: right;\n",
       "    }\n",
       "</style>\n",
       "<table border=\"1\" class=\"dataframe\">\n",
       "  <thead>\n",
       "    <tr style=\"text-align: right;\">\n",
       "      <th></th>\n",
       "      <th>New Positives</th>\n",
       "      <th>Cumulative Number of Positives</th>\n",
       "      <th>Total Number of Tests Performed</th>\n",
       "      <th>Cumulative Number of Tests Performed</th>\n",
       "      <th>New Positives/Total Tests</th>\n",
       "      <th>pos_hundred_thousand</th>\n",
       "    </tr>\n",
       "    <tr>\n",
       "      <th>Test Date</th>\n",
       "      <th></th>\n",
       "      <th></th>\n",
       "      <th></th>\n",
       "      <th></th>\n",
       "      <th></th>\n",
       "      <th></th>\n",
       "    </tr>\n",
       "  </thead>\n",
       "  <tbody>\n",
       "    <tr>\n",
       "      <th>2021-01-18</th>\n",
       "      <td>311</td>\n",
       "      <td>44318</td>\n",
       "      <td>5222</td>\n",
       "      <td>1064146</td>\n",
       "      <td>0.059556</td>\n",
       "      <td>41.926743</td>\n",
       "    </tr>\n",
       "    <tr>\n",
       "      <th>2021-01-19</th>\n",
       "      <td>313</td>\n",
       "      <td>44631</td>\n",
       "      <td>4525</td>\n",
       "      <td>1068671</td>\n",
       "      <td>0.069171</td>\n",
       "      <td>42.196368</td>\n",
       "    </tr>\n",
       "    <tr>\n",
       "      <th>2021-01-20</th>\n",
       "      <td>371</td>\n",
       "      <td>45002</td>\n",
       "      <td>7006</td>\n",
       "      <td>1075677</td>\n",
       "      <td>0.052955</td>\n",
       "      <td>50.015503</td>\n",
       "    </tr>\n",
       "    <tr>\n",
       "      <th>2021-01-21</th>\n",
       "      <td>398</td>\n",
       "      <td>45400</td>\n",
       "      <td>8569</td>\n",
       "      <td>1084246</td>\n",
       "      <td>0.046446</td>\n",
       "      <td>53.655446</td>\n",
       "    </tr>\n",
       "    <tr>\n",
       "      <th>2021-01-22</th>\n",
       "      <td>306</td>\n",
       "      <td>45706</td>\n",
       "      <td>7535</td>\n",
       "      <td>1091781</td>\n",
       "      <td>0.040610</td>\n",
       "      <td>41.252679</td>\n",
       "    </tr>\n",
       "    <tr>\n",
       "      <th>2021-01-23</th>\n",
       "      <td>358</td>\n",
       "      <td>46064</td>\n",
       "      <td>7447</td>\n",
       "      <td>1099228</td>\n",
       "      <td>0.048073</td>\n",
       "      <td>48.262939</td>\n",
       "    </tr>\n",
       "    <tr>\n",
       "      <th>2021-01-24</th>\n",
       "      <td>201</td>\n",
       "      <td>46265</td>\n",
       "      <td>5325</td>\n",
       "      <td>1104553</td>\n",
       "      <td>0.037746</td>\n",
       "      <td>27.097348</td>\n",
       "    </tr>\n",
       "    <tr>\n",
       "      <th>2021-01-25</th>\n",
       "      <td>211</td>\n",
       "      <td>46476</td>\n",
       "      <td>5678</td>\n",
       "      <td>1110231</td>\n",
       "      <td>0.037161</td>\n",
       "      <td>28.445475</td>\n",
       "    </tr>\n",
       "    <tr>\n",
       "      <th>2021-01-26</th>\n",
       "      <td>365</td>\n",
       "      <td>46841</td>\n",
       "      <td>6590</td>\n",
       "      <td>1116821</td>\n",
       "      <td>0.055387</td>\n",
       "      <td>49.206627</td>\n",
       "    </tr>\n",
       "    <tr>\n",
       "      <th>2021-01-27</th>\n",
       "      <td>354</td>\n",
       "      <td>47195</td>\n",
       "      <td>8157</td>\n",
       "      <td>1124978</td>\n",
       "      <td>0.043398</td>\n",
       "      <td>47.723688</td>\n",
       "    </tr>\n",
       "    <tr>\n",
       "      <th>2021-01-28</th>\n",
       "      <td>269</td>\n",
       "      <td>47464</td>\n",
       "      <td>10410</td>\n",
       "      <td>1135388</td>\n",
       "      <td>0.025841</td>\n",
       "      <td>36.264610</td>\n",
       "    </tr>\n",
       "    <tr>\n",
       "      <th>2021-01-29</th>\n",
       "      <td>257</td>\n",
       "      <td>47721</td>\n",
       "      <td>9457</td>\n",
       "      <td>1144845</td>\n",
       "      <td>0.027176</td>\n",
       "      <td>34.646858</td>\n",
       "    </tr>\n",
       "    <tr>\n",
       "      <th>2021-01-30</th>\n",
       "      <td>275</td>\n",
       "      <td>47996</td>\n",
       "      <td>7457</td>\n",
       "      <td>1152302</td>\n",
       "      <td>0.036878</td>\n",
       "      <td>37.073486</td>\n",
       "    </tr>\n",
       "    <tr>\n",
       "      <th>2021-01-31</th>\n",
       "      <td>167</td>\n",
       "      <td>48163</td>\n",
       "      <td>5229</td>\n",
       "      <td>1157531</td>\n",
       "      <td>0.031937</td>\n",
       "      <td>22.513717</td>\n",
       "    </tr>\n",
       "  </tbody>\n",
       "</table>\n",
       "</div>"
      ],
      "text/plain": [
       "            New Positives  Cumulative Number of Positives  \\\n",
       "Test Date                                                   \n",
       "2021-01-18            311                           44318   \n",
       "2021-01-19            313                           44631   \n",
       "2021-01-20            371                           45002   \n",
       "2021-01-21            398                           45400   \n",
       "2021-01-22            306                           45706   \n",
       "2021-01-23            358                           46064   \n",
       "2021-01-24            201                           46265   \n",
       "2021-01-25            211                           46476   \n",
       "2021-01-26            365                           46841   \n",
       "2021-01-27            354                           47195   \n",
       "2021-01-28            269                           47464   \n",
       "2021-01-29            257                           47721   \n",
       "2021-01-30            275                           47996   \n",
       "2021-01-31            167                           48163   \n",
       "\n",
       "            Total Number of Tests Performed  \\\n",
       "Test Date                                     \n",
       "2021-01-18                             5222   \n",
       "2021-01-19                             4525   \n",
       "2021-01-20                             7006   \n",
       "2021-01-21                             8569   \n",
       "2021-01-22                             7535   \n",
       "2021-01-23                             7447   \n",
       "2021-01-24                             5325   \n",
       "2021-01-25                             5678   \n",
       "2021-01-26                             6590   \n",
       "2021-01-27                             8157   \n",
       "2021-01-28                            10410   \n",
       "2021-01-29                             9457   \n",
       "2021-01-30                             7457   \n",
       "2021-01-31                             5229   \n",
       "\n",
       "            Cumulative Number of Tests Performed  New Positives/Total Tests  \\\n",
       "Test Date                                                                     \n",
       "2021-01-18                               1064146                   0.059556   \n",
       "2021-01-19                               1068671                   0.069171   \n",
       "2021-01-20                               1075677                   0.052955   \n",
       "2021-01-21                               1084246                   0.046446   \n",
       "2021-01-22                               1091781                   0.040610   \n",
       "2021-01-23                               1099228                   0.048073   \n",
       "2021-01-24                               1104553                   0.037746   \n",
       "2021-01-25                               1110231                   0.037161   \n",
       "2021-01-26                               1116821                   0.055387   \n",
       "2021-01-27                               1124978                   0.043398   \n",
       "2021-01-28                               1135388                   0.025841   \n",
       "2021-01-29                               1144845                   0.027176   \n",
       "2021-01-30                               1152302                   0.036878   \n",
       "2021-01-31                               1157531                   0.031937   \n",
       "\n",
       "            pos_hundred_thousand  \n",
       "Test Date                         \n",
       "2021-01-18             41.926743  \n",
       "2021-01-19             42.196368  \n",
       "2021-01-20             50.015503  \n",
       "2021-01-21             53.655446  \n",
       "2021-01-22             41.252679  \n",
       "2021-01-23             48.262939  \n",
       "2021-01-24             27.097348  \n",
       "2021-01-25             28.445475  \n",
       "2021-01-26             49.206627  \n",
       "2021-01-27             47.723688  \n",
       "2021-01-28             36.264610  \n",
       "2021-01-29             34.646858  \n",
       "2021-01-30             37.073486  \n",
       "2021-01-31             22.513717  "
      ]
     },
     "execution_count": 21,
     "metadata": {},
     "output_type": "execute_result"
    }
   ],
   "source": [
    "monroe=df.loc['Monroe']\n",
    "monroe['New Positives/Total Tests']=monroe['New Positives']/monroe['Total Number of Tests Performed']\n",
    "monroe['pos_hundred_thousand']=(monroe['New Positives']*100000)/741770\n",
    "monroe.tail(14)"
   ]
  },
  {
   "cell_type": "code",
   "execution_count": 22,
   "metadata": {},
   "outputs": [
    {
     "data": {
      "text/plain": [
       "Test Date\n",
       "2021-01-18    0.065244\n",
       "2021-01-19    0.063465\n",
       "2021-01-20    0.061237\n",
       "2021-01-21    0.058923\n",
       "2021-01-22    0.057180\n",
       "2021-01-23    0.054801\n",
       "2021-01-24    0.050651\n",
       "2021-01-25    0.047452\n",
       "2021-01-26    0.045483\n",
       "2021-01-27    0.044118\n",
       "2021-01-28    0.041174\n",
       "2021-01-29    0.039255\n",
       "2021-01-30    0.037655\n",
       "2021-01-31    0.036825\n",
       "Name: New Positives/Total Tests, dtype: float64"
      ]
     },
     "execution_count": 22,
     "metadata": {},
     "output_type": "execute_result"
    }
   ],
   "source": [
    "monroe['New Positives/Total Tests'].rolling(7).mean().tail(14)"
   ]
  },
  {
   "cell_type": "code",
   "execution_count": 23,
   "metadata": {},
   "outputs": [
    {
     "data": {
      "image/png": "[encoded data removed]",
      "text/plain": [
       "<Figure size 432x288 with 1 Axes>"
      ]
     },
     "metadata": {
      "needs_background": "light"
     },
     "output_type": "display_data"
    }
   ],
   "source": [
    "monroe['New Positives/Total Tests'].rolling(7).mean().plot()\n",
    "plt.title('Monroe Rolling 7 Day MA Positive Rate')\n",
    "plt.xlabel('Date')\n",
    "plt.ylabel('Positive Rate')\n",
    "plt.show()"
   ]
  },
  {
   "cell_type": "code",
   "execution_count": 24,
   "metadata": {},
   "outputs": [
    {
     "data": {
      "text/plain": [
       "Test Date\n",
       "2021-01-22    47.762206\n",
       "2021-01-23    46.317784\n",
       "2021-01-24    43.486718\n",
       "2021-01-25    41.560823\n",
       "2021-01-26    42.562288\n",
       "2021-01-27    42.234886\n",
       "2021-01-28    39.750481\n",
       "2021-01-29    38.806792\n",
       "2021-01-30    37.208299\n",
       "2021-01-31    36.553495\n",
       "Name: pos_hundred_thousand, dtype: float64"
      ]
     },
     "execution_count": 24,
     "metadata": {},
     "output_type": "execute_result"
    }
   ],
   "source": [
    "monroe['pos_hundred_thousand'].rolling(7).mean().tail(10)"
   ]
  },
  {
   "cell_type": "code",
   "execution_count": 25,
   "metadata": {},
   "outputs": [
    {
     "data": {
      "image/png": "[encoded data removed]",
      "text/plain": [
       "<Figure size 432x288 with 1 Axes>"
      ]
     },
     "metadata": {
      "needs_background": "light"
     },
     "output_type": "display_data"
    }
   ],
   "source": [
    "monroe['pos_hundred_thousand'].rolling(7).mean().plot()\n",
    "plt.title('Monroe Rolling 7 Day MA Positive Per 100,000')\n",
    "plt.xlabel('Date')\n",
    "plt.ylabel('Positive Rate')\n",
    "plt.show()"
   ]
  },
  {
   "cell_type": "code",
   "execution_count": 26,
   "metadata": {},
   "outputs": [
    {
     "name": "stdout",
     "output_type": "stream",
     "text": [
      "LOCKDOWN IMMINENT\n"
     ]
    }
   ],
   "source": [
    "per_cap=np.sum(monroe['pos_hundred_thousand'].rolling(7).mean().tail(10).values >10)\n",
    "pos_rate=np.sum(monroe['New Positives/Total Tests'].rolling(7).mean().tail(10).values)\n",
    "if per_cap == 10 and pos_rate >= .4:\n",
    "    print('LOCKDOWN IMMINENT')\n",
    "if (per_cap>=1) and (pos_rate>=.2 and pos_rate<.4):\n",
    "    print('LOCKDOWN PENDING')   \n",
    "if (pos_rate <= .2):\n",
    "    print('LOCKDOWN UNLIKELY')"
   ]
  },
  {
   "cell_type": "markdown",
   "metadata": {},
   "source": [
    "# Manhattan "
   ]
  },
  {
   "cell_type": "markdown",
   "metadata": {},
   "source": [
    "Geographic area has 7-day rolling average positivity above 4% for 10 days  \n",
    "\n",
    "AND  \n",
    "\n",
    "Geographic area has 10 or more new daily cases per 100,000 residents on 7-day average"
   ]
  },
  {
   "cell_type": "code",
   "execution_count": 27,
   "metadata": {},
   "outputs": [
    {
     "data": {
      "text/html": [
       "<div>\n",
       "<style scoped>\n",
       "    .dataframe tbody tr th:only-of-type {\n",
       "        vertical-align: middle;\n",
       "    }\n",
       "\n",
       "    .dataframe tbody tr th {\n",
       "        vertical-align: top;\n",
       "    }\n",
       "\n",
       "    .dataframe thead th {\n",
       "        text-align: right;\n",
       "    }\n",
       "</style>\n",
       "<table border=\"1\" class=\"dataframe\">\n",
       "  <thead>\n",
       "    <tr style=\"text-align: right;\">\n",
       "      <th></th>\n",
       "      <th>New Positives</th>\n",
       "      <th>Cumulative Number of Positives</th>\n",
       "      <th>Total Number of Tests Performed</th>\n",
       "      <th>Cumulative Number of Tests Performed</th>\n",
       "      <th>New Positives/Total Tests</th>\n",
       "      <th>pos_hundred_thousand</th>\n",
       "    </tr>\n",
       "    <tr>\n",
       "      <th>Test Date</th>\n",
       "      <th></th>\n",
       "      <th></th>\n",
       "      <th></th>\n",
       "      <th></th>\n",
       "      <th></th>\n",
       "      <th></th>\n",
       "    </tr>\n",
       "  </thead>\n",
       "  <tbody>\n",
       "    <tr>\n",
       "      <th>2021-01-18</th>\n",
       "      <td>688</td>\n",
       "      <td>77441</td>\n",
       "      <td>16539</td>\n",
       "      <td>3021173</td>\n",
       "      <td>0.041599</td>\n",
       "      <td>42.242124</td>\n",
       "    </tr>\n",
       "    <tr>\n",
       "      <th>2021-01-19</th>\n",
       "      <td>722</td>\n",
       "      <td>78163</td>\n",
       "      <td>14336</td>\n",
       "      <td>3035509</td>\n",
       "      <td>0.050363</td>\n",
       "      <td>44.329670</td>\n",
       "    </tr>\n",
       "    <tr>\n",
       "      <th>2021-01-20</th>\n",
       "      <td>717</td>\n",
       "      <td>78880</td>\n",
       "      <td>18234</td>\n",
       "      <td>3053743</td>\n",
       "      <td>0.039322</td>\n",
       "      <td>44.022678</td>\n",
       "    </tr>\n",
       "    <tr>\n",
       "      <th>2021-01-21</th>\n",
       "      <td>932</td>\n",
       "      <td>79812</td>\n",
       "      <td>28980</td>\n",
       "      <td>3082723</td>\n",
       "      <td>0.032160</td>\n",
       "      <td>57.223342</td>\n",
       "    </tr>\n",
       "    <tr>\n",
       "      <th>2021-01-22</th>\n",
       "      <td>856</td>\n",
       "      <td>80668</td>\n",
       "      <td>28276</td>\n",
       "      <td>3110999</td>\n",
       "      <td>0.030273</td>\n",
       "      <td>52.557061</td>\n",
       "    </tr>\n",
       "    <tr>\n",
       "      <th>2021-01-23</th>\n",
       "      <td>814</td>\n",
       "      <td>81482</td>\n",
       "      <td>28900</td>\n",
       "      <td>3139899</td>\n",
       "      <td>0.028166</td>\n",
       "      <td>49.978326</td>\n",
       "    </tr>\n",
       "    <tr>\n",
       "      <th>2021-01-24</th>\n",
       "      <td>916</td>\n",
       "      <td>82398</td>\n",
       "      <td>24684</td>\n",
       "      <td>3164583</td>\n",
       "      <td>0.037109</td>\n",
       "      <td>56.240967</td>\n",
       "    </tr>\n",
       "    <tr>\n",
       "      <th>2021-01-25</th>\n",
       "      <td>850</td>\n",
       "      <td>83248</td>\n",
       "      <td>18151</td>\n",
       "      <td>3182734</td>\n",
       "      <td>0.046829</td>\n",
       "      <td>52.188670</td>\n",
       "    </tr>\n",
       "    <tr>\n",
       "      <th>2021-01-26</th>\n",
       "      <td>686</td>\n",
       "      <td>83934</td>\n",
       "      <td>20554</td>\n",
       "      <td>3203288</td>\n",
       "      <td>0.033375</td>\n",
       "      <td>42.119327</td>\n",
       "    </tr>\n",
       "    <tr>\n",
       "      <th>2021-01-27</th>\n",
       "      <td>923</td>\n",
       "      <td>84857</td>\n",
       "      <td>26040</td>\n",
       "      <td>3229328</td>\n",
       "      <td>0.035445</td>\n",
       "      <td>56.670756</td>\n",
       "    </tr>\n",
       "    <tr>\n",
       "      <th>2021-01-28</th>\n",
       "      <td>883</td>\n",
       "      <td>85740</td>\n",
       "      <td>29001</td>\n",
       "      <td>3258329</td>\n",
       "      <td>0.030447</td>\n",
       "      <td>54.214818</td>\n",
       "    </tr>\n",
       "    <tr>\n",
       "      <th>2021-01-29</th>\n",
       "      <td>903</td>\n",
       "      <td>86643</td>\n",
       "      <td>30440</td>\n",
       "      <td>3288769</td>\n",
       "      <td>0.029665</td>\n",
       "      <td>55.442787</td>\n",
       "    </tr>\n",
       "    <tr>\n",
       "      <th>2021-01-30</th>\n",
       "      <td>776</td>\n",
       "      <td>87419</td>\n",
       "      <td>24445</td>\n",
       "      <td>3313214</td>\n",
       "      <td>0.031745</td>\n",
       "      <td>47.645186</td>\n",
       "    </tr>\n",
       "    <tr>\n",
       "      <th>2021-01-31</th>\n",
       "      <td>632</td>\n",
       "      <td>88051</td>\n",
       "      <td>19838</td>\n",
       "      <td>3333052</td>\n",
       "      <td>0.031858</td>\n",
       "      <td>38.803811</td>\n",
       "    </tr>\n",
       "  </tbody>\n",
       "</table>\n",
       "</div>"
      ],
      "text/plain": [
       "            New Positives  Cumulative Number of Positives  \\\n",
       "Test Date                                                   \n",
       "2021-01-18            688                           77441   \n",
       "2021-01-19            722                           78163   \n",
       "2021-01-20            717                           78880   \n",
       "2021-01-21            932                           79812   \n",
       "2021-01-22            856                           80668   \n",
       "2021-01-23            814                           81482   \n",
       "2021-01-24            916                           82398   \n",
       "2021-01-25            850                           83248   \n",
       "2021-01-26            686                           83934   \n",
       "2021-01-27            923                           84857   \n",
       "2021-01-28            883                           85740   \n",
       "2021-01-29            903                           86643   \n",
       "2021-01-30            776                           87419   \n",
       "2021-01-31            632                           88051   \n",
       "\n",
       "            Total Number of Tests Performed  \\\n",
       "Test Date                                     \n",
       "2021-01-18                            16539   \n",
       "2021-01-19                            14336   \n",
       "2021-01-20                            18234   \n",
       "2021-01-21                            28980   \n",
       "2021-01-22                            28276   \n",
       "2021-01-23                            28900   \n",
       "2021-01-24                            24684   \n",
       "2021-01-25                            18151   \n",
       "2021-01-26                            20554   \n",
       "2021-01-27                            26040   \n",
       "2021-01-28                            29001   \n",
       "2021-01-29                            30440   \n",
       "2021-01-30                            24445   \n",
       "2021-01-31                            19838   \n",
       "\n",
       "            Cumulative Number of Tests Performed  New Positives/Total Tests  \\\n",
       "Test Date                                                                     \n",
       "2021-01-18                               3021173                   0.041599   \n",
       "2021-01-19                               3035509                   0.050363   \n",
       "2021-01-20                               3053743                   0.039322   \n",
       "2021-01-21                               3082723                   0.032160   \n",
       "2021-01-22                               3110999                   0.030273   \n",
       "2021-01-23                               3139899                   0.028166   \n",
       "2021-01-24                               3164583                   0.037109   \n",
       "2021-01-25                               3182734                   0.046829   \n",
       "2021-01-26                               3203288                   0.033375   \n",
       "2021-01-27                               3229328                   0.035445   \n",
       "2021-01-28                               3258329                   0.030447   \n",
       "2021-01-29                               3288769                   0.029665   \n",
       "2021-01-30                               3313214                   0.031745   \n",
       "2021-01-31                               3333052                   0.031858   \n",
       "\n",
       "            pos_hundred_thousand  \n",
       "Test Date                         \n",
       "2021-01-18             42.242124  \n",
       "2021-01-19             44.329670  \n",
       "2021-01-20             44.022678  \n",
       "2021-01-21             57.223342  \n",
       "2021-01-22             52.557061  \n",
       "2021-01-23             49.978326  \n",
       "2021-01-24             56.240967  \n",
       "2021-01-25             52.188670  \n",
       "2021-01-26             42.119327  \n",
       "2021-01-27             56.670756  \n",
       "2021-01-28             54.214818  \n",
       "2021-01-29             55.442787  \n",
       "2021-01-30             47.645186  \n",
       "2021-01-31             38.803811  "
      ]
     },
     "execution_count": 27,
     "metadata": {},
     "output_type": "execute_result"
    }
   ],
   "source": [
    "manhattan=df.loc['New York']\n",
    "manhattan['New Positives/Total Tests']=manhattan['New Positives']/manhattan['Total Number of Tests Performed']\n",
    "manhattan['pos_hundred_thousand']=(manhattan['New Positives']*100000)/1628706\n",
    "manhattan.tail(14)"
   ]
  },
  {
   "cell_type": "code",
   "execution_count": 28,
   "metadata": {},
   "outputs": [
    {
     "data": {
      "text/plain": [
       "Test Date\n",
       "2021-01-22    0.037128\n",
       "2021-01-23    0.036685\n",
       "2021-01-24    0.036999\n",
       "2021-01-25    0.037746\n",
       "2021-01-26    0.035319\n",
       "2021-01-27    0.034766\n",
       "2021-01-28    0.034521\n",
       "2021-01-29    0.034434\n",
       "2021-01-30    0.034945\n",
       "2021-01-31    0.034195\n",
       "Name: New Positives/Total Tests, dtype: float64"
      ]
     },
     "execution_count": 28,
     "metadata": {},
     "output_type": "execute_result"
    }
   ],
   "source": [
    "manhattan['New Positives/Total Tests'].rolling(7).mean().tail(10)"
   ]
  },
  {
   "cell_type": "code",
   "execution_count": 29,
   "metadata": {},
   "outputs": [
    {
     "data": {
      "image/png": "[encoded data removed]",
      "text/plain": [
       "<Figure size 432x288 with 1 Axes>"
      ]
     },
     "metadata": {
      "needs_background": "light"
     },
     "output_type": "display_data"
    }
   ],
   "source": [
    "manhattan['New Positives/Total Tests'].rolling(7).mean().plot()\n",
    "plt.title('Manhattan Rolling 7 Day MA Positive Rate')\n",
    "plt.xlabel('Date')\n",
    "plt.ylabel('Positive Rate')\n",
    "plt.show()"
   ]
  },
  {
   "cell_type": "code",
   "execution_count": 30,
   "metadata": {},
   "outputs": [
    {
     "data": {
      "text/plain": [
       "Test Date\n",
       "2021-01-22    47.855695\n",
       "2021-01-23    47.364507\n",
       "2021-01-24    49.513452\n",
       "2021-01-25    50.934388\n",
       "2021-01-26    50.618624\n",
       "2021-01-27    52.425493\n",
       "2021-01-28    51.995704\n",
       "2021-01-29    52.407950\n",
       "2021-01-30    52.074644\n",
       "2021-01-31    49.583622\n",
       "Name: pos_hundred_thousand, dtype: float64"
      ]
     },
     "execution_count": 30,
     "metadata": {},
     "output_type": "execute_result"
    }
   ],
   "source": [
    "manhattan['pos_hundred_thousand'].rolling(7).mean().tail(10)"
   ]
  },
  {
   "cell_type": "code",
   "execution_count": 31,
   "metadata": {},
   "outputs": [
    {
     "data": {
      "image/png": "[encoded data removed]",
      "text/plain": [
       "<Figure size 432x288 with 1 Axes>"
      ]
     },
     "metadata": {
      "needs_background": "light"
     },
     "output_type": "display_data"
    }
   ],
   "source": [
    "manhattan['pos_hundred_thousand'].rolling(7).mean().plot()\n",
    "plt.title('Manhattan Rolling 7 Day MA Positive Per 100,000')\n",
    "plt.xlabel('Date')\n",
    "plt.ylabel('Positive Rate')\n",
    "plt.show()"
   ]
  },
  {
   "cell_type": "code",
   "execution_count": 32,
   "metadata": {},
   "outputs": [
    {
     "name": "stdout",
     "output_type": "stream",
     "text": [
      "LOCKDOWN PENDING\n"
     ]
    }
   ],
   "source": [
    "per_cap=np.sum(manhattan['pos_hundred_thousand'].rolling(7).mean().tail(10).values >10)\n",
    "pos_rate=np.sum(manhattan['New Positives/Total Tests'].rolling(7).mean().tail(10).values)\n",
    "if per_cap == 10 and pos_rate >= .4:\n",
    "    print('LOCKDOWN IMMINENT')\n",
    "if (per_cap>=1) and (pos_rate>=.2 and pos_rate<.4):\n",
    "    print('LOCKDOWN PENDING')   \n",
    "if (pos_rate <= .2):\n",
    "    print('LOCKDOWN UNLIKELY')"
   ]
  },
  {
   "cell_type": "markdown",
   "metadata": {},
   "source": [
    "# QUEENS"
   ]
  },
  {
   "cell_type": "markdown",
   "metadata": {},
   "source": [
    "Geographic area has 7-day rolling average positivity above 4% for 10 days  \n",
    "\n",
    "AND  \n",
    "\n",
    "Geographic area has 10 or more new daily cases per 100,000 residents on 7-day average"
   ]
  },
  {
   "cell_type": "code",
   "execution_count": 33,
   "metadata": {},
   "outputs": [
    {
     "data": {
      "text/html": [
       "<div>\n",
       "<style scoped>\n",
       "    .dataframe tbody tr th:only-of-type {\n",
       "        vertical-align: middle;\n",
       "    }\n",
       "\n",
       "    .dataframe tbody tr th {\n",
       "        vertical-align: top;\n",
       "    }\n",
       "\n",
       "    .dataframe thead th {\n",
       "        text-align: right;\n",
       "    }\n",
       "</style>\n",
       "<table border=\"1\" class=\"dataframe\">\n",
       "  <thead>\n",
       "    <tr style=\"text-align: right;\">\n",
       "      <th></th>\n",
       "      <th>New Positives</th>\n",
       "      <th>Cumulative Number of Positives</th>\n",
       "      <th>Total Number of Tests Performed</th>\n",
       "      <th>Cumulative Number of Tests Performed</th>\n",
       "      <th>New Positives/Total Tests</th>\n",
       "      <th>pos_hundred_thousand</th>\n",
       "    </tr>\n",
       "    <tr>\n",
       "      <th>Test Date</th>\n",
       "      <th></th>\n",
       "      <th></th>\n",
       "      <th></th>\n",
       "      <th></th>\n",
       "      <th></th>\n",
       "      <th></th>\n",
       "    </tr>\n",
       "  </thead>\n",
       "  <tbody>\n",
       "    <tr>\n",
       "      <th>2021-01-18</th>\n",
       "      <td>1669</td>\n",
       "      <td>154688</td>\n",
       "      <td>25044</td>\n",
       "      <td>3147878</td>\n",
       "      <td>0.066643</td>\n",
       "      <td>74.050805</td>\n",
       "    </tr>\n",
       "    <tr>\n",
       "      <th>2021-01-19</th>\n",
       "      <td>2722</td>\n",
       "      <td>157410</td>\n",
       "      <td>33457</td>\n",
       "      <td>3181335</td>\n",
       "      <td>0.081358</td>\n",
       "      <td>120.770696</td>\n",
       "    </tr>\n",
       "    <tr>\n",
       "      <th>2021-01-20</th>\n",
       "      <td>1455</td>\n",
       "      <td>158865</td>\n",
       "      <td>23754</td>\n",
       "      <td>3205089</td>\n",
       "      <td>0.061253</td>\n",
       "      <td>64.555975</td>\n",
       "    </tr>\n",
       "    <tr>\n",
       "      <th>2021-01-21</th>\n",
       "      <td>1798</td>\n",
       "      <td>160663</td>\n",
       "      <td>30448</td>\n",
       "      <td>3235537</td>\n",
       "      <td>0.059051</td>\n",
       "      <td>79.774325</td>\n",
       "    </tr>\n",
       "    <tr>\n",
       "      <th>2021-01-22</th>\n",
       "      <td>1792</td>\n",
       "      <td>162455</td>\n",
       "      <td>31137</td>\n",
       "      <td>3266674</td>\n",
       "      <td>0.057552</td>\n",
       "      <td>79.508115</td>\n",
       "    </tr>\n",
       "    <tr>\n",
       "      <th>2021-01-23</th>\n",
       "      <td>1764</td>\n",
       "      <td>164219</td>\n",
       "      <td>32177</td>\n",
       "      <td>3298851</td>\n",
       "      <td>0.054822</td>\n",
       "      <td>78.265800</td>\n",
       "    </tr>\n",
       "    <tr>\n",
       "      <th>2021-01-24</th>\n",
       "      <td>1591</td>\n",
       "      <td>165810</td>\n",
       "      <td>32393</td>\n",
       "      <td>3331244</td>\n",
       "      <td>0.049116</td>\n",
       "      <td>70.590073</td>\n",
       "    </tr>\n",
       "    <tr>\n",
       "      <th>2021-01-25</th>\n",
       "      <td>1532</td>\n",
       "      <td>167342</td>\n",
       "      <td>20091</td>\n",
       "      <td>3351335</td>\n",
       "      <td>0.076253</td>\n",
       "      <td>67.972339</td>\n",
       "    </tr>\n",
       "    <tr>\n",
       "      <th>2021-01-26</th>\n",
       "      <td>1442</td>\n",
       "      <td>168784</td>\n",
       "      <td>23996</td>\n",
       "      <td>3375331</td>\n",
       "      <td>0.060093</td>\n",
       "      <td>63.979186</td>\n",
       "    </tr>\n",
       "    <tr>\n",
       "      <th>2021-01-27</th>\n",
       "      <td>1770</td>\n",
       "      <td>170554</td>\n",
       "      <td>30534</td>\n",
       "      <td>3405865</td>\n",
       "      <td>0.057968</td>\n",
       "      <td>78.532010</td>\n",
       "    </tr>\n",
       "    <tr>\n",
       "      <th>2021-01-28</th>\n",
       "      <td>1632</td>\n",
       "      <td>172186</td>\n",
       "      <td>30558</td>\n",
       "      <td>3436423</td>\n",
       "      <td>0.053407</td>\n",
       "      <td>72.409176</td>\n",
       "    </tr>\n",
       "    <tr>\n",
       "      <th>2021-01-29</th>\n",
       "      <td>1810</td>\n",
       "      <td>173996</td>\n",
       "      <td>32427</td>\n",
       "      <td>3468850</td>\n",
       "      <td>0.055818</td>\n",
       "      <td>80.306745</td>\n",
       "    </tr>\n",
       "    <tr>\n",
       "      <th>2021-01-30</th>\n",
       "      <td>1390</td>\n",
       "      <td>175386</td>\n",
       "      <td>30703</td>\n",
       "      <td>3499553</td>\n",
       "      <td>0.045272</td>\n",
       "      <td>61.672031</td>\n",
       "    </tr>\n",
       "    <tr>\n",
       "      <th>2021-01-31</th>\n",
       "      <td>1198</td>\n",
       "      <td>176584</td>\n",
       "      <td>24549</td>\n",
       "      <td>3524102</td>\n",
       "      <td>0.048800</td>\n",
       "      <td>53.153304</td>\n",
       "    </tr>\n",
       "  </tbody>\n",
       "</table>\n",
       "</div>"
      ],
      "text/plain": [
       "            New Positives  Cumulative Number of Positives  \\\n",
       "Test Date                                                   \n",
       "2021-01-18           1669                          154688   \n",
       "2021-01-19           2722                          157410   \n",
       "2021-01-20           1455                          158865   \n",
       "2021-01-21           1798                          160663   \n",
       "2021-01-22           1792                          162455   \n",
       "2021-01-23           1764                          164219   \n",
       "2021-01-24           1591                          165810   \n",
       "2021-01-25           1532                          167342   \n",
       "2021-01-26           1442                          168784   \n",
       "2021-01-27           1770                          170554   \n",
       "2021-01-28           1632                          172186   \n",
       "2021-01-29           1810                          173996   \n",
       "2021-01-30           1390                          175386   \n",
       "2021-01-31           1198                          176584   \n",
       "\n",
       "            Total Number of Tests Performed  \\\n",
       "Test Date                                     \n",
       "2021-01-18                            25044   \n",
       "2021-01-19                            33457   \n",
       "2021-01-20                            23754   \n",
       "2021-01-21                            30448   \n",
       "2021-01-22                            31137   \n",
       "2021-01-23                            32177   \n",
       "2021-01-24                            32393   \n",
       "2021-01-25                            20091   \n",
       "2021-01-26                            23996   \n",
       "2021-01-27                            30534   \n",
       "2021-01-28                            30558   \n",
       "2021-01-29                            32427   \n",
       "2021-01-30                            30703   \n",
       "2021-01-31                            24549   \n",
       "\n",
       "            Cumulative Number of Tests Performed  New Positives/Total Tests  \\\n",
       "Test Date                                                                     \n",
       "2021-01-18                               3147878                   0.066643   \n",
       "2021-01-19                               3181335                   0.081358   \n",
       "2021-01-20                               3205089                   0.061253   \n",
       "2021-01-21                               3235537                   0.059051   \n",
       "2021-01-22                               3266674                   0.057552   \n",
       "2021-01-23                               3298851                   0.054822   \n",
       "2021-01-24                               3331244                   0.049116   \n",
       "2021-01-25                               3351335                   0.076253   \n",
       "2021-01-26                               3375331                   0.060093   \n",
       "2021-01-27                               3405865                   0.057968   \n",
       "2021-01-28                               3436423                   0.053407   \n",
       "2021-01-29                               3468850                   0.055818   \n",
       "2021-01-30                               3499553                   0.045272   \n",
       "2021-01-31                               3524102                   0.048800   \n",
       "\n",
       "            pos_hundred_thousand  \n",
       "Test Date                         \n",
       "2021-01-18             74.050805  \n",
       "2021-01-19            120.770696  \n",
       "2021-01-20             64.555975  \n",
       "2021-01-21             79.774325  \n",
       "2021-01-22             79.508115  \n",
       "2021-01-23             78.265800  \n",
       "2021-01-24             70.590073  \n",
       "2021-01-25             67.972339  \n",
       "2021-01-26             63.979186  \n",
       "2021-01-27             78.532010  \n",
       "2021-01-28             72.409176  \n",
       "2021-01-29             80.306745  \n",
       "2021-01-30             61.672031  \n",
       "2021-01-31             53.153304  "
      ]
     },
     "execution_count": 33,
     "metadata": {},
     "output_type": "execute_result"
    }
   ],
   "source": [
    "queens=df.loc['Queens']\n",
    "queens['New Positives/Total Tests']=queens['New Positives']/queens['Total Number of Tests Performed']\n",
    "queens['pos_hundred_thousand']=(queens['New Positives']*100000)/2253858\n",
    "queens.tail(14)"
   ]
  },
  {
   "cell_type": "code",
   "execution_count": 34,
   "metadata": {},
   "outputs": [
    {
     "data": {
      "text/plain": [
       "Test Date\n",
       "2021-01-22    0.063599\n",
       "2021-01-23    0.063395\n",
       "2021-01-24    0.061399\n",
       "2021-01-25    0.062772\n",
       "2021-01-26    0.059734\n",
       "2021-01-27    0.059265\n",
       "2021-01-28    0.058459\n",
       "2021-01-29    0.058211\n",
       "2021-01-30    0.056847\n",
       "2021-01-31    0.056802\n",
       "Name: New Positives/Total Tests, dtype: float64"
      ]
     },
     "execution_count": 34,
     "metadata": {},
     "output_type": "execute_result"
    }
   ],
   "source": [
    "queens['New Positives/Total Tests'].rolling(7).mean().tail(10)"
   ]
  },
  {
   "cell_type": "code",
   "execution_count": 35,
   "metadata": {},
   "outputs": [
    {
     "data": {
      "image/png": "[encoded data removed]",
      "text/plain": [
       "<Figure size 432x288 with 1 Axes>"
      ]
     },
     "metadata": {
      "needs_background": "light"
     },
     "output_type": "display_data"
    }
   ],
   "source": [
    "queens['New Positives/Total Tests'].rolling(7).mean().plot()\n",
    "plt.title('Queens Rolling 7 Day MA Positive Rate')\n",
    "plt.xlabel('Date')\n",
    "plt.ylabel('Positive Rate')\n",
    "plt.show()"
   ]
  },
  {
   "cell_type": "code",
   "execution_count": 36,
   "metadata": {},
   "outputs": [
    {
     "data": {
      "text/plain": [
       "Test Date\n",
       "2021-01-22    80.110257\n",
       "2021-01-23    80.617324\n",
       "2021-01-24    81.073684\n",
       "2021-01-25    80.205332\n",
       "2021-01-26    72.092259\n",
       "2021-01-27    74.088835\n",
       "2021-01-28    73.036671\n",
       "2021-01-29    73.150761\n",
       "2021-01-30    70.780223\n",
       "2021-01-31    68.289256\n",
       "Name: pos_hundred_thousand, dtype: float64"
      ]
     },
     "execution_count": 36,
     "metadata": {},
     "output_type": "execute_result"
    }
   ],
   "source": [
    "queens['pos_hundred_thousand'].rolling(7).mean().tail(10)"
   ]
  },
  {
   "cell_type": "code",
   "execution_count": 37,
   "metadata": {},
   "outputs": [
    {
     "data": {
      "image/png": "[encoded data removed]",
      "text/plain": [
       "<Figure size 432x288 with 1 Axes>"
      ]
     },
     "metadata": {
      "needs_background": "light"
     },
     "output_type": "display_data"
    }
   ],
   "source": [
    "queens['pos_hundred_thousand'].rolling(7).mean().plot()\n",
    "plt.title('Queens Rolling 7 Day MA Positive Per 100,000')\n",
    "plt.xlabel('Date')\n",
    "plt.ylabel('Positive Rate')\n",
    "plt.show()"
   ]
  },
  {
   "cell_type": "code",
   "execution_count": 38,
   "metadata": {},
   "outputs": [
    {
     "name": "stdout",
     "output_type": "stream",
     "text": [
      "LOCKDOWN IMMINENT\n"
     ]
    }
   ],
   "source": [
    "per_cap=np.sum(queens['pos_hundred_thousand'].rolling(7).mean().tail(10).values >10)\n",
    "pos_rate=np.sum(queens['New Positives/Total Tests'].rolling(7).mean().tail(10).values)\n",
    "if per_cap == 10 and pos_rate >= .4:\n",
    "    print('LOCKDOWN IMMINENT')\n",
    "if (per_cap>=1) and (pos_rate>=.2 and pos_rate<.4):\n",
    "    print('LOCKDOWN PENDING')   \n",
    "if (pos_rate <= .2):\n",
    "    print('LOCKDOWN UNLIKELY')"
   ]
  },
  {
   "cell_type": "markdown",
   "metadata": {},
   "source": [
    "# BROOKLYN"
   ]
  },
  {
   "cell_type": "markdown",
   "metadata": {},
   "source": [
    "Geographic area has 7-day rolling average positivity above 4% for 10 days  \n",
    "\n",
    "AND  \n",
    "\n",
    "Geographic area has 10 or more new daily cases per 100,000 residents on 7-day average"
   ]
  },
  {
   "cell_type": "code",
   "execution_count": 39,
   "metadata": {},
   "outputs": [
    {
     "data": {
      "text/html": [
       "<div>\n",
       "<style scoped>\n",
       "    .dataframe tbody tr th:only-of-type {\n",
       "        vertical-align: middle;\n",
       "    }\n",
       "\n",
       "    .dataframe tbody tr th {\n",
       "        vertical-align: top;\n",
       "    }\n",
       "\n",
       "    .dataframe thead th {\n",
       "        text-align: right;\n",
       "    }\n",
       "</style>\n",
       "<table border=\"1\" class=\"dataframe\">\n",
       "  <thead>\n",
       "    <tr style=\"text-align: right;\">\n",
       "      <th></th>\n",
       "      <th>New Positives</th>\n",
       "      <th>Cumulative Number of Positives</th>\n",
       "      <th>Total Number of Tests Performed</th>\n",
       "      <th>Cumulative Number of Tests Performed</th>\n",
       "      <th>New Positives/Total Tests</th>\n",
       "      <th>pos_hundred_thousand</th>\n",
       "    </tr>\n",
       "    <tr>\n",
       "      <th>Test Date</th>\n",
       "      <th></th>\n",
       "      <th></th>\n",
       "      <th></th>\n",
       "      <th></th>\n",
       "      <th></th>\n",
       "      <th></th>\n",
       "    </tr>\n",
       "  </thead>\n",
       "  <tbody>\n",
       "    <tr>\n",
       "      <th>2021-01-18</th>\n",
       "      <td>1510</td>\n",
       "      <td>151973</td>\n",
       "      <td>23319</td>\n",
       "      <td>3571871</td>\n",
       "      <td>0.064754</td>\n",
       "      <td>58.986610</td>\n",
       "    </tr>\n",
       "    <tr>\n",
       "      <th>2021-01-19</th>\n",
       "      <td>1870</td>\n",
       "      <td>153843</td>\n",
       "      <td>28694</td>\n",
       "      <td>3600565</td>\n",
       "      <td>0.065170</td>\n",
       "      <td>73.049643</td>\n",
       "    </tr>\n",
       "    <tr>\n",
       "      <th>2021-01-20</th>\n",
       "      <td>1581</td>\n",
       "      <td>155424</td>\n",
       "      <td>25534</td>\n",
       "      <td>3626099</td>\n",
       "      <td>0.061917</td>\n",
       "      <td>61.760153</td>\n",
       "    </tr>\n",
       "    <tr>\n",
       "      <th>2021-01-21</th>\n",
       "      <td>1836</td>\n",
       "      <td>157260</td>\n",
       "      <td>34873</td>\n",
       "      <td>3660972</td>\n",
       "      <td>0.052648</td>\n",
       "      <td>71.721468</td>\n",
       "    </tr>\n",
       "    <tr>\n",
       "      <th>2021-01-22</th>\n",
       "      <td>1596</td>\n",
       "      <td>158856</td>\n",
       "      <td>31588</td>\n",
       "      <td>3692560</td>\n",
       "      <td>0.050526</td>\n",
       "      <td>62.346112</td>\n",
       "    </tr>\n",
       "    <tr>\n",
       "      <th>2021-01-23</th>\n",
       "      <td>1513</td>\n",
       "      <td>160369</td>\n",
       "      <td>31974</td>\n",
       "      <td>3724534</td>\n",
       "      <td>0.047320</td>\n",
       "      <td>59.103802</td>\n",
       "    </tr>\n",
       "    <tr>\n",
       "      <th>2021-01-24</th>\n",
       "      <td>1595</td>\n",
       "      <td>161964</td>\n",
       "      <td>27854</td>\n",
       "      <td>3752388</td>\n",
       "      <td>0.057263</td>\n",
       "      <td>62.307048</td>\n",
       "    </tr>\n",
       "    <tr>\n",
       "      <th>2021-01-25</th>\n",
       "      <td>1372</td>\n",
       "      <td>163336</td>\n",
       "      <td>19888</td>\n",
       "      <td>3772276</td>\n",
       "      <td>0.068986</td>\n",
       "      <td>53.595781</td>\n",
       "    </tr>\n",
       "    <tr>\n",
       "      <th>2021-01-26</th>\n",
       "      <td>1600</td>\n",
       "      <td>164936</td>\n",
       "      <td>28205</td>\n",
       "      <td>3800481</td>\n",
       "      <td>0.056728</td>\n",
       "      <td>62.502368</td>\n",
       "    </tr>\n",
       "    <tr>\n",
       "      <th>2021-01-27</th>\n",
       "      <td>1831</td>\n",
       "      <td>166767</td>\n",
       "      <td>33526</td>\n",
       "      <td>3834007</td>\n",
       "      <td>0.054614</td>\n",
       "      <td>71.526148</td>\n",
       "    </tr>\n",
       "    <tr>\n",
       "      <th>2021-01-28</th>\n",
       "      <td>1738</td>\n",
       "      <td>168505</td>\n",
       "      <td>32535</td>\n",
       "      <td>3866542</td>\n",
       "      <td>0.053419</td>\n",
       "      <td>67.893198</td>\n",
       "    </tr>\n",
       "    <tr>\n",
       "      <th>2021-01-29</th>\n",
       "      <td>1810</td>\n",
       "      <td>170315</td>\n",
       "      <td>34295</td>\n",
       "      <td>3900837</td>\n",
       "      <td>0.052777</td>\n",
       "      <td>70.705804</td>\n",
       "    </tr>\n",
       "    <tr>\n",
       "      <th>2021-01-30</th>\n",
       "      <td>1521</td>\n",
       "      <td>171836</td>\n",
       "      <td>31525</td>\n",
       "      <td>3932362</td>\n",
       "      <td>0.048247</td>\n",
       "      <td>59.416314</td>\n",
       "    </tr>\n",
       "    <tr>\n",
       "      <th>2021-01-31</th>\n",
       "      <td>1231</td>\n",
       "      <td>173067</td>\n",
       "      <td>22449</td>\n",
       "      <td>3954811</td>\n",
       "      <td>0.054835</td>\n",
       "      <td>48.087760</td>\n",
       "    </tr>\n",
       "  </tbody>\n",
       "</table>\n",
       "</div>"
      ],
      "text/plain": [
       "            New Positives  Cumulative Number of Positives  \\\n",
       "Test Date                                                   \n",
       "2021-01-18           1510                          151973   \n",
       "2021-01-19           1870                          153843   \n",
       "2021-01-20           1581                          155424   \n",
       "2021-01-21           1836                          157260   \n",
       "2021-01-22           1596                          158856   \n",
       "2021-01-23           1513                          160369   \n",
       "2021-01-24           1595                          161964   \n",
       "2021-01-25           1372                          163336   \n",
       "2021-01-26           1600                          164936   \n",
       "2021-01-27           1831                          166767   \n",
       "2021-01-28           1738                          168505   \n",
       "2021-01-29           1810                          170315   \n",
       "2021-01-30           1521                          171836   \n",
       "2021-01-31           1231                          173067   \n",
       "\n",
       "            Total Number of Tests Performed  \\\n",
       "Test Date                                     \n",
       "2021-01-18                            23319   \n",
       "2021-01-19                            28694   \n",
       "2021-01-20                            25534   \n",
       "2021-01-21                            34873   \n",
       "2021-01-22                            31588   \n",
       "2021-01-23                            31974   \n",
       "2021-01-24                            27854   \n",
       "2021-01-25                            19888   \n",
       "2021-01-26                            28205   \n",
       "2021-01-27                            33526   \n",
       "2021-01-28                            32535   \n",
       "2021-01-29                            34295   \n",
       "2021-01-30                            31525   \n",
       "2021-01-31                            22449   \n",
       "\n",
       "            Cumulative Number of Tests Performed  New Positives/Total Tests  \\\n",
       "Test Date                                                                     \n",
       "2021-01-18                               3571871                   0.064754   \n",
       "2021-01-19                               3600565                   0.065170   \n",
       "2021-01-20                               3626099                   0.061917   \n",
       "2021-01-21                               3660972                   0.052648   \n",
       "2021-01-22                               3692560                   0.050526   \n",
       "2021-01-23                               3724534                   0.047320   \n",
       "2021-01-24                               3752388                   0.057263   \n",
       "2021-01-25                               3772276                   0.068986   \n",
       "2021-01-26                               3800481                   0.056728   \n",
       "2021-01-27                               3834007                   0.054614   \n",
       "2021-01-28                               3866542                   0.053419   \n",
       "2021-01-29                               3900837                   0.052777   \n",
       "2021-01-30                               3932362                   0.048247   \n",
       "2021-01-31                               3954811                   0.054835   \n",
       "\n",
       "            pos_hundred_thousand  \n",
       "Test Date                         \n",
       "2021-01-18             58.986610  \n",
       "2021-01-19             73.049643  \n",
       "2021-01-20             61.760153  \n",
       "2021-01-21             71.721468  \n",
       "2021-01-22             62.346112  \n",
       "2021-01-23             59.103802  \n",
       "2021-01-24             62.307048  \n",
       "2021-01-25             53.595781  \n",
       "2021-01-26             62.502368  \n",
       "2021-01-27             71.526148  \n",
       "2021-01-28             67.893198  \n",
       "2021-01-29             70.705804  \n",
       "2021-01-30             59.416314  \n",
       "2021-01-31             48.087760  "
      ]
     },
     "execution_count": 39,
     "metadata": {},
     "output_type": "execute_result"
    }
   ],
   "source": [
    "brooklyn=df.loc['Kings']\n",
    "brooklyn['New Positives/Total Tests']=brooklyn['New Positives']/brooklyn['Total Number of Tests Performed']\n",
    "brooklyn['pos_hundred_thousand']=(brooklyn['New Positives']*100000)/2559903\n",
    "brooklyn.tail(14)"
   ]
  },
  {
   "cell_type": "code",
   "execution_count": 40,
   "metadata": {},
   "outputs": [
    {
     "data": {
      "text/plain": [
       "Test Date\n",
       "2021-01-22    0.058660\n",
       "2021-01-23    0.057861\n",
       "2021-01-24    0.057085\n",
       "2021-01-25    0.057690\n",
       "2021-01-26    0.056484\n",
       "2021-01-27    0.055441\n",
       "2021-01-28    0.055551\n",
       "2021-01-29    0.055873\n",
       "2021-01-30    0.056005\n",
       "2021-01-31    0.055658\n",
       "Name: New Positives/Total Tests, dtype: float64"
      ]
     },
     "execution_count": 40,
     "metadata": {},
     "output_type": "execute_result"
    }
   ],
   "source": [
    "brooklyn['New Positives/Total Tests'].rolling(7).mean().tail(10)"
   ]
  },
  {
   "cell_type": "code",
   "execution_count": 41,
   "metadata": {},
   "outputs": [
    {
     "data": {
      "image/png": "[encoded data removed]",
      "text/plain": [
       "<Figure size 432x288 with 1 Axes>"
      ]
     },
     "metadata": {
      "needs_background": "light"
     },
     "output_type": "display_data"
    }
   ],
   "source": [
    "brooklyn['New Positives/Total Tests'].rolling(7).mean().plot()\n",
    "plt.title('Brooklyn Rolling 7 Day MA Positive Rate')\n",
    "plt.xlabel('Date')\n",
    "plt.ylabel('Positive Rate')\n",
    "plt.show()"
   ]
  },
  {
   "cell_type": "code",
   "execution_count": 42,
   "metadata": {},
   "outputs": [
    {
     "data": {
      "text/plain": [
       "Test Date\n",
       "2021-01-22    64.756918\n",
       "2021-01-23    63.891930\n",
       "2021-01-24    64.182119\n",
       "2021-01-25    63.412001\n",
       "2021-01-26    61.905247\n",
       "2021-01-27    63.300390\n",
       "2021-01-28    62.753494\n",
       "2021-01-29    63.947736\n",
       "2021-01-30    63.992380\n",
       "2021-01-31    61.961053\n",
       "Name: pos_hundred_thousand, dtype: float64"
      ]
     },
     "execution_count": 42,
     "metadata": {},
     "output_type": "execute_result"
    }
   ],
   "source": [
    "brooklyn['pos_hundred_thousand'].rolling(7).mean().tail(10)"
   ]
  },
  {
   "cell_type": "code",
   "execution_count": 43,
   "metadata": {},
   "outputs": [
    {
     "data": {
      "image/png": "[encoded data removed]",
      "text/plain": [
       "<Figure size 432x288 with 1 Axes>"
      ]
     },
     "metadata": {
      "needs_background": "light"
     },
     "output_type": "display_data"
    }
   ],
   "source": [
    "brooklyn['pos_hundred_thousand'].rolling(7).mean().plot()\n",
    "plt.title('Brooklyn Rolling 7 Day MA Positive Per 100,000')\n",
    "plt.xlabel('Date')\n",
    "plt.ylabel('Positive Rate')\n",
    "plt.show()"
   ]
  },
  {
   "cell_type": "code",
   "execution_count": 44,
   "metadata": {},
   "outputs": [
    {
     "name": "stdout",
     "output_type": "stream",
     "text": [
      "LOCKDOWN IMMINENT\n"
     ]
    }
   ],
   "source": [
    "per_cap=np.sum(brooklyn['pos_hundred_thousand'].rolling(7).mean().tail(10).values >10)\n",
    "pos_rate=np.sum(brooklyn['New Positives/Total Tests'].rolling(7).mean().tail(10).values)\n",
    "if per_cap == 10 and pos_rate >= .4:\n",
    "    print('LOCKDOWN IMMINENT')\n",
    "if (per_cap>=1) and (pos_rate>=.2 and pos_rate<.4):\n",
    "    print('LOCKDOWN PENDING')   \n",
    "if (pos_rate <= .2):\n",
    "    print('LOCKDOWN UNLIKELY')"
   ]
  },
  {
   "cell_type": "markdown",
   "metadata": {},
   "source": [
    "# BRONX"
   ]
  },
  {
   "cell_type": "markdown",
   "metadata": {},
   "source": [
    "Geographic area has 7-day rolling average positivity above 4% for 10 days  \n",
    "\n",
    "AND  \n",
    "\n",
    "Geographic area has 10 or more new daily cases per 100,000 residents on 7-day average"
   ]
  },
  {
   "cell_type": "code",
   "execution_count": 45,
   "metadata": {},
   "outputs": [
    {
     "data": {
      "text/html": [
       "<div>\n",
       "<style scoped>\n",
       "    .dataframe tbody tr th:only-of-type {\n",
       "        vertical-align: middle;\n",
       "    }\n",
       "\n",
       "    .dataframe tbody tr th {\n",
       "        vertical-align: top;\n",
       "    }\n",
       "\n",
       "    .dataframe thead th {\n",
       "        text-align: right;\n",
       "    }\n",
       "</style>\n",
       "<table border=\"1\" class=\"dataframe\">\n",
       "  <thead>\n",
       "    <tr style=\"text-align: right;\">\n",
       "      <th></th>\n",
       "      <th>New Positives</th>\n",
       "      <th>Cumulative Number of Positives</th>\n",
       "      <th>Total Number of Tests Performed</th>\n",
       "      <th>Cumulative Number of Tests Performed</th>\n",
       "      <th>New Positives/Total Tests</th>\n",
       "      <th>pos_hundred_thousand</th>\n",
       "    </tr>\n",
       "    <tr>\n",
       "      <th>Test Date</th>\n",
       "      <th></th>\n",
       "      <th></th>\n",
       "      <th></th>\n",
       "      <th></th>\n",
       "      <th></th>\n",
       "      <th></th>\n",
       "    </tr>\n",
       "  </thead>\n",
       "  <tbody>\n",
       "    <tr>\n",
       "      <th>2021-01-18</th>\n",
       "      <td>1057</td>\n",
       "      <td>102227</td>\n",
       "      <td>13779</td>\n",
       "      <td>1909709</td>\n",
       "      <td>0.076711</td>\n",
       "      <td>74.530728</td>\n",
       "    </tr>\n",
       "    <tr>\n",
       "      <th>2021-01-19</th>\n",
       "      <td>789</td>\n",
       "      <td>103016</td>\n",
       "      <td>11814</td>\n",
       "      <td>1921523</td>\n",
       "      <td>0.066785</td>\n",
       "      <td>55.633628</td>\n",
       "    </tr>\n",
       "    <tr>\n",
       "      <th>2021-01-20</th>\n",
       "      <td>1087</td>\n",
       "      <td>104103</td>\n",
       "      <td>14683</td>\n",
       "      <td>1936206</td>\n",
       "      <td>0.074031</td>\n",
       "      <td>76.646075</td>\n",
       "    </tr>\n",
       "    <tr>\n",
       "      <th>2021-01-21</th>\n",
       "      <td>1256</td>\n",
       "      <td>105359</td>\n",
       "      <td>18045</td>\n",
       "      <td>1954251</td>\n",
       "      <td>0.069604</td>\n",
       "      <td>88.562530</td>\n",
       "    </tr>\n",
       "    <tr>\n",
       "      <th>2021-01-22</th>\n",
       "      <td>1227</td>\n",
       "      <td>106586</td>\n",
       "      <td>17143</td>\n",
       "      <td>1971394</td>\n",
       "      <td>0.071574</td>\n",
       "      <td>86.517695</td>\n",
       "    </tr>\n",
       "    <tr>\n",
       "      <th>2021-01-23</th>\n",
       "      <td>1229</td>\n",
       "      <td>107815</td>\n",
       "      <td>16911</td>\n",
       "      <td>1988305</td>\n",
       "      <td>0.072675</td>\n",
       "      <td>86.658718</td>\n",
       "    </tr>\n",
       "    <tr>\n",
       "      <th>2021-01-24</th>\n",
       "      <td>1180</td>\n",
       "      <td>108995</td>\n",
       "      <td>17973</td>\n",
       "      <td>2006278</td>\n",
       "      <td>0.065654</td>\n",
       "      <td>83.203651</td>\n",
       "    </tr>\n",
       "    <tr>\n",
       "      <th>2021-01-25</th>\n",
       "      <td>966</td>\n",
       "      <td>109961</td>\n",
       "      <td>11351</td>\n",
       "      <td>2017629</td>\n",
       "      <td>0.085103</td>\n",
       "      <td>68.114175</td>\n",
       "    </tr>\n",
       "    <tr>\n",
       "      <th>2021-01-26</th>\n",
       "      <td>885</td>\n",
       "      <td>110846</td>\n",
       "      <td>14393</td>\n",
       "      <td>2032022</td>\n",
       "      <td>0.061488</td>\n",
       "      <td>62.402738</td>\n",
       "    </tr>\n",
       "    <tr>\n",
       "      <th>2021-01-27</th>\n",
       "      <td>1231</td>\n",
       "      <td>112077</td>\n",
       "      <td>17826</td>\n",
       "      <td>2049848</td>\n",
       "      <td>0.069056</td>\n",
       "      <td>86.799741</td>\n",
       "    </tr>\n",
       "    <tr>\n",
       "      <th>2021-01-28</th>\n",
       "      <td>1156</td>\n",
       "      <td>113233</td>\n",
       "      <td>17959</td>\n",
       "      <td>2067807</td>\n",
       "      <td>0.064369</td>\n",
       "      <td>81.511373</td>\n",
       "    </tr>\n",
       "    <tr>\n",
       "      <th>2021-01-29</th>\n",
       "      <td>1143</td>\n",
       "      <td>114376</td>\n",
       "      <td>16492</td>\n",
       "      <td>2084299</td>\n",
       "      <td>0.069306</td>\n",
       "      <td>80.594723</td>\n",
       "    </tr>\n",
       "    <tr>\n",
       "      <th>2021-01-30</th>\n",
       "      <td>1051</td>\n",
       "      <td>115427</td>\n",
       "      <td>15693</td>\n",
       "      <td>2099992</td>\n",
       "      <td>0.066973</td>\n",
       "      <td>74.107658</td>\n",
       "    </tr>\n",
       "    <tr>\n",
       "      <th>2021-01-31</th>\n",
       "      <td>878</td>\n",
       "      <td>116305</td>\n",
       "      <td>12274</td>\n",
       "      <td>2112266</td>\n",
       "      <td>0.071533</td>\n",
       "      <td>61.909157</td>\n",
       "    </tr>\n",
       "  </tbody>\n",
       "</table>\n",
       "</div>"
      ],
      "text/plain": [
       "            New Positives  Cumulative Number of Positives  \\\n",
       "Test Date                                                   \n",
       "2021-01-18           1057                          102227   \n",
       "2021-01-19            789                          103016   \n",
       "2021-01-20           1087                          104103   \n",
       "2021-01-21           1256                          105359   \n",
       "2021-01-22           1227                          106586   \n",
       "2021-01-23           1229                          107815   \n",
       "2021-01-24           1180                          108995   \n",
       "2021-01-25            966                          109961   \n",
       "2021-01-26            885                          110846   \n",
       "2021-01-27           1231                          112077   \n",
       "2021-01-28           1156                          113233   \n",
       "2021-01-29           1143                          114376   \n",
       "2021-01-30           1051                          115427   \n",
       "2021-01-31            878                          116305   \n",
       "\n",
       "            Total Number of Tests Performed  \\\n",
       "Test Date                                     \n",
       "2021-01-18                            13779   \n",
       "2021-01-19                            11814   \n",
       "2021-01-20                            14683   \n",
       "2021-01-21                            18045   \n",
       "2021-01-22                            17143   \n",
       "2021-01-23                            16911   \n",
       "2021-01-24                            17973   \n",
       "2021-01-25                            11351   \n",
       "2021-01-26                            14393   \n",
       "2021-01-27                            17826   \n",
       "2021-01-28                            17959   \n",
       "2021-01-29                            16492   \n",
       "2021-01-30                            15693   \n",
       "2021-01-31                            12274   \n",
       "\n",
       "            Cumulative Number of Tests Performed  New Positives/Total Tests  \\\n",
       "Test Date                                                                     \n",
       "2021-01-18                               1909709                   0.076711   \n",
       "2021-01-19                               1921523                   0.066785   \n",
       "2021-01-20                               1936206                   0.074031   \n",
       "2021-01-21                               1954251                   0.069604   \n",
       "2021-01-22                               1971394                   0.071574   \n",
       "2021-01-23                               1988305                   0.072675   \n",
       "2021-01-24                               2006278                   0.065654   \n",
       "2021-01-25                               2017629                   0.085103   \n",
       "2021-01-26                               2032022                   0.061488   \n",
       "2021-01-27                               2049848                   0.069056   \n",
       "2021-01-28                               2067807                   0.064369   \n",
       "2021-01-29                               2084299                   0.069306   \n",
       "2021-01-30                               2099992                   0.066973   \n",
       "2021-01-31                               2112266                   0.071533   \n",
       "\n",
       "            pos_hundred_thousand  \n",
       "Test Date                         \n",
       "2021-01-18             74.530728  \n",
       "2021-01-19             55.633628  \n",
       "2021-01-20             76.646075  \n",
       "2021-01-21             88.562530  \n",
       "2021-01-22             86.517695  \n",
       "2021-01-23             86.658718  \n",
       "2021-01-24             83.203651  \n",
       "2021-01-25             68.114175  \n",
       "2021-01-26             62.402738  \n",
       "2021-01-27             86.799741  \n",
       "2021-01-28             81.511373  \n",
       "2021-01-29             80.594723  \n",
       "2021-01-30             74.107658  \n",
       "2021-01-31             61.909157  "
      ]
     },
     "execution_count": 45,
     "metadata": {},
     "output_type": "execute_result"
    }
   ],
   "source": [
    "bronx=df.loc['Bronx']\n",
    "bronx['New Positives/Total Tests']=bronx['New Positives']/bronx['Total Number of Tests Performed']\n",
    "bronx['pos_hundred_thousand']=(bronx['New Positives']*100000)/1418207\n",
    "bronx.tail(14)"
   ]
  },
  {
   "cell_type": "code",
   "execution_count": 46,
   "metadata": {},
   "outputs": [
    {
     "data": {
      "text/plain": [
       "Test Date\n",
       "2021-01-22    0.073188\n",
       "2021-01-23    0.073666\n",
       "2021-01-24    0.071005\n",
       "2021-01-25    0.072204\n",
       "2021-01-26    0.071447\n",
       "2021-01-27    0.070736\n",
       "2021-01-28    0.069988\n",
       "2021-01-29    0.069664\n",
       "2021-01-30    0.068850\n",
       "2021-01-31    0.069690\n",
       "Name: New Positives/Total Tests, dtype: float64"
      ]
     },
     "execution_count": 46,
     "metadata": {},
     "output_type": "execute_result"
    }
   ],
   "source": [
    "bronx['New Positives/Total Tests'].rolling(7).mean().tail(10)"
   ]
  },
  {
   "cell_type": "code",
   "execution_count": 47,
   "metadata": {},
   "outputs": [
    {
     "data": {
      "image/png": "[encoded data removed]",
      "text/plain": [
       "<Figure size 432x288 with 1 Axes>"
      ]
     },
     "metadata": {
      "needs_background": "light"
     },
     "output_type": "display_data"
    }
   ],
   "source": [
    "bronx['New Positives/Total Tests'].rolling(7).mean().plot()\n",
    "plt.title('Bronx Rolling 7 Day MA Positive Rate')\n",
    "plt.xlabel('Date')\n",
    "plt.ylabel('Positive Rate')\n",
    "plt.show()"
   ]
  },
  {
   "cell_type": "code",
   "execution_count": 48,
   "metadata": {},
   "outputs": [
    {
     "data": {
      "text/plain": [
       "Test Date\n",
       "2021-01-22    76.112202\n",
       "2021-01-23    77.562725\n",
       "2021-01-24    78.821860\n",
       "2021-01-25    77.905210\n",
       "2021-01-26    78.872226\n",
       "2021-01-27    80.322750\n",
       "2021-01-28    79.315441\n",
       "2021-01-29    78.469303\n",
       "2021-01-30    76.676294\n",
       "2021-01-31    73.634224\n",
       "Name: pos_hundred_thousand, dtype: float64"
      ]
     },
     "execution_count": 48,
     "metadata": {},
     "output_type": "execute_result"
    }
   ],
   "source": [
    "bronx['pos_hundred_thousand'].rolling(7).mean().tail(10)"
   ]
  },
  {
   "cell_type": "code",
   "execution_count": 49,
   "metadata": {},
   "outputs": [
    {
     "data": {
      "image/png": "[encoded data removed]",
      "text/plain": [
       "<Figure size 432x288 with 1 Axes>"
      ]
     },
     "metadata": {
      "needs_background": "light"
     },
     "output_type": "display_data"
    }
   ],
   "source": [
    "bronx['pos_hundred_thousand'].rolling(7).mean().plot()\n",
    "plt.title('Bronx Rolling 7 Day MA Positive Per 100,000')\n",
    "plt.xlabel('Date')\n",
    "plt.ylabel('Positive Rate')\n",
    "plt.show()"
   ]
  },
  {
   "cell_type": "code",
   "execution_count": 50,
   "metadata": {},
   "outputs": [
    {
     "name": "stdout",
     "output_type": "stream",
     "text": [
      "LOCKDOWN IMMINENT\n"
     ]
    }
   ],
   "source": [
    "per_cap=np.sum(bronx['pos_hundred_thousand'].rolling(7).mean().tail(10).values >10)\n",
    "pos_rate=np.sum(bronx['New Positives/Total Tests'].rolling(7).mean().tail(10).values)\n",
    "if per_cap == 10 and pos_rate >= .4:\n",
    "    print('LOCKDOWN IMMINENT')\n",
    "if (per_cap>=1) and (pos_rate>=.2 and pos_rate<.4):\n",
    "    print('LOCKDOWN PENDING')   \n",
    "if (pos_rate <= .2):\n",
    "    print('LOCKDOWN UNLIKELY')"
   ]
  },
  {
   "cell_type": "markdown",
   "metadata": {},
   "source": [
    "# STATEN ISLAND"
   ]
  },
  {
   "cell_type": "markdown",
   "metadata": {},
   "source": [
    "Geographic area has 7-day rolling average positivity above 4% for 10 days  \n",
    "\n",
    "AND  \n",
    "\n",
    "Geographic area has 10 or more new daily cases per 100,000 residents on 7-day average"
   ]
  },
  {
   "cell_type": "code",
   "execution_count": 51,
   "metadata": {},
   "outputs": [
    {
     "data": {
      "text/html": [
       "<div>\n",
       "<style scoped>\n",
       "    .dataframe tbody tr th:only-of-type {\n",
       "        vertical-align: middle;\n",
       "    }\n",
       "\n",
       "    .dataframe tbody tr th {\n",
       "        vertical-align: top;\n",
       "    }\n",
       "\n",
       "    .dataframe thead th {\n",
       "        text-align: right;\n",
       "    }\n",
       "</style>\n",
       "<table border=\"1\" class=\"dataframe\">\n",
       "  <thead>\n",
       "    <tr style=\"text-align: right;\">\n",
       "      <th></th>\n",
       "      <th>New Positives</th>\n",
       "      <th>Cumulative Number of Positives</th>\n",
       "      <th>Total Number of Tests Performed</th>\n",
       "      <th>Cumulative Number of Tests Performed</th>\n",
       "      <th>New Positives/Total Tests</th>\n",
       "      <th>pos_hundred_thousand</th>\n",
       "    </tr>\n",
       "    <tr>\n",
       "      <th>Test Date</th>\n",
       "      <th></th>\n",
       "      <th></th>\n",
       "      <th></th>\n",
       "      <th></th>\n",
       "      <th></th>\n",
       "      <th></th>\n",
       "    </tr>\n",
       "  </thead>\n",
       "  <tbody>\n",
       "    <tr>\n",
       "      <th>2021-01-18</th>\n",
       "      <td>426</td>\n",
       "      <td>44678</td>\n",
       "      <td>6373</td>\n",
       "      <td>859793</td>\n",
       "      <td>0.066845</td>\n",
       "      <td>89.468920</td>\n",
       "    </tr>\n",
       "    <tr>\n",
       "      <th>2021-01-19</th>\n",
       "      <td>491</td>\n",
       "      <td>45169</td>\n",
       "      <td>7235</td>\n",
       "      <td>867028</td>\n",
       "      <td>0.067865</td>\n",
       "      <td>103.120281</td>\n",
       "    </tr>\n",
       "    <tr>\n",
       "      <th>2021-01-20</th>\n",
       "      <td>358</td>\n",
       "      <td>45527</td>\n",
       "      <td>6067</td>\n",
       "      <td>873095</td>\n",
       "      <td>0.059008</td>\n",
       "      <td>75.187496</td>\n",
       "    </tr>\n",
       "    <tr>\n",
       "      <th>2021-01-21</th>\n",
       "      <td>485</td>\n",
       "      <td>46012</td>\n",
       "      <td>8559</td>\n",
       "      <td>881654</td>\n",
       "      <td>0.056665</td>\n",
       "      <td>101.860155</td>\n",
       "    </tr>\n",
       "    <tr>\n",
       "      <th>2021-01-22</th>\n",
       "      <td>389</td>\n",
       "      <td>46401</td>\n",
       "      <td>7315</td>\n",
       "      <td>888969</td>\n",
       "      <td>0.053178</td>\n",
       "      <td>81.698145</td>\n",
       "    </tr>\n",
       "    <tr>\n",
       "      <th>2021-01-23</th>\n",
       "      <td>440</td>\n",
       "      <td>46841</td>\n",
       "      <td>7652</td>\n",
       "      <td>896621</td>\n",
       "      <td>0.057501</td>\n",
       "      <td>92.409213</td>\n",
       "    </tr>\n",
       "    <tr>\n",
       "      <th>2021-01-24</th>\n",
       "      <td>413</td>\n",
       "      <td>47254</td>\n",
       "      <td>6679</td>\n",
       "      <td>903300</td>\n",
       "      <td>0.061836</td>\n",
       "      <td>86.738648</td>\n",
       "    </tr>\n",
       "    <tr>\n",
       "      <th>2021-01-25</th>\n",
       "      <td>361</td>\n",
       "      <td>47615</td>\n",
       "      <td>5985</td>\n",
       "      <td>909285</td>\n",
       "      <td>0.060317</td>\n",
       "      <td>75.817559</td>\n",
       "    </tr>\n",
       "    <tr>\n",
       "      <th>2021-01-26</th>\n",
       "      <td>334</td>\n",
       "      <td>47949</td>\n",
       "      <td>6380</td>\n",
       "      <td>915665</td>\n",
       "      <td>0.052351</td>\n",
       "      <td>70.146994</td>\n",
       "    </tr>\n",
       "    <tr>\n",
       "      <th>2021-01-27</th>\n",
       "      <td>347</td>\n",
       "      <td>48296</td>\n",
       "      <td>7121</td>\n",
       "      <td>922786</td>\n",
       "      <td>0.048729</td>\n",
       "      <td>72.877266</td>\n",
       "    </tr>\n",
       "    <tr>\n",
       "      <th>2021-01-28</th>\n",
       "      <td>371</td>\n",
       "      <td>48667</td>\n",
       "      <td>8024</td>\n",
       "      <td>930810</td>\n",
       "      <td>0.046236</td>\n",
       "      <td>77.917768</td>\n",
       "    </tr>\n",
       "    <tr>\n",
       "      <th>2021-01-29</th>\n",
       "      <td>362</td>\n",
       "      <td>49029</td>\n",
       "      <td>8172</td>\n",
       "      <td>938982</td>\n",
       "      <td>0.044298</td>\n",
       "      <td>76.027580</td>\n",
       "    </tr>\n",
       "    <tr>\n",
       "      <th>2021-01-30</th>\n",
       "      <td>280</td>\n",
       "      <td>49309</td>\n",
       "      <td>6806</td>\n",
       "      <td>945788</td>\n",
       "      <td>0.041140</td>\n",
       "      <td>58.805863</td>\n",
       "    </tr>\n",
       "    <tr>\n",
       "      <th>2021-01-31</th>\n",
       "      <td>255</td>\n",
       "      <td>49564</td>\n",
       "      <td>4750</td>\n",
       "      <td>950538</td>\n",
       "      <td>0.053684</td>\n",
       "      <td>53.555339</td>\n",
       "    </tr>\n",
       "  </tbody>\n",
       "</table>\n",
       "</div>"
      ],
      "text/plain": [
       "            New Positives  Cumulative Number of Positives  \\\n",
       "Test Date                                                   \n",
       "2021-01-18            426                           44678   \n",
       "2021-01-19            491                           45169   \n",
       "2021-01-20            358                           45527   \n",
       "2021-01-21            485                           46012   \n",
       "2021-01-22            389                           46401   \n",
       "2021-01-23            440                           46841   \n",
       "2021-01-24            413                           47254   \n",
       "2021-01-25            361                           47615   \n",
       "2021-01-26            334                           47949   \n",
       "2021-01-27            347                           48296   \n",
       "2021-01-28            371                           48667   \n",
       "2021-01-29            362                           49029   \n",
       "2021-01-30            280                           49309   \n",
       "2021-01-31            255                           49564   \n",
       "\n",
       "            Total Number of Tests Performed  \\\n",
       "Test Date                                     \n",
       "2021-01-18                             6373   \n",
       "2021-01-19                             7235   \n",
       "2021-01-20                             6067   \n",
       "2021-01-21                             8559   \n",
       "2021-01-22                             7315   \n",
       "2021-01-23                             7652   \n",
       "2021-01-24                             6679   \n",
       "2021-01-25                             5985   \n",
       "2021-01-26                             6380   \n",
       "2021-01-27                             7121   \n",
       "2021-01-28                             8024   \n",
       "2021-01-29                             8172   \n",
       "2021-01-30                             6806   \n",
       "2021-01-31                             4750   \n",
       "\n",
       "            Cumulative Number of Tests Performed  New Positives/Total Tests  \\\n",
       "Test Date                                                                     \n",
       "2021-01-18                                859793                   0.066845   \n",
       "2021-01-19                                867028                   0.067865   \n",
       "2021-01-20                                873095                   0.059008   \n",
       "2021-01-21                                881654                   0.056665   \n",
       "2021-01-22                                888969                   0.053178   \n",
       "2021-01-23                                896621                   0.057501   \n",
       "2021-01-24                                903300                   0.061836   \n",
       "2021-01-25                                909285                   0.060317   \n",
       "2021-01-26                                915665                   0.052351   \n",
       "2021-01-27                                922786                   0.048729   \n",
       "2021-01-28                                930810                   0.046236   \n",
       "2021-01-29                                938982                   0.044298   \n",
       "2021-01-30                                945788                   0.041140   \n",
       "2021-01-31                                950538                   0.053684   \n",
       "\n",
       "            pos_hundred_thousand  \n",
       "Test Date                         \n",
       "2021-01-18             89.468920  \n",
       "2021-01-19            103.120281  \n",
       "2021-01-20             75.187496  \n",
       "2021-01-21            101.860155  \n",
       "2021-01-22             81.698145  \n",
       "2021-01-23             92.409213  \n",
       "2021-01-24             86.738648  \n",
       "2021-01-25             75.817559  \n",
       "2021-01-26             70.146994  \n",
       "2021-01-27             72.877266  \n",
       "2021-01-28             77.917768  \n",
       "2021-01-29             76.027580  \n",
       "2021-01-30             58.805863  \n",
       "2021-01-31             53.555339  "
      ]
     },
     "execution_count": 51,
     "metadata": {},
     "output_type": "execute_result"
    }
   ],
   "source": [
    "richmond=df.loc['Richmond']\n",
    "richmond['New Positives/Total Tests']=richmond['New Positives']/richmond['Total Number of Tests Performed']\n",
    "richmond['pos_hundred_thousand']=(richmond['New Positives']*100000)/476143\n",
    "richmond.tail(14)"
   ]
  },
  {
   "cell_type": "code",
   "execution_count": 52,
   "metadata": {},
   "outputs": [
    {
     "data": {
      "text/plain": [
       "Test Date\n",
       "2021-01-22    0.060979\n",
       "2021-01-23    0.061010\n",
       "2021-01-24    0.060414\n",
       "2021-01-25    0.059482\n",
       "2021-01-26    0.057265\n",
       "2021-01-27    0.055797\n",
       "2021-01-28    0.054307\n",
       "2021-01-29    0.053038\n",
       "2021-01-30    0.050701\n",
       "2021-01-31    0.049537\n",
       "Name: New Positives/Total Tests, dtype: float64"
      ]
     },
     "execution_count": 52,
     "metadata": {},
     "output_type": "execute_result"
    }
   ],
   "source": [
    "richmond['New Positives/Total Tests'].rolling(7).mean().tail(10)"
   ]
  },
  {
   "cell_type": "code",
   "execution_count": 53,
   "metadata": {},
   "outputs": [
    {
     "data": {
      "image/png": "[encoded data removed]",
      "text/plain": [
       "<Figure size 432x288 with 1 Axes>"
      ]
     },
     "metadata": {
      "needs_background": "light"
     },
     "output_type": "display_data"
    }
   ],
   "source": [
    "richmond['New Positives/Total Tests'].rolling(7).mean().plot()\n",
    "plt.title('Richmond Rolling 7 Day MA Positive Rate')\n",
    "plt.xlabel('Date')\n",
    "plt.ylabel('Positive Rate')\n",
    "plt.show()"
   ]
  },
  {
   "cell_type": "code",
   "execution_count": 54,
   "metadata": {},
   "outputs": [
    {
     "data": {
      "text/plain": [
       "Test Date\n",
       "2021-01-22    90.999073\n",
       "2021-01-23    90.879061\n",
       "2021-01-24    90.068980\n",
       "2021-01-25    88.118785\n",
       "2021-01-26    83.408316\n",
       "2021-01-27    83.078283\n",
       "2021-01-28    79.657942\n",
       "2021-01-29    78.847861\n",
       "2021-01-30    74.047383\n",
       "2021-01-31    69.306910\n",
       "Name: pos_hundred_thousand, dtype: float64"
      ]
     },
     "execution_count": 54,
     "metadata": {},
     "output_type": "execute_result"
    }
   ],
   "source": [
    "richmond['pos_hundred_thousand'].rolling(7).mean().tail(10)"
   ]
  },
  {
   "cell_type": "code",
   "execution_count": 55,
   "metadata": {},
   "outputs": [
    {
     "data": {
      "image/png": "[encoded data removed]",
      "text/plain": [
       "<Figure size 432x288 with 1 Axes>"
      ]
     },
     "metadata": {
      "needs_background": "light"
     },
     "output_type": "display_data"
    }
   ],
   "source": [
    "richmond['pos_hundred_thousand'].rolling(7).mean().plot()\n",
    "plt.title('Richmond Rolling 7 Day MA Positive Per 100,000')\n",
    "plt.xlabel('Date')\n",
    "plt.ylabel('Positive Rate')\n",
    "plt.show()"
   ]
  },
  {
   "cell_type": "code",
   "execution_count": 56,
   "metadata": {},
   "outputs": [
    {
     "name": "stdout",
     "output_type": "stream",
     "text": [
      "LOCKDOWN IMMINENT\n"
     ]
    }
   ],
   "source": [
    "per_cap=np.sum(richmond['pos_hundred_thousand'].rolling(7).mean().tail(10).values >10)\n",
    "pos_rate=np.sum(richmond['New Positives/Total Tests'].rolling(7).mean().tail(10).values)\n",
    "if per_cap == 10 and pos_rate >= .4:\n",
    "    print('LOCKDOWN IMMINENT')\n",
    "if (per_cap>=1) and (pos_rate>=.2 and pos_rate<.4):\n",
    "    print('LOCKDOWN PENDING')   \n",
    "if (pos_rate <= .2):\n",
    "    print('LOCKDOWN UNLIKELY')"
   ]
  },
  {
   "cell_type": "code",
   "execution_count": null,
   "metadata": {},
   "outputs": [],
   "source": []
  },
  {
   "cell_type": "code",
   "execution_count": null,
   "metadata": {},
   "outputs": [],
   "source": []
  }
 ],
 "metadata": {
  "kernelspec": {
   "display_name": "Python 3",
   "language": "python",
   "name": "python3"
  },
  "language_info": {
   "codemirror_mode": {
    "name": "ipython",
    "version": 3
   },
   "file_extension": ".py",
   "mimetype": "text/x-python",
   "name": "python",
   "nbconvert_exporter": "python",
   "pygments_lexer": "ipython3",
   "version": "3.7.6"
  },
  "toc": {
   "base_numbering": 1,
   "nav_menu": {},
   "number_sections": false,
   "sideBar": true,
   "skip_h1_title": false,
   "title_cell": "Table of Contents",
   "title_sidebar": "Contents",
   "toc_cell": false,
   "toc_position": {},
   "toc_section_display": true,
   "toc_window_display": false
  }
 },
 "nbformat": 4,
 "nbformat_minor": 4
}
