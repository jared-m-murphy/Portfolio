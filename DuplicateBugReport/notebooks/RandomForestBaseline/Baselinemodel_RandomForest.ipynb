{
 "cells": [
  {
   "cell_type": "code",
   "execution_count": 1,
   "id": "9859886a",
   "metadata": {},
   "outputs": [
    {
     "name": "stderr",
     "output_type": "stream",
     "text": [
      "[nltk_data] Downloading package stopwords to\n",
      "[nltk_data]     C:\\Users\\swarn\\AppData\\Roaming\\nltk_data...\n",
      "[nltk_data]   Package stopwords is already up-to-date!\n",
      "[nltk_data] Downloading package wordnet to\n",
      "[nltk_data]     C:\\Users\\swarn\\AppData\\Roaming\\nltk_data...\n",
      "[nltk_data]   Package wordnet is already up-to-date!\n"
     ]
    },
    {
     "data": {
      "text/plain": [
       "True"
      ]
     },
     "execution_count": 1,
     "metadata": {},
     "output_type": "execute_result"
    }
   ],
   "source": [
    "#importing the different packages to be used.\n",
    "import pandas as pd\n",
    "import nltk\n",
    "import gensim\n",
    "from gensim.utils import simple_preprocess\n",
    "from sklearn.feature_extraction.text import TfidfVectorizer\n",
    "from nltk.corpus import stopwords\n",
    "from nltk.stem.porter import *\n",
    "from gensim.parsing.preprocessing import STOPWORDS\n",
    "import numpy as np\n",
    "import pickle\n",
    "nltk.download('stopwords')\n",
    "nltk.download('wordnet')"
   ]
  },
  {
   "cell_type": "code",
   "execution_count": 2,
   "id": "12a713ff",
   "metadata": {},
   "outputs": [
    {
     "data": {
      "text/html": [
       "<div>\n",
       "<style scoped>\n",
       "    .dataframe tbody tr th:only-of-type {\n",
       "        vertical-align: middle;\n",
       "    }\n",
       "\n",
       "    .dataframe tbody tr th {\n",
       "        vertical-align: top;\n",
       "    }\n",
       "\n",
       "    .dataframe thead th {\n",
       "        text-align: right;\n",
       "    }\n",
       "</style>\n",
       "<table border=\"1\" class=\"dataframe\">\n",
       "  <thead>\n",
       "    <tr style=\"text-align: right;\">\n",
       "      <th></th>\n",
       "      <th>Issue_id</th>\n",
       "      <th>Duplicated_issue</th>\n",
       "      <th>Title1</th>\n",
       "      <th>Description1</th>\n",
       "      <th>Title2</th>\n",
       "      <th>Description2</th>\n",
       "      <th>Label</th>\n",
       "    </tr>\n",
       "  </thead>\n",
       "  <tbody>\n",
       "    <tr>\n",
       "      <th>0</th>\n",
       "      <td>25</td>\n",
       "      <td>28126</td>\n",
       "      <td>cvs ui need vcm prefs  default repo connection gc</td>\n",
       "      <td>it would be helpful if there was a notion of d...</td>\n",
       "      <td>wizards patch standard public cvs repositories</td>\n",
       "      <td>this patch adds a convenient way to check thin...</td>\n",
       "      <td>1</td>\n",
       "    </tr>\n",
       "    <tr>\n",
       "      <th>1</th>\n",
       "      <td>40</td>\n",
       "      <td>20</td>\n",
       "      <td>need connect to team stream gcqpkw</td>\n",
       "      <td>i would like to be able to connect to a team s...</td>\n",
       "      <td>workspace files</td>\n",
       "      <td>thought it would be useful if the set of repo ...</td>\n",
       "      <td>1</td>\n",
       "    </tr>\n",
       "    <tr>\n",
       "      <th>2</th>\n",
       "      <td>48</td>\n",
       "      <td>22</td>\n",
       "      <td>make sure can future store other project refer...</td>\n",
       "      <td>project references come in three flavours  . p...</td>\n",
       "      <td>persist sharing recommendations and project ve...</td>\n",
       "      <td>project descriptions dont store sharing recomm...</td>\n",
       "      <td>1</td>\n",
       "    </tr>\n",
       "    <tr>\n",
       "      <th>3</th>\n",
       "      <td>61</td>\n",
       "      <td>60</td>\n",
       "      <td>.vcmmeta showing as change gdqtgw</td>\n",
       "      <td>useruser   install drop  into declipse  user  ...</td>\n",
       "      <td>need custom .vcmignore comparemerge gdqt</td>\n",
       "      <td>useruser   install drop  into declipse  user  ...</td>\n",
       "      <td>1</td>\n",
       "    </tr>\n",
       "    <tr>\n",
       "      <th>4</th>\n",
       "      <td>94</td>\n",
       "      <td>2</td>\n",
       "      <td>repositories view all file types open to the t...</td>\n",
       "      <td>when browsing files in the repositories view i...</td>\n",
       "      <td>opening repository resources doesnt honor type...</td>\n",
       "      <td>opening repository resource  open the default ...</td>\n",
       "      <td>1</td>\n",
       "    </tr>\n",
       "  </tbody>\n",
       "</table>\n",
       "</div>"
      ],
      "text/plain": [
       "   Issue_id  Duplicated_issue  \\\n",
       "0        25             28126   \n",
       "1        40                20   \n",
       "2        48                22   \n",
       "3        61                60   \n",
       "4        94                 2   \n",
       "\n",
       "                                              Title1  \\\n",
       "0  cvs ui need vcm prefs  default repo connection gc   \n",
       "1                 need connect to team stream gcqpkw   \n",
       "2  make sure can future store other project refer...   \n",
       "3                  .vcmmeta showing as change gdqtgw   \n",
       "4  repositories view all file types open to the t...   \n",
       "\n",
       "                                        Description1  \\\n",
       "0  it would be helpful if there was a notion of d...   \n",
       "1  i would like to be able to connect to a team s...   \n",
       "2  project references come in three flavours  . p...   \n",
       "3  useruser   install drop  into declipse  user  ...   \n",
       "4  when browsing files in the repositories view i...   \n",
       "\n",
       "                                              Title2  \\\n",
       "0     wizards patch standard public cvs repositories   \n",
       "1                                    workspace files   \n",
       "2  persist sharing recommendations and project ve...   \n",
       "3           need custom .vcmignore comparemerge gdqt   \n",
       "4  opening repository resources doesnt honor type...   \n",
       "\n",
       "                                        Description2  Label  \n",
       "0  this patch adds a convenient way to check thin...      1  \n",
       "1  thought it would be useful if the set of repo ...      1  \n",
       "2  project descriptions dont store sharing recomm...      1  \n",
       "3  useruser   install drop  into declipse  user  ...      1  \n",
       "4  opening repository resource  open the default ...      1  "
      ]
     },
     "execution_count": 2,
     "metadata": {},
     "output_type": "execute_result"
    }
   ],
   "source": [
    "#Eclipse duplicate bug pairs data loaded into a dataframe\n",
    "df_duplicate = pd.read_csv('EP_dup.csv', sep=';'  , engine='python')\n",
    "df_duplicate.head()"
   ]
  },
  {
   "cell_type": "code",
   "execution_count": 3,
   "id": "304ff67f",
   "metadata": {},
   "outputs": [
    {
     "data": {
      "text/plain": [
       "1    12686\n",
       "Name: Label, dtype: int64"
      ]
     },
     "execution_count": 3,
     "metadata": {},
     "output_type": "execute_result"
    }
   ],
   "source": [
    "#checking the no of records with Label 1(duplicate bug pairs)\n",
    "df_duplicate['Label'].value_counts()"
   ]
  },
  {
   "cell_type": "code",
   "execution_count": 4,
   "id": "8a972f78",
   "metadata": {},
   "outputs": [
    {
     "data": {
      "text/html": [
       "<div>\n",
       "<style scoped>\n",
       "    .dataframe tbody tr th:only-of-type {\n",
       "        vertical-align: middle;\n",
       "    }\n",
       "\n",
       "    .dataframe tbody tr th {\n",
       "        vertical-align: top;\n",
       "    }\n",
       "\n",
       "    .dataframe thead th {\n",
       "        text-align: right;\n",
       "    }\n",
       "</style>\n",
       "<table border=\"1\" class=\"dataframe\">\n",
       "  <thead>\n",
       "    <tr style=\"text-align: right;\">\n",
       "      <th></th>\n",
       "      <th>Issue_id</th>\n",
       "      <th>Duplicated_issue</th>\n",
       "      <th>Title1</th>\n",
       "      <th>Description1</th>\n",
       "      <th>Title2</th>\n",
       "      <th>Description2</th>\n",
       "      <th>Label</th>\n",
       "    </tr>\n",
       "  </thead>\n",
       "  <tbody>\n",
       "    <tr>\n",
       "      <th>0</th>\n",
       "      <td>1</td>\n",
       "      <td>92840</td>\n",
       "      <td>usability issue with external editors geirl</td>\n",
       "      <td>setup a project that contains a .gif resource ...</td>\n",
       "      <td>api deleted field idebuguiconstants.imgactsynced</td>\n",
       "      <td>. head  idebuguiconstants public static final ...</td>\n",
       "      <td>0</td>\n",
       "    </tr>\n",
       "    <tr>\n",
       "      <th>1</th>\n",
       "      <td>2</td>\n",
       "      <td>92844</td>\n",
       "      <td>opening repository resources doesnt honor type...</td>\n",
       "      <td>opening repository resource  open the default ...</td>\n",
       "      <td>increase scrolling speed based on distance fro...</td>\n",
       "      <td>currently the speed of selection scrolling whe...</td>\n",
       "      <td>0</td>\n",
       "    </tr>\n",
       "    <tr>\n",
       "      <th>2</th>\n",
       "      <td>3</td>\n",
       "      <td>92850</td>\n",
       "      <td>sync does not indicate deletion gien</td>\n",
       "      <td>kmpm \\tthis pr about the deletion indicator in...</td>\n",
       "      <td>jface api public api nonconstant field columnp...</td>\n",
       "      <td>. head  columnpixeldata public boolean addtrim...</td>\n",
       "      <td>0</td>\n",
       "    </tr>\n",
       "    <tr>\n",
       "      <th>3</th>\n",
       "      <td>4</td>\n",
       "      <td>92851</td>\n",
       "      <td>need better error message if catching up over ...</td>\n",
       "      <td>become synchronized with some project in a rep...</td>\n",
       "      <td>viewers api protected field structuredviewer.c...</td>\n",
       "      <td>. head  colorandfontcollector protected colora...</td>\n",
       "      <td>0</td>\n",
       "    </tr>\n",
       "    <tr>\n",
       "      <th>4</th>\n",
       "      <td>5</td>\n",
       "      <td>92852</td>\n",
       "      <td>isharingmanager sharing api inconsistent gaulh</td>\n",
       "      <td>for gettingsetting the managed state of a reso...</td>\n",
       "      <td>. ma nullpointerexception when install spindle...</td>\n",
       "      <td>steps  . menu help  software updates  find and...</td>\n",
       "      <td>0</td>\n",
       "    </tr>\n",
       "  </tbody>\n",
       "</table>\n",
       "</div>"
      ],
      "text/plain": [
       "   Issue_id  Duplicated_issue  \\\n",
       "0         1             92840   \n",
       "1         2             92844   \n",
       "2         3             92850   \n",
       "3         4             92851   \n",
       "4         5             92852   \n",
       "\n",
       "                                              Title1  \\\n",
       "0        usability issue with external editors geirl   \n",
       "1  opening repository resources doesnt honor type...   \n",
       "2               sync does not indicate deletion gien   \n",
       "3  need better error message if catching up over ...   \n",
       "4     isharingmanager sharing api inconsistent gaulh   \n",
       "\n",
       "                                        Description1  \\\n",
       "0  setup a project that contains a .gif resource ...   \n",
       "1  opening repository resource  open the default ...   \n",
       "2  kmpm \\tthis pr about the deletion indicator in...   \n",
       "3  become synchronized with some project in a rep...   \n",
       "4  for gettingsetting the managed state of a reso...   \n",
       "\n",
       "                                              Title2  \\\n",
       "0   api deleted field idebuguiconstants.imgactsynced   \n",
       "1  increase scrolling speed based on distance fro...   \n",
       "2  jface api public api nonconstant field columnp...   \n",
       "3  viewers api protected field structuredviewer.c...   \n",
       "4  . ma nullpointerexception when install spindle...   \n",
       "\n",
       "                                        Description2  Label  \n",
       "0  . head  idebuguiconstants public static final ...      0  \n",
       "1  currently the speed of selection scrolling whe...      0  \n",
       "2  . head  columnpixeldata public boolean addtrim...      0  \n",
       "3  . head  colorandfontcollector protected colora...      0  \n",
       "4  steps  . menu help  software updates  find and...      0  "
      ]
     },
     "execution_count": 4,
     "metadata": {},
     "output_type": "execute_result"
    }
   ],
   "source": [
    "#Eclipse non duplicate bug pairs data loaded into a dataframe\n",
    "df_nonduplicate = pd.read_csv('EP_nondup.csv', sep=';'  , engine='python')\n",
    "df_nonduplicate.head()"
   ]
  },
  {
   "cell_type": "code",
   "execution_count": 5,
   "id": "fe1661f0",
   "metadata": {},
   "outputs": [
    {
     "data": {
      "text/plain": [
       "0    34222\n",
       "Name: Label, dtype: int64"
      ]
     },
     "execution_count": 5,
     "metadata": {},
     "output_type": "execute_result"
    }
   ],
   "source": [
    "#checking the no of records with Label 0(non duplicate bug pairs)\n",
    "df_nonduplicate['Label'].value_counts()"
   ]
  },
  {
   "cell_type": "code",
   "execution_count": 6,
   "id": "bb67a0fc",
   "metadata": {},
   "outputs": [
    {
     "data": {
      "text/plain": [
       "0"
      ]
     },
     "execution_count": 6,
     "metadata": {},
     "output_type": "execute_result"
    }
   ],
   "source": [
    "#Checking if any missing values are present.\n",
    "df_nonduplicate['Description2'].isnull().sum() #no null values detected"
   ]
  },
  {
   "cell_type": "code",
   "execution_count": 7,
   "id": "9620d9b4",
   "metadata": {},
   "outputs": [
    {
     "data": {
      "text/html": [
       "<div>\n",
       "<style scoped>\n",
       "    .dataframe tbody tr th:only-of-type {\n",
       "        vertical-align: middle;\n",
       "    }\n",
       "\n",
       "    .dataframe tbody tr th {\n",
       "        vertical-align: top;\n",
       "    }\n",
       "\n",
       "    .dataframe thead th {\n",
       "        text-align: right;\n",
       "    }\n",
       "</style>\n",
       "<table border=\"1\" class=\"dataframe\">\n",
       "  <thead>\n",
       "    <tr style=\"text-align: right;\">\n",
       "      <th></th>\n",
       "      <th>Issue_id</th>\n",
       "      <th>Duplicated_issue</th>\n",
       "      <th>Title1</th>\n",
       "      <th>Description1</th>\n",
       "      <th>Title2</th>\n",
       "      <th>Description2</th>\n",
       "      <th>Label</th>\n",
       "    </tr>\n",
       "  </thead>\n",
       "  <tbody>\n",
       "    <tr>\n",
       "      <th>46903</th>\n",
       "      <td>92835</td>\n",
       "      <td>424602</td>\n",
       "      <td>viewers retrieving projects from cvs creates d...</td>\n",
       "      <td>observed in i and i did not happen in m happen...</td>\n",
       "      <td>learn how to report a bug report</td>\n",
       "      <td>a invalid bug report just have a try. i am .</td>\n",
       "      <td>0</td>\n",
       "    </tr>\n",
       "    <tr>\n",
       "      <th>46904</th>\n",
       "      <td>92836</td>\n",
       "      <td>424655</td>\n",
       "      <td>api missing since . tag on abstractdebugview.s...</td>\n",
       "      <td>. head  abstractdebugview.setviewerviewer priv...</td>\n",
       "      <td>projectdescription name properties dosent work</td>\n",
       "      <td>i have a project place in folder core here is ...</td>\n",
       "      <td>0</td>\n",
       "    </tr>\n",
       "    <tr>\n",
       "      <th>46905</th>\n",
       "      <td>92838</td>\n",
       "      <td>424656</td>\n",
       "      <td>api add missing since . tags on api added in ....</td>\n",
       "      <td>. head  my first random probe of a field added...</td>\n",
       "      <td>m failed related to rcp.config</td>\n",
       "      <td>httpdownload.eclipse.orgeclipsedownloadsdropsm...</td>\n",
       "      <td>0</td>\n",
       "    </tr>\n",
       "    <tr>\n",
       "      <th>46906</th>\n",
       "      <td>424672</td>\n",
       "      <td>424658</td>\n",
       "      <td>menu bar does not display</td>\n",
       "      <td>when i click on one of the buttons on the menu...</td>\n",
       "      <td>eclipse kepler often crash on ubuntu . and jro...</td>\n",
       "      <td>eclipse kepler often crash on ubuntu . and ora...</td>\n",
       "      <td>0</td>\n",
       "    </tr>\n",
       "    <tr>\n",
       "      <th>46907</th>\n",
       "      <td>424764</td>\n",
       "      <td>424714</td>\n",
       "      <td>crash macos  getivar</td>\n",
       "      <td>processeclipse  pathapplicationseclipse.appecl...</td>\n",
       "      <td>gtklinux blank windows with gtk</td>\n",
       "      <td>i started testing . and noticed the editor win...</td>\n",
       "      <td>0</td>\n",
       "    </tr>\n",
       "  </tbody>\n",
       "</table>\n",
       "</div>"
      ],
      "text/plain": [
       "       Issue_id  Duplicated_issue  \\\n",
       "46903     92835            424602   \n",
       "46904     92836            424655   \n",
       "46905     92838            424656   \n",
       "46906    424672            424658   \n",
       "46907    424764            424714   \n",
       "\n",
       "                                                  Title1  \\\n",
       "46903  viewers retrieving projects from cvs creates d...   \n",
       "46904  api missing since . tag on abstractdebugview.s...   \n",
       "46905  api add missing since . tags on api added in ....   \n",
       "46906                          menu bar does not display   \n",
       "46907                               crash macos  getivar   \n",
       "\n",
       "                                            Description1  \\\n",
       "46903  observed in i and i did not happen in m happen...   \n",
       "46904  . head  abstractdebugview.setviewerviewer priv...   \n",
       "46905  . head  my first random probe of a field added...   \n",
       "46906  when i click on one of the buttons on the menu...   \n",
       "46907  processeclipse  pathapplicationseclipse.appecl...   \n",
       "\n",
       "                                                  Title2  \\\n",
       "46903                   learn how to report a bug report   \n",
       "46904     projectdescription name properties dosent work   \n",
       "46905                     m failed related to rcp.config   \n",
       "46906  eclipse kepler often crash on ubuntu . and jro...   \n",
       "46907                    gtklinux blank windows with gtk   \n",
       "\n",
       "                                            Description2  Label  \n",
       "46903       a invalid bug report just have a try. i am .      0  \n",
       "46904  i have a project place in folder core here is ...      0  \n",
       "46905  httpdownload.eclipse.orgeclipsedownloadsdropsm...      0  \n",
       "46906  eclipse kepler often crash on ubuntu . and ora...      0  \n",
       "46907  i started testing . and noticed the editor win...      0  "
      ]
     },
     "execution_count": 7,
     "metadata": {},
     "output_type": "execute_result"
    }
   ],
   "source": [
    "#Combining eclipse duplicate data and non duplicate data into one dataframe\n",
    "df_eclipse = pd.concat([df_duplicate, df_nonduplicate], ignore_index=True, sort=False)\n",
    "df_eclipse.tail()"
   ]
  },
  {
   "cell_type": "code",
   "execution_count": 8,
   "id": "a0e0ee69",
   "metadata": {},
   "outputs": [
    {
     "data": {
      "text/plain": [
       "0    34222\n",
       "1    12686\n",
       "Name: Label, dtype: int64"
      ]
     },
     "execution_count": 8,
     "metadata": {},
     "output_type": "execute_result"
    }
   ],
   "source": [
    "#Checking if combined correctly. Seems okay.\n",
    "df_eclipse['Label'].value_counts()"
   ]
  },
  {
   "cell_type": "code",
   "execution_count": 9,
   "id": "473ba9a9",
   "metadata": {},
   "outputs": [
    {
     "data": {
      "text/html": [
       "<div>\n",
       "<style scoped>\n",
       "    .dataframe tbody tr th:only-of-type {\n",
       "        vertical-align: middle;\n",
       "    }\n",
       "\n",
       "    .dataframe tbody tr th {\n",
       "        vertical-align: top;\n",
       "    }\n",
       "\n",
       "    .dataframe thead th {\n",
       "        text-align: right;\n",
       "    }\n",
       "</style>\n",
       "<table border=\"1\" class=\"dataframe\">\n",
       "  <thead>\n",
       "    <tr style=\"text-align: right;\">\n",
       "      <th></th>\n",
       "      <th>Issue_id</th>\n",
       "      <th>Duplicated_issue</th>\n",
       "      <th>Title1</th>\n",
       "      <th>Description1</th>\n",
       "      <th>Title2</th>\n",
       "      <th>Description2</th>\n",
       "      <th>Label</th>\n",
       "      <th>Report1</th>\n",
       "      <th>Report2</th>\n",
       "    </tr>\n",
       "  </thead>\n",
       "  <tbody>\n",
       "    <tr>\n",
       "      <th>0</th>\n",
       "      <td>25</td>\n",
       "      <td>28126</td>\n",
       "      <td>cvs ui need vcm prefs  default repo connection gc</td>\n",
       "      <td>it would be helpful if there was a notion of d...</td>\n",
       "      <td>wizards patch standard public cvs repositories</td>\n",
       "      <td>this patch adds a convenient way to check thin...</td>\n",
       "      <td>1</td>\n",
       "      <td>cvs ui need vcm prefs  default repo connection...</td>\n",
       "      <td>wizards patch standard public cvs repositories...</td>\n",
       "    </tr>\n",
       "    <tr>\n",
       "      <th>1</th>\n",
       "      <td>40</td>\n",
       "      <td>20</td>\n",
       "      <td>need connect to team stream gcqpkw</td>\n",
       "      <td>i would like to be able to connect to a team s...</td>\n",
       "      <td>workspace files</td>\n",
       "      <td>thought it would be useful if the set of repo ...</td>\n",
       "      <td>1</td>\n",
       "      <td>need connect to team stream gcqpkw i would lik...</td>\n",
       "      <td>workspace files thought it would be useful if ...</td>\n",
       "    </tr>\n",
       "    <tr>\n",
       "      <th>2</th>\n",
       "      <td>48</td>\n",
       "      <td>22</td>\n",
       "      <td>make sure can future store other project refer...</td>\n",
       "      <td>project references come in three flavours  . p...</td>\n",
       "      <td>persist sharing recommendations and project ve...</td>\n",
       "      <td>project descriptions dont store sharing recomm...</td>\n",
       "      <td>1</td>\n",
       "      <td>make sure can future store other project refer...</td>\n",
       "      <td>persist sharing recommendations and project ve...</td>\n",
       "    </tr>\n",
       "    <tr>\n",
       "      <th>3</th>\n",
       "      <td>61</td>\n",
       "      <td>60</td>\n",
       "      <td>.vcmmeta showing as change gdqtgw</td>\n",
       "      <td>useruser   install drop  into declipse  user  ...</td>\n",
       "      <td>need custom .vcmignore comparemerge gdqt</td>\n",
       "      <td>useruser   install drop  into declipse  user  ...</td>\n",
       "      <td>1</td>\n",
       "      <td>.vcmmeta showing as change gdqtgw useruser   i...</td>\n",
       "      <td>need custom .vcmignore comparemerge gdqt useru...</td>\n",
       "    </tr>\n",
       "    <tr>\n",
       "      <th>4</th>\n",
       "      <td>94</td>\n",
       "      <td>2</td>\n",
       "      <td>repositories view all file types open to the t...</td>\n",
       "      <td>when browsing files in the repositories view i...</td>\n",
       "      <td>opening repository resources doesnt honor type...</td>\n",
       "      <td>opening repository resource  open the default ...</td>\n",
       "      <td>1</td>\n",
       "      <td>repositories view all file types open to the t...</td>\n",
       "      <td>opening repository resources doesnt honor type...</td>\n",
       "    </tr>\n",
       "  </tbody>\n",
       "</table>\n",
       "</div>"
      ],
      "text/plain": [
       "   Issue_id  Duplicated_issue  \\\n",
       "0        25             28126   \n",
       "1        40                20   \n",
       "2        48                22   \n",
       "3        61                60   \n",
       "4        94                 2   \n",
       "\n",
       "                                              Title1  \\\n",
       "0  cvs ui need vcm prefs  default repo connection gc   \n",
       "1                 need connect to team stream gcqpkw   \n",
       "2  make sure can future store other project refer...   \n",
       "3                  .vcmmeta showing as change gdqtgw   \n",
       "4  repositories view all file types open to the t...   \n",
       "\n",
       "                                        Description1  \\\n",
       "0  it would be helpful if there was a notion of d...   \n",
       "1  i would like to be able to connect to a team s...   \n",
       "2  project references come in three flavours  . p...   \n",
       "3  useruser   install drop  into declipse  user  ...   \n",
       "4  when browsing files in the repositories view i...   \n",
       "\n",
       "                                              Title2  \\\n",
       "0     wizards patch standard public cvs repositories   \n",
       "1                                    workspace files   \n",
       "2  persist sharing recommendations and project ve...   \n",
       "3           need custom .vcmignore comparemerge gdqt   \n",
       "4  opening repository resources doesnt honor type...   \n",
       "\n",
       "                                        Description2  Label  \\\n",
       "0  this patch adds a convenient way to check thin...      1   \n",
       "1  thought it would be useful if the set of repo ...      1   \n",
       "2  project descriptions dont store sharing recomm...      1   \n",
       "3  useruser   install drop  into declipse  user  ...      1   \n",
       "4  opening repository resource  open the default ...      1   \n",
       "\n",
       "                                             Report1  \\\n",
       "0  cvs ui need vcm prefs  default repo connection...   \n",
       "1  need connect to team stream gcqpkw i would lik...   \n",
       "2  make sure can future store other project refer...   \n",
       "3  .vcmmeta showing as change gdqtgw useruser   i...   \n",
       "4  repositories view all file types open to the t...   \n",
       "\n",
       "                                             Report2  \n",
       "0  wizards patch standard public cvs repositories...  \n",
       "1  workspace files thought it would be useful if ...  \n",
       "2  persist sharing recommendations and project ve...  \n",
       "3  need custom .vcmignore comparemerge gdqt useru...  \n",
       "4  opening repository resources doesnt honor type...  "
      ]
     },
     "execution_count": 9,
     "metadata": {},
     "output_type": "execute_result"
    }
   ],
   "source": [
    "#Combining columns Title1 and Description1 to form Report1 (indicating the first bug report). \n",
    "#Combining columns Title2 and Description2 to form column Report2(indicating the second bug report)\n",
    "df_eclipse['Report1'] = df_eclipse['Title1'] +\" \"+ df_eclipse['Description1']\n",
    "df_eclipse['Report2'] = df_eclipse['Title2'] +\" \"+ df_eclipse['Description2']\n",
    "df_eclipse.head()"
   ]
  },
  {
   "cell_type": "code",
   "execution_count": 10,
   "id": "2cbb91a1",
   "metadata": {},
   "outputs": [],
   "source": [
    "import re\n",
    "import string\n",
    "\n",
    "def transform(text):\n",
    "    \"\"\"\n",
    "    A Preprocessing method to remove punctuation, remove words containing numbers, make string lowercase.\n",
    "    \"\"\"\n",
    "    text = re.sub('\\w*\\d\\w*', '', text)\n",
    "    text = re.sub('\\w*\\f\\w*', '', text)\n",
    "    text = re.sub('\\(.*?\\)', '', text)\n",
    "    text = re.sub('\\[.*]\\)', '', text)\n",
    "    text = re.sub('[‘’“”…]', '', text)\n",
    "    text = re.sub('\\n', '', text)\n",
    "    text = re.sub('\\t', '', text)\n",
    "    text = text.lower()\n",
    "    text = re.sub('[%s]' % re.escape(string.punctuation), '', text)\n",
    "    return text\n",
    "\n",
    "preprocessed = lambda x: transform(x)"
   ]
  },
  {
   "cell_type": "code",
   "execution_count": 11,
   "id": "a194c8a1",
   "metadata": {},
   "outputs": [],
   "source": [
    "# preprocessing the Report1 and Report2 columns to remove the punctuation etc.\n",
    "df_eclipse['Report1'] = df_eclipse['Report1'].apply(transform)\n",
    "df_eclipse['Report2'] = df_eclipse['Report2'].apply(transform)\n"
   ]
  },
  {
   "cell_type": "code",
   "execution_count": 12,
   "id": "c42af3df",
   "metadata": {},
   "outputs": [
    {
     "data": {
      "text/html": [
       "<div>\n",
       "<style scoped>\n",
       "    .dataframe tbody tr th:only-of-type {\n",
       "        vertical-align: middle;\n",
       "    }\n",
       "\n",
       "    .dataframe tbody tr th {\n",
       "        vertical-align: top;\n",
       "    }\n",
       "\n",
       "    .dataframe thead th {\n",
       "        text-align: right;\n",
       "    }\n",
       "</style>\n",
       "<table border=\"1\" class=\"dataframe\">\n",
       "  <thead>\n",
       "    <tr style=\"text-align: right;\">\n",
       "      <th></th>\n",
       "      <th>Issue_id</th>\n",
       "      <th>Duplicated_issue</th>\n",
       "      <th>Title1</th>\n",
       "      <th>Description1</th>\n",
       "      <th>Title2</th>\n",
       "      <th>Description2</th>\n",
       "      <th>Label</th>\n",
       "      <th>Report1</th>\n",
       "      <th>Report2</th>\n",
       "    </tr>\n",
       "  </thead>\n",
       "  <tbody>\n",
       "    <tr>\n",
       "      <th>0</th>\n",
       "      <td>25</td>\n",
       "      <td>28126</td>\n",
       "      <td>cvs ui need vcm prefs  default repo connection gc</td>\n",
       "      <td>it would be helpful if there was a notion of d...</td>\n",
       "      <td>wizards patch standard public cvs repositories</td>\n",
       "      <td>this patch adds a convenient way to check thin...</td>\n",
       "      <td>1</td>\n",
       "      <td>cvs ui need vcm prefs  default repo connection...</td>\n",
       "      <td>wizards patch standard public cvs repositories...</td>\n",
       "    </tr>\n",
       "    <tr>\n",
       "      <th>1</th>\n",
       "      <td>40</td>\n",
       "      <td>20</td>\n",
       "      <td>need connect to team stream gcqpkw</td>\n",
       "      <td>i would like to be able to connect to a team s...</td>\n",
       "      <td>workspace files</td>\n",
       "      <td>thought it would be useful if the set of repo ...</td>\n",
       "      <td>1</td>\n",
       "      <td>need connect to team stream gcqpkw i would lik...</td>\n",
       "      <td>workspace files thought it would be useful if ...</td>\n",
       "    </tr>\n",
       "    <tr>\n",
       "      <th>2</th>\n",
       "      <td>48</td>\n",
       "      <td>22</td>\n",
       "      <td>make sure can future store other project refer...</td>\n",
       "      <td>project references come in three flavours  . p...</td>\n",
       "      <td>persist sharing recommendations and project ve...</td>\n",
       "      <td>project descriptions dont store sharing recomm...</td>\n",
       "      <td>1</td>\n",
       "      <td>make sure can future store other project refer...</td>\n",
       "      <td>persist sharing recommendations and project ve...</td>\n",
       "    </tr>\n",
       "    <tr>\n",
       "      <th>3</th>\n",
       "      <td>61</td>\n",
       "      <td>60</td>\n",
       "      <td>.vcmmeta showing as change gdqtgw</td>\n",
       "      <td>useruser   install drop  into declipse  user  ...</td>\n",
       "      <td>need custom .vcmignore comparemerge gdqt</td>\n",
       "      <td>useruser   install drop  into declipse  user  ...</td>\n",
       "      <td>1</td>\n",
       "      <td>vcmmeta showing as change gdqtgw useruser   in...</td>\n",
       "      <td>need custom vcmignore comparemerge gdqt userus...</td>\n",
       "    </tr>\n",
       "    <tr>\n",
       "      <th>4</th>\n",
       "      <td>94</td>\n",
       "      <td>2</td>\n",
       "      <td>repositories view all file types open to the t...</td>\n",
       "      <td>when browsing files in the repositories view i...</td>\n",
       "      <td>opening repository resources doesnt honor type...</td>\n",
       "      <td>opening repository resource  open the default ...</td>\n",
       "      <td>1</td>\n",
       "      <td>repositories view all file types open to the t...</td>\n",
       "      <td>opening repository resources doesnt honor type...</td>\n",
       "    </tr>\n",
       "  </tbody>\n",
       "</table>\n",
       "</div>"
      ],
      "text/plain": [
       "   Issue_id  Duplicated_issue  \\\n",
       "0        25             28126   \n",
       "1        40                20   \n",
       "2        48                22   \n",
       "3        61                60   \n",
       "4        94                 2   \n",
       "\n",
       "                                              Title1  \\\n",
       "0  cvs ui need vcm prefs  default repo connection gc   \n",
       "1                 need connect to team stream gcqpkw   \n",
       "2  make sure can future store other project refer...   \n",
       "3                  .vcmmeta showing as change gdqtgw   \n",
       "4  repositories view all file types open to the t...   \n",
       "\n",
       "                                        Description1  \\\n",
       "0  it would be helpful if there was a notion of d...   \n",
       "1  i would like to be able to connect to a team s...   \n",
       "2  project references come in three flavours  . p...   \n",
       "3  useruser   install drop  into declipse  user  ...   \n",
       "4  when browsing files in the repositories view i...   \n",
       "\n",
       "                                              Title2  \\\n",
       "0     wizards patch standard public cvs repositories   \n",
       "1                                    workspace files   \n",
       "2  persist sharing recommendations and project ve...   \n",
       "3           need custom .vcmignore comparemerge gdqt   \n",
       "4  opening repository resources doesnt honor type...   \n",
       "\n",
       "                                        Description2  Label  \\\n",
       "0  this patch adds a convenient way to check thin...      1   \n",
       "1  thought it would be useful if the set of repo ...      1   \n",
       "2  project descriptions dont store sharing recomm...      1   \n",
       "3  useruser   install drop  into declipse  user  ...      1   \n",
       "4  opening repository resource  open the default ...      1   \n",
       "\n",
       "                                             Report1  \\\n",
       "0  cvs ui need vcm prefs  default repo connection...   \n",
       "1  need connect to team stream gcqpkw i would lik...   \n",
       "2  make sure can future store other project refer...   \n",
       "3  vcmmeta showing as change gdqtgw useruser   in...   \n",
       "4  repositories view all file types open to the t...   \n",
       "\n",
       "                                             Report2  \n",
       "0  wizards patch standard public cvs repositories...  \n",
       "1  workspace files thought it would be useful if ...  \n",
       "2  persist sharing recommendations and project ve...  \n",
       "3  need custom vcmignore comparemerge gdqt userus...  \n",
       "4  opening repository resources doesnt honor type...  "
      ]
     },
     "execution_count": 12,
     "metadata": {},
     "output_type": "execute_result"
    }
   ],
   "source": [
    "#checking if everything okay.\n",
    "df_eclipse.head()"
   ]
  },
  {
   "cell_type": "code",
   "execution_count": 13,
   "id": "eb16e1c6",
   "metadata": {},
   "outputs": [],
   "source": [
    "#we can drop issue_id, Duplicated_issue, title1, description1, title2, descriprtion2 from our dataframe.\n",
    "df_eclipse.drop(columns = ['Issue_id', 'Duplicated_issue','Title1','Description1', 'Title2', 'Description2'], inplace=True)"
   ]
  },
  {
   "cell_type": "code",
   "execution_count": 14,
   "id": "0981c3f6",
   "metadata": {},
   "outputs": [
    {
     "data": {
      "text/html": [
       "<div>\n",
       "<style scoped>\n",
       "    .dataframe tbody tr th:only-of-type {\n",
       "        vertical-align: middle;\n",
       "    }\n",
       "\n",
       "    .dataframe tbody tr th {\n",
       "        vertical-align: top;\n",
       "    }\n",
       "\n",
       "    .dataframe thead th {\n",
       "        text-align: right;\n",
       "    }\n",
       "</style>\n",
       "<table border=\"1\" class=\"dataframe\">\n",
       "  <thead>\n",
       "    <tr style=\"text-align: right;\">\n",
       "      <th></th>\n",
       "      <th>Label</th>\n",
       "      <th>Report1</th>\n",
       "      <th>Report2</th>\n",
       "    </tr>\n",
       "  </thead>\n",
       "  <tbody>\n",
       "    <tr>\n",
       "      <th>0</th>\n",
       "      <td>1</td>\n",
       "      <td>cvs ui need vcm prefs  default repo connection...</td>\n",
       "      <td>wizards patch standard public cvs repositories...</td>\n",
       "    </tr>\n",
       "    <tr>\n",
       "      <th>1</th>\n",
       "      <td>1</td>\n",
       "      <td>need connect to team stream gcqpkw i would lik...</td>\n",
       "      <td>workspace files thought it would be useful if ...</td>\n",
       "    </tr>\n",
       "    <tr>\n",
       "      <th>2</th>\n",
       "      <td>1</td>\n",
       "      <td>make sure can future store other project refer...</td>\n",
       "      <td>persist sharing recommendations and project ve...</td>\n",
       "    </tr>\n",
       "    <tr>\n",
       "      <th>3</th>\n",
       "      <td>1</td>\n",
       "      <td>vcmmeta showing as change gdqtgw useruser   in...</td>\n",
       "      <td>need custom vcmignore comparemerge gdqt userus...</td>\n",
       "    </tr>\n",
       "    <tr>\n",
       "      <th>4</th>\n",
       "      <td>1</td>\n",
       "      <td>repositories view all file types open to the t...</td>\n",
       "      <td>opening repository resources doesnt honor type...</td>\n",
       "    </tr>\n",
       "  </tbody>\n",
       "</table>\n",
       "</div>"
      ],
      "text/plain": [
       "   Label                                            Report1  \\\n",
       "0      1  cvs ui need vcm prefs  default repo connection...   \n",
       "1      1  need connect to team stream gcqpkw i would lik...   \n",
       "2      1  make sure can future store other project refer...   \n",
       "3      1  vcmmeta showing as change gdqtgw useruser   in...   \n",
       "4      1  repositories view all file types open to the t...   \n",
       "\n",
       "                                             Report2  \n",
       "0  wizards patch standard public cvs repositories...  \n",
       "1  workspace files thought it would be useful if ...  \n",
       "2  persist sharing recommendations and project ve...  \n",
       "3  need custom vcmignore comparemerge gdqt userus...  \n",
       "4  opening repository resources doesnt honor type...  "
      ]
     },
     "execution_count": 14,
     "metadata": {},
     "output_type": "execute_result"
    }
   ],
   "source": [
    "#dataframe after dropping the columns in the above step.\n",
    "\n",
    "df_eclipse.head()"
   ]
  },
  {
   "cell_type": "code",
   "execution_count": 15,
   "id": "1ce078d1",
   "metadata": {},
   "outputs": [],
   "source": [
    "# used tf-idf vectorizer. TF: frequency of word in a bug report. IDF: how important a word is in context to different\n",
    "# bug reports. \n",
    "tfidf_eclipse = TfidfVectorizer(analyzer = 'word',\n",
    "                        stop_words = 'english',\n",
    "                        lowercase = True,\n",
    "                        max_features = 300,\n",
    "                        norm = 'l1')"
   ]
  },
  {
   "cell_type": "code",
   "execution_count": 16,
   "id": "a4e98e7d",
   "metadata": {},
   "outputs": [
    {
     "data": {
      "text/plain": [
       "TfidfVectorizer(max_features=300, norm='l1', stop_words='english')"
      ]
     },
     "execution_count": 16,
     "metadata": {},
     "output_type": "execute_result"
    }
   ],
   "source": [
    "# training the tfidf model in the whole bug report words corpus\n",
    "bag_of_words_eclipse = pd.concat([df_eclipse.Report1,df_eclipse.Report2], axis = 0)\n",
    "tfidf_eclipse.fit(bag_of_words_eclipse)"
   ]
  },
  {
   "cell_type": "code",
   "execution_count": 17,
   "id": "b7ae6209",
   "metadata": {},
   "outputs": [],
   "source": [
    "# vectorizing both the bug reports individually\n",
    "duplicate_report1 = tfidf_eclipse.transform(df_eclipse.Report1)\n",
    "duplicate_report2 = tfidf_eclipse.transform(df_eclipse.Report2)"
   ]
  },
  {
   "cell_type": "code",
   "execution_count": 18,
   "id": "4efdd7e6",
   "metadata": {},
   "outputs": [
    {
     "data": {
      "text/plain": [
       "<46908x300 sparse matrix of type '<class 'numpy.float64'>'\n",
       "\twith 645204 stored elements in Compressed Sparse Row format>"
      ]
     },
     "execution_count": 18,
     "metadata": {},
     "output_type": "execute_result"
    }
   ],
   "source": [
    "duplicate_report1"
   ]
  },
  {
   "cell_type": "code",
   "execution_count": 19,
   "id": "123f3937",
   "metadata": {},
   "outputs": [
    {
     "data": {
      "text/plain": [
       "<46908x300 sparse matrix of type '<class 'numpy.float64'>'\n",
       "\twith 643235 stored elements in Compressed Sparse Row format>"
      ]
     },
     "execution_count": 19,
     "metadata": {},
     "output_type": "execute_result"
    }
   ],
   "source": [
    "duplicate_report2"
   ]
  },
  {
   "cell_type": "code",
   "execution_count": 20,
   "id": "5357e198",
   "metadata": {},
   "outputs": [],
   "source": [
    "# Since we are looking at pairs of data, we will be taking the difference of all bug reports 1 \n",
    "#  and bug report 2 pairs with this. Resulting matrix has same no of rows and \n",
    "# a vector describing the relationship between the two bug reports\n",
    "X = abs(duplicate_report1 - duplicate_report2)\n",
    "Y = df_eclipse['Label']"
   ]
  },
  {
   "cell_type": "code",
   "execution_count": 21,
   "id": "caef364e",
   "metadata": {},
   "outputs": [],
   "source": [
    "from sklearn.model_selection import train_test_split\n",
    "from sklearn.linear_model import LogisticRegression\n",
    "from sklearn.ensemble import RandomForestClassifier"
   ]
  },
  {
   "cell_type": "code",
   "execution_count": 22,
   "id": "1e911953",
   "metadata": {},
   "outputs": [],
   "source": [
    "#Train and test dataset split (80% train data and 20% test data)\n",
    "X_train, X_test, y_train, y_test = train_test_split(X, Y, test_size=0.2, random_state=42)"
   ]
  },
  {
   "cell_type": "markdown",
   "id": "d4f9e6c3",
   "metadata": {},
   "source": [
    "### Random Forest"
   ]
  },
  {
   "cell_type": "code",
   "execution_count": 23,
   "id": "15b107b3",
   "metadata": {},
   "outputs": [],
   "source": [
    "#Defining a random forest model with default hyperparameters.\n",
    "rf = RandomForestClassifier()"
   ]
  },
  {
   "cell_type": "code",
   "execution_count": 24,
   "id": "0d42040e",
   "metadata": {},
   "outputs": [
    {
     "data": {
      "text/plain": [
       "RandomForestClassifier()"
      ]
     },
     "execution_count": 24,
     "metadata": {},
     "output_type": "execute_result"
    }
   ],
   "source": [
    "#training the model on the training data set\n",
    "rf.fit(X_train, y_train)"
   ]
  },
  {
   "cell_type": "code",
   "execution_count": 25,
   "id": "93706554",
   "metadata": {},
   "outputs": [],
   "source": [
    "#predicting on the test data set.\n",
    "y_pred_test = rf.predict(X_test)\n"
   ]
  },
  {
   "cell_type": "code",
   "execution_count": 26,
   "id": "eae5729e",
   "metadata": {},
   "outputs": [],
   "source": [
    "from sklearn.metrics import accuracy_score, confusion_matrix, classification_report,roc_auc_score\n"
   ]
  },
  {
   "cell_type": "code",
   "execution_count": 27,
   "id": "3d1a9b8a",
   "metadata": {},
   "outputs": [
    {
     "data": {
      "text/plain": [
       "array([[6778,   90],\n",
       "       [1924,  590]], dtype=int64)"
      ]
     },
     "execution_count": 27,
     "metadata": {},
     "output_type": "execute_result"
    }
   ],
   "source": [
    "# confusion matrix for the rf model.\n",
    "confusion_matrix(y_test, y_pred_test)"
   ]
  },
  {
   "cell_type": "code",
   "execution_count": 28,
   "id": "ad69a56e",
   "metadata": {},
   "outputs": [
    {
     "name": "stdout",
     "output_type": "stream",
     "text": [
      "              precision    recall  f1-score   support\n",
      "\n",
      "           0       0.78      0.99      0.87      6868\n",
      "           1       0.87      0.23      0.37      2514\n",
      "\n",
      "    accuracy                           0.79      9382\n",
      "   macro avg       0.82      0.61      0.62      9382\n",
      "weighted avg       0.80      0.79      0.74      9382\n",
      "\n"
     ]
    }
   ],
   "source": [
    "#classification report to evaluate the performance of the rf model.\n",
    "print(classification_report(y_test, y_pred_test))"
   ]
  },
  {
   "cell_type": "code",
   "execution_count": 31,
   "id": "fdd49f38",
   "metadata": {},
   "outputs": [
    {
     "name": "stdout",
     "output_type": "stream",
     "text": [
      "Random forest: ROC AUC=0.751\n"
     ]
    }
   ],
   "source": [
    "#calculating the ROC AUC score for the rf model.\n",
    "rf_probs = rf.predict_proba(X_test)\n",
    "rf_probs = rf_probs[:, 1]\n",
    "# calculate scores\n",
    "rf_auc = roc_auc_score(y_test, rf_probs)\n",
    "print('Random forest: ROC AUC=%.3f' % (rf_auc))"
   ]
  },
  {
   "cell_type": "markdown",
   "id": "55c924ba",
   "metadata": {},
   "source": [
    "#### Another TF-IDF model"
   ]
  },
  {
   "cell_type": "code",
   "execution_count": 29,
   "id": "ec3eb2a3",
   "metadata": {},
   "outputs": [],
   "source": [
    "# used tf-idf vectorizer. TF: frequency of word in a bug report. IDF: how important a word is in context to different\n",
    "# bug reports. Different parameters than the tf-idf model used above. \n",
    "\n",
    "tfidf_eclipse = TfidfVectorizer(analyzer = 'word',\n",
    "                        stop_words = 'english',\n",
    "                        lowercase = True,\n",
    "                        max_features = 500,\n",
    "                        norm = 'l2')"
   ]
  },
  {
   "cell_type": "code",
   "execution_count": 30,
   "id": "07381482",
   "metadata": {},
   "outputs": [
    {
     "data": {
      "text/plain": [
       "TfidfVectorizer(max_features=500, stop_words='english')"
      ]
     },
     "execution_count": 30,
     "metadata": {},
     "output_type": "execute_result"
    }
   ],
   "source": [
    "# training the tfidf model in the whole bug report words corpus\n",
    "bag_of_words_eclipse = pd.concat([df_eclipse.Report1,df_eclipse.Report2], axis = 0)\n",
    "tfidf_eclipse.fit(bag_of_words_eclipse)"
   ]
  },
  {
   "cell_type": "code",
   "execution_count": 31,
   "id": "1ac35863",
   "metadata": {},
   "outputs": [],
   "source": [
    "# vectorizing both the bug reports individually\n",
    "duplicate_report1 = tfidf_eclipse.transform(df_eclipse.Report1)\n",
    "duplicate_report2 = tfidf_eclipse.transform(df_eclipse.Report2)"
   ]
  },
  {
   "cell_type": "code",
   "execution_count": 32,
   "id": "00b56e97",
   "metadata": {},
   "outputs": [],
   "source": [
    "# Since we are looking at pairs of data, we will be taking the difference of all bug reports 1 \n",
    "# one and bug report 2 pairs with this. Resulting matrix has same no of rows and \n",
    "# a vector describing the relationship between the two bug reports\n",
    "X = abs(duplicate_report1 - duplicate_report2)\n",
    "Y = df_eclipse['Label']"
   ]
  },
  {
   "cell_type": "code",
   "execution_count": 33,
   "id": "165ebba2",
   "metadata": {},
   "outputs": [],
   "source": [
    "#Train and test dataset split (80% train data and 20% test data)\n",
    "X_train, X_test, y_train, y_test = train_test_split(X, Y, test_size=0.2, random_state=42)"
   ]
  },
  {
   "cell_type": "code",
   "execution_count": 34,
   "id": "47182502",
   "metadata": {},
   "outputs": [],
   "source": [
    "#Defining a random forest model with custom hyperparameters.\n",
    "rf = RandomForestClassifier(n_estimators = 200,\n",
    "                            min_samples_leaf = 10,\n",
    "                            n_jobs = -1)"
   ]
  },
  {
   "cell_type": "code",
   "execution_count": 35,
   "id": "84743cde",
   "metadata": {},
   "outputs": [
    {
     "data": {
      "text/plain": [
       "RandomForestClassifier(min_samples_leaf=10, n_estimators=200, n_jobs=-1)"
      ]
     },
     "execution_count": 35,
     "metadata": {},
     "output_type": "execute_result"
    }
   ],
   "source": [
    "#training the model on the training data set\n",
    "rf.fit(X_train, y_train)"
   ]
  },
  {
   "cell_type": "code",
   "execution_count": 36,
   "id": "051059b5",
   "metadata": {},
   "outputs": [],
   "source": [
    "#predicting on the test data set.\n",
    "y_pred_test = rf.predict(X_test)\n"
   ]
  },
  {
   "cell_type": "code",
   "execution_count": 37,
   "id": "43bc4e76",
   "metadata": {},
   "outputs": [
    {
     "data": {
      "text/plain": [
       "array([[6818,   50],\n",
       "       [2078,  436]], dtype=int64)"
      ]
     },
     "execution_count": 37,
     "metadata": {},
     "output_type": "execute_result"
    }
   ],
   "source": [
    "# confusion matrix for the above rf model\n",
    "confusion_matrix(y_test, y_pred_test)"
   ]
  },
  {
   "cell_type": "code",
   "execution_count": 38,
   "id": "13d4895d",
   "metadata": {},
   "outputs": [
    {
     "name": "stdout",
     "output_type": "stream",
     "text": [
      "              precision    recall  f1-score   support\n",
      "\n",
      "           0       0.77      0.99      0.87      6868\n",
      "           1       0.90      0.17      0.29      2514\n",
      "\n",
      "    accuracy                           0.77      9382\n",
      "   macro avg       0.83      0.58      0.58      9382\n",
      "weighted avg       0.80      0.77      0.71      9382\n",
      "\n"
     ]
    }
   ],
   "source": [
    "#classification report to evaluate the performance of the rf model.\n",
    "print(classification_report(y_test, y_pred_test))"
   ]
  },
  {
   "cell_type": "code",
   "execution_count": 39,
   "id": "ad10b428",
   "metadata": {},
   "outputs": [
    {
     "name": "stdout",
     "output_type": "stream",
     "text": [
      "Random forest: ROC AUC=0.791\n"
     ]
    }
   ],
   "source": [
    "#calculating the ROC AUC score for the rf model.\n",
    "rf_probs = rf.predict_proba(X_test)\n",
    "rf_probs = rf_probs[:, 1]\n",
    "# calculate scores\n",
    "rf_auc = roc_auc_score(y_test, rf_probs)\n",
    "print('Random forest: ROC AUC=%.3f' % (rf_auc))"
   ]
  },
  {
   "cell_type": "code",
   "execution_count": null,
   "id": "6913eda2",
   "metadata": {},
   "outputs": [],
   "source": []
  }
 ],
 "metadata": {
  "kernelspec": {
   "display_name": "Python 3",
   "language": "python",
   "name": "python3"
  },
  "language_info": {
   "codemirror_mode": {
    "name": "ipython",
    "version": 3
   },
   "file_extension": ".py",
   "mimetype": "text/x-python",
   "name": "python",
   "nbconvert_exporter": "python",
   "pygments_lexer": "ipython3",
   "version": "3.8.8"
  }
 },
 "nbformat": 4,
 "nbformat_minor": 5
}
